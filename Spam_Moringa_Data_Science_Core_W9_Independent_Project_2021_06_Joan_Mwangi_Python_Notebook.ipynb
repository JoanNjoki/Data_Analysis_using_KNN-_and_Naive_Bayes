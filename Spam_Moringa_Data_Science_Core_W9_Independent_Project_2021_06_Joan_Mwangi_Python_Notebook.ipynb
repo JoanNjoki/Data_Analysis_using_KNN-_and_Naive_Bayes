{
  "nbformat": 4,
  "nbformat_minor": 0,
  "metadata": {
    "colab": {
      "name": "Spam_Moringa_Data_Science_Core_W9_Independent_Project_2021_06_Joan_Mwangi_Python_Notebook",
      "provenance": [],
      "collapsed_sections": [
        "kLG2VTrnTvYL",
        "XecOwPNorl2W",
        "J4wfHZwQrs-t",
        "a9BPYqunry97",
        "7KMRBJ7zr9HD",
        "zSGyg6kWsBUl",
        "iUNbvIvnT7ep",
        "OI3P3YnHUEBk",
        "ckfufNrcUHeH",
        "6XC_g-zKxe-r",
        "FlBMxEDBUc9B",
        "rF2ABPsHUtbZ",
        "vTbdjSrhVIiT",
        "lQ2G4ZPDVOXE",
        "xrmHVMVsVS--",
        "HPQviDmNtta8",
        "qjFHK1CKty7o",
        "HSsicSdvt4Zs"
      ],
      "include_colab_link": true
    },
    "kernelspec": {
      "name": "python3",
      "display_name": "Python 3"
    }
  },
  "cells": [
    {
      "cell_type": "markdown",
      "metadata": {
        "id": "view-in-github",
        "colab_type": "text"
      },
      "source": [
        "<a href=\"https://colab.research.google.com/github/JoanNjoki/Data_Analysis_using_KNN-_and_Naive_Bayes/blob/main/Spam_Moringa_Data_Science_Core_W9_Independent_Project_2021_06_Joan_Mwangi_Python_Notebook.ipynb\" target=\"_parent\"><img src=\"https://colab.research.google.com/assets/colab-badge.svg\" alt=\"Open In Colab\"/></a>"
      ]
    },
    {
      "cell_type": "markdown",
      "metadata": {
        "id": "xMxtPsqcTsSH"
      },
      "source": [
        "# Spam Mail Data Analysis"
      ]
    },
    {
      "cell_type": "markdown",
      "metadata": {
        "id": "kLG2VTrnTvYL"
      },
      "source": [
        "## 1. Defining the Question"
      ]
    },
    {
      "cell_type": "markdown",
      "metadata": {
        "id": "XecOwPNorl2W"
      },
      "source": [
        "### a)  The Question"
      ]
    },
    {
      "cell_type": "markdown",
      "metadata": {
        "id": "9ozBnKfehSAw"
      },
      "source": [
        "> The rise in junk mail (or commonly referred to as spam) in our email boxes creates a need to use machine learning to filter unwarranted mails. Basing it on features provided within this  dataset, I'll predict whether or not a mail is spam or a ham(solicited email)."
      ]
    },
    {
      "cell_type": "markdown",
      "metadata": {
        "id": "J4wfHZwQrs-t"
      },
      "source": [
        "### b)  Metric for Success"
      ]
    },
    {
      "cell_type": "markdown",
      "metadata": {
        "id": "Q3_S-hKup4YV"
      },
      "source": [
        "> To make a successful prediction based on the accuracy score attained from the various train and test splits."
      ]
    },
    {
      "cell_type": "markdown",
      "metadata": {
        "id": "a9BPYqunry97"
      },
      "source": [
        "### c) Context "
      ]
    },
    {
      "cell_type": "markdown",
      "metadata": {
        "id": "TR_LHRNbqY-2"
      },
      "source": [
        "> There is a surge of mails coming through the mail boxes that arent warranted by the user. Words such as buy now, act now, click here and get it now fill the mail boxes. Correctly classifying emails that should land in spam mails and those that dont saves time for the user. Reducing false positives is required as mails that arent spam can be stored in the spam category making the user miss out on vital information."
      ]
    },
    {
      "cell_type": "markdown",
      "metadata": {
        "id": "7KMRBJ7zr9HD"
      },
      "source": [
        "### d)  Experimental Design"
      ]
    },
    {
      "cell_type": "markdown",
      "metadata": {
        "id": "dL0SvkrNs6MT"
      },
      "source": [
        "> #### These are the steps I'll use in my analysis:\n",
        "* Importing the necessary libraries\n",
        "* Loading the dataset\n",
        "* Peform data cleaning\n",
        "* Carrying out exploratory data analysis\n",
        "* Fitting the model and making predictions\n",
        "* Challenging the solution\n",
        "* Making a conclusion based on the analysis"
      ]
    },
    {
      "cell_type": "markdown",
      "metadata": {
        "id": "zSGyg6kWsBUl"
      },
      "source": [
        "### e) Data Relevance"
      ]
    },
    {
      "cell_type": "markdown",
      "metadata": {
        "id": "UsshZ6lmtiKJ"
      },
      "source": [
        "> Features such as word frequency are essential in identifying the probability of classifying a mail as spam or ham. This analysis is also vital as businesses depend on accessing important information without going through piles of unnecessary junk mails. "
      ]
    },
    {
      "cell_type": "markdown",
      "metadata": {
        "id": "iUNbvIvnT7ep"
      },
      "source": [
        "## 2. Reading the Data"
      ]
    },
    {
      "cell_type": "code",
      "metadata": {
        "id": "L49sYvUKJm_e"
      },
      "source": [
        "#loading libraries into the environment\n",
        "import pandas as pd\n",
        "import numpy as np\n",
        "import matplotlib.pyplot as plt\n",
        "import seaborn as sns"
      ],
      "execution_count": 2,
      "outputs": []
    },
    {
      "cell_type": "code",
      "metadata": {
        "id": "XJn2KjW-WMlG"
      },
      "source": [
        "# loading the dataset into environment\n",
        "spam = pd.read_csv('/content/spambase.data')\n"
      ],
      "execution_count": 3,
      "outputs": []
    },
    {
      "cell_type": "code",
      "metadata": {
        "colab": {
          "base_uri": "https://localhost:8080/"
        },
        "id": "aokHAvsWwpgA",
        "outputId": "084711fb-b1fc-4da8-85a5-1f1c80bdaa9f"
      },
      "source": [
        "with open('/content/spambase.names') as names:\n",
        "  print(names.read())\n",
        "spam.columns = ['word_freq_make','word_freq_address','word_freq_all','word_freq_3d','word_freq_our','word_freq_over','word_freq_remove','word_freq_internet','word_freq_order','word_freq_mail','word_freq_receive','word_freq_will','word_freq_people','word_freq_report','word_freq_addresses','word_freq_free','word_freq_business',\n",
        "             'word_freq_email','word_freq_you','word_freq_credit','word_freq_your','word_freq_font','word_freq_000','word_freq_money','word_freq_hp','word_freq_hpl','word_freq_george','word_freq_650','word_freq_lab','word_freq_labs','word_freq_telnet','word_freq_857','word_freq_data','word_freq_415','word_freq_85','word_freq_technology',\n",
        "              'word_freq_1999','word_freq_parts','word_freq_pm','word_freq_direct','word_freq_cs','word_freq_meeting','word_freq_original','word_freq_project','word_freq_re','word_freq_edu','word_freq_table','word_freq_conference','char_freq_;','char_freq_(','char_freq_[','char_freq_!','char_freq_$','char_freq_#','capital_run_length_average','capital_run_length_longest','capital_run_length_total','spam_or_not']"
      ],
      "execution_count": 44,
      "outputs": [
        {
          "output_type": "stream",
          "text": [
            "| SPAM E-MAIL DATABASE ATTRIBUTES (in .names format)\n",
            "|\n",
            "| 48 continuous real [0,100] attributes of type word_freq_WORD \n",
            "| = percentage of words in the e-mail that match WORD,\n",
            "| i.e. 100 * (number of times the WORD appears in the e-mail) / \n",
            "| total number of words in e-mail.  A \"word\" in this case is any \n",
            "| string of alphanumeric characters bounded by non-alphanumeric \n",
            "| characters or end-of-string.\n",
            "|\n",
            "| 6 continuous real [0,100] attributes of type char_freq_CHAR\n",
            "| = percentage of characters in the e-mail that match CHAR,\n",
            "| i.e. 100 * (number of CHAR occurences) / total characters in e-mail\n",
            "|\n",
            "| 1 continuous real [1,...] attribute of type capital_run_length_average\n",
            "| = average length of uninterrupted sequences of capital letters\n",
            "|\n",
            "| 1 continuous integer [1,...] attribute of type capital_run_length_longest\n",
            "| = length of longest uninterrupted sequence of capital letters\n",
            "|\n",
            "| 1 continuous integer [1,...] attribute of type capital_run_length_total\n",
            "| = sum of length of uninterrupted sequences of capital letters\n",
            "| = total number of capital letters in the e-mail\n",
            "|\n",
            "| 1 nominal {0,1} class attribute of type spam\n",
            "| = denotes whether the e-mail was considered spam (1) or not (0), \n",
            "| i.e. unsolicited commercial e-mail.  \n",
            "|\n",
            "| For more information, see file 'spambase.DOCUMENTATION' at the\n",
            "| UCI Machine Learning Repository: http://www.ics.uci.edu/~mlearn/MLRepository.html\n",
            "\n",
            "\n",
            "1, 0.    | spam, non-spam classes\n",
            "\n",
            "word_freq_make:         continuous.\n",
            "word_freq_address:      continuous.\n",
            "word_freq_all:          continuous.\n",
            "word_freq_3d:           continuous.\n",
            "word_freq_our:          continuous.\n",
            "word_freq_over:         continuous.\n",
            "word_freq_remove:       continuous.\n",
            "word_freq_internet:     continuous.\n",
            "word_freq_order:        continuous.\n",
            "word_freq_mail:         continuous.\n",
            "word_freq_receive:      continuous.\n",
            "word_freq_will:         continuous.\n",
            "word_freq_people:       continuous.\n",
            "word_freq_report:       continuous.\n",
            "word_freq_addresses:    continuous.\n",
            "word_freq_free:         continuous.\n",
            "word_freq_business:     continuous.\n",
            "word_freq_email:        continuous.\n",
            "word_freq_you:          continuous.\n",
            "word_freq_credit:       continuous.\n",
            "word_freq_your:         continuous.\n",
            "word_freq_font:         continuous.\n",
            "word_freq_000:          continuous.\n",
            "word_freq_money:        continuous.\n",
            "word_freq_hp:           continuous.\n",
            "word_freq_hpl:          continuous.\n",
            "word_freq_george:       continuous.\n",
            "word_freq_650:          continuous.\n",
            "word_freq_lab:          continuous.\n",
            "word_freq_labs:         continuous.\n",
            "word_freq_telnet:       continuous.\n",
            "word_freq_857:          continuous.\n",
            "word_freq_data:         continuous.\n",
            "word_freq_415:          continuous.\n",
            "word_freq_85:           continuous.\n",
            "word_freq_technology:   continuous.\n",
            "word_freq_1999:         continuous.\n",
            "word_freq_parts:        continuous.\n",
            "word_freq_pm:           continuous.\n",
            "word_freq_direct:       continuous.\n",
            "word_freq_cs:           continuous.\n",
            "word_freq_meeting:      continuous.\n",
            "word_freq_original:     continuous.\n",
            "word_freq_project:      continuous.\n",
            "word_freq_re:           continuous.\n",
            "word_freq_edu:          continuous.\n",
            "word_freq_table:        continuous.\n",
            "word_freq_conference:   continuous.\n",
            "char_freq_;:            continuous.\n",
            "char_freq_(:            continuous.\n",
            "char_freq_[:            continuous.\n",
            "char_freq_!:            continuous.\n",
            "char_freq_$:            continuous.\n",
            "char_freq_#:            continuous.\n",
            "capital_run_length_average: continuous.\n",
            "capital_run_length_longest: continuous.\n",
            "capital_run_length_total:   continuous.\n",
            "\n"
          ],
          "name": "stdout"
        }
      ]
    },
    {
      "cell_type": "markdown",
      "metadata": {
        "id": "OI3P3YnHUEBk"
      },
      "source": [
        "\n",
        "\n",
        "## 3. Checking the Data"
      ]
    },
    {
      "cell_type": "code",
      "metadata": {
        "id": "YjSVNwgptHxY",
        "colab": {
          "base_uri": "https://localhost:8080/"
        },
        "outputId": "29707df4-d461-4068-9afe-d6ee16d4d6bf"
      },
      "source": [
        "# Determining the no. of records in our dataset\n",
        "#\n",
        "print('This dataset has ' + str(spam.shape) + ' rows and columns')"
      ],
      "execution_count": 14,
      "outputs": [
        {
          "output_type": "stream",
          "text": [
            "This dataset has (4600, 58) rows and columns\n"
          ],
          "name": "stdout"
        }
      ]
    },
    {
      "cell_type": "code",
      "metadata": {
        "id": "xHhTw5eKWr0n",
        "colab": {
          "base_uri": "https://localhost:8080/",
          "height": 223
        },
        "outputId": "d3d2fa5a-c971-4799-b3eb-3c1d9a29b67e"
      },
      "source": [
        "# Previewing the last rows\n",
        "spam.head()"
      ],
      "execution_count": 15,
      "outputs": [
        {
          "output_type": "execute_result",
          "data": {
            "text/html": [
              "<div>\n",
              "<style scoped>\n",
              "    .dataframe tbody tr th:only-of-type {\n",
              "        vertical-align: middle;\n",
              "    }\n",
              "\n",
              "    .dataframe tbody tr th {\n",
              "        vertical-align: top;\n",
              "    }\n",
              "\n",
              "    .dataframe thead th {\n",
              "        text-align: right;\n",
              "    }\n",
              "</style>\n",
              "<table border=\"1\" class=\"dataframe\">\n",
              "  <thead>\n",
              "    <tr style=\"text-align: right;\">\n",
              "      <th></th>\n",
              "      <th>word_freq_make</th>\n",
              "      <th>word_freq_address</th>\n",
              "      <th>word_freq_all</th>\n",
              "      <th>word_freq_3d</th>\n",
              "      <th>word_freq_our</th>\n",
              "      <th>word_freq_over</th>\n",
              "      <th>word_freq_remove</th>\n",
              "      <th>word_freq_internet</th>\n",
              "      <th>word_freq_order</th>\n",
              "      <th>word_freq_mail</th>\n",
              "      <th>word_freq_receive</th>\n",
              "      <th>word_freq_will</th>\n",
              "      <th>word_freq_people</th>\n",
              "      <th>word_freq_report</th>\n",
              "      <th>word_freq_addresses</th>\n",
              "      <th>word_freq_free</th>\n",
              "      <th>word_freq_business</th>\n",
              "      <th>word_freq_email</th>\n",
              "      <th>word_freq_you</th>\n",
              "      <th>word_freq_credit</th>\n",
              "      <th>word_freq_your</th>\n",
              "      <th>word_freq_font</th>\n",
              "      <th>word_freq_000</th>\n",
              "      <th>word_freq_money</th>\n",
              "      <th>word_freq_hp</th>\n",
              "      <th>word_freq_hpl</th>\n",
              "      <th>word_freq_george</th>\n",
              "      <th>word_freq_650</th>\n",
              "      <th>word_freq_lab</th>\n",
              "      <th>word_freq_labs</th>\n",
              "      <th>word_freq_telnet</th>\n",
              "      <th>word_freq_857</th>\n",
              "      <th>word_freq_data</th>\n",
              "      <th>word_freq_415</th>\n",
              "      <th>word_freq_85</th>\n",
              "      <th>word_freq_technology</th>\n",
              "      <th>word_freq_1999</th>\n",
              "      <th>word_freq_parts</th>\n",
              "      <th>word_freq_pm</th>\n",
              "      <th>word_freq_direct</th>\n",
              "      <th>word_freq_cs</th>\n",
              "      <th>word_freq_meeting</th>\n",
              "      <th>word_freq_original</th>\n",
              "      <th>word_freq_project</th>\n",
              "      <th>word_freq_re</th>\n",
              "      <th>word_freq_edu</th>\n",
              "      <th>word_freq_table</th>\n",
              "      <th>word_freq_conference</th>\n",
              "      <th>char_freq_;</th>\n",
              "      <th>char_freq_(</th>\n",
              "      <th>char_freq_[</th>\n",
              "      <th>char_freq_!</th>\n",
              "      <th>char_freq_$</th>\n",
              "      <th>char_freq_#</th>\n",
              "      <th>capital_run_length_average</th>\n",
              "      <th>capital_run_length_longest</th>\n",
              "      <th>capital_run_length_total</th>\n",
              "      <th>spam_or_not</th>\n",
              "    </tr>\n",
              "  </thead>\n",
              "  <tbody>\n",
              "    <tr>\n",
              "      <th>0</th>\n",
              "      <td>0.21</td>\n",
              "      <td>0.28</td>\n",
              "      <td>0.50</td>\n",
              "      <td>0.0</td>\n",
              "      <td>0.14</td>\n",
              "      <td>0.28</td>\n",
              "      <td>0.21</td>\n",
              "      <td>0.07</td>\n",
              "      <td>0.00</td>\n",
              "      <td>0.94</td>\n",
              "      <td>0.21</td>\n",
              "      <td>0.79</td>\n",
              "      <td>0.65</td>\n",
              "      <td>0.21</td>\n",
              "      <td>0.14</td>\n",
              "      <td>0.14</td>\n",
              "      <td>0.07</td>\n",
              "      <td>0.28</td>\n",
              "      <td>3.47</td>\n",
              "      <td>0.00</td>\n",
              "      <td>1.59</td>\n",
              "      <td>0.0</td>\n",
              "      <td>0.43</td>\n",
              "      <td>0.43</td>\n",
              "      <td>0.0</td>\n",
              "      <td>0.0</td>\n",
              "      <td>0.0</td>\n",
              "      <td>0.0</td>\n",
              "      <td>0.0</td>\n",
              "      <td>0.0</td>\n",
              "      <td>0.0</td>\n",
              "      <td>0.0</td>\n",
              "      <td>0.0</td>\n",
              "      <td>0.0</td>\n",
              "      <td>0.0</td>\n",
              "      <td>0.0</td>\n",
              "      <td>0.07</td>\n",
              "      <td>0.0</td>\n",
              "      <td>0.0</td>\n",
              "      <td>0.00</td>\n",
              "      <td>0.0</td>\n",
              "      <td>0.0</td>\n",
              "      <td>0.00</td>\n",
              "      <td>0.0</td>\n",
              "      <td>0.00</td>\n",
              "      <td>0.00</td>\n",
              "      <td>0.0</td>\n",
              "      <td>0.0</td>\n",
              "      <td>0.00</td>\n",
              "      <td>0.132</td>\n",
              "      <td>0.0</td>\n",
              "      <td>0.372</td>\n",
              "      <td>0.180</td>\n",
              "      <td>0.048</td>\n",
              "      <td>5.114</td>\n",
              "      <td>101</td>\n",
              "      <td>1028</td>\n",
              "      <td>1</td>\n",
              "    </tr>\n",
              "    <tr>\n",
              "      <th>1</th>\n",
              "      <td>0.06</td>\n",
              "      <td>0.00</td>\n",
              "      <td>0.71</td>\n",
              "      <td>0.0</td>\n",
              "      <td>1.23</td>\n",
              "      <td>0.19</td>\n",
              "      <td>0.19</td>\n",
              "      <td>0.12</td>\n",
              "      <td>0.64</td>\n",
              "      <td>0.25</td>\n",
              "      <td>0.38</td>\n",
              "      <td>0.45</td>\n",
              "      <td>0.12</td>\n",
              "      <td>0.00</td>\n",
              "      <td>1.75</td>\n",
              "      <td>0.06</td>\n",
              "      <td>0.06</td>\n",
              "      <td>1.03</td>\n",
              "      <td>1.36</td>\n",
              "      <td>0.32</td>\n",
              "      <td>0.51</td>\n",
              "      <td>0.0</td>\n",
              "      <td>1.16</td>\n",
              "      <td>0.06</td>\n",
              "      <td>0.0</td>\n",
              "      <td>0.0</td>\n",
              "      <td>0.0</td>\n",
              "      <td>0.0</td>\n",
              "      <td>0.0</td>\n",
              "      <td>0.0</td>\n",
              "      <td>0.0</td>\n",
              "      <td>0.0</td>\n",
              "      <td>0.0</td>\n",
              "      <td>0.0</td>\n",
              "      <td>0.0</td>\n",
              "      <td>0.0</td>\n",
              "      <td>0.00</td>\n",
              "      <td>0.0</td>\n",
              "      <td>0.0</td>\n",
              "      <td>0.06</td>\n",
              "      <td>0.0</td>\n",
              "      <td>0.0</td>\n",
              "      <td>0.12</td>\n",
              "      <td>0.0</td>\n",
              "      <td>0.06</td>\n",
              "      <td>0.06</td>\n",
              "      <td>0.0</td>\n",
              "      <td>0.0</td>\n",
              "      <td>0.01</td>\n",
              "      <td>0.143</td>\n",
              "      <td>0.0</td>\n",
              "      <td>0.276</td>\n",
              "      <td>0.184</td>\n",
              "      <td>0.010</td>\n",
              "      <td>9.821</td>\n",
              "      <td>485</td>\n",
              "      <td>2259</td>\n",
              "      <td>1</td>\n",
              "    </tr>\n",
              "    <tr>\n",
              "      <th>2</th>\n",
              "      <td>0.00</td>\n",
              "      <td>0.00</td>\n",
              "      <td>0.00</td>\n",
              "      <td>0.0</td>\n",
              "      <td>0.63</td>\n",
              "      <td>0.00</td>\n",
              "      <td>0.31</td>\n",
              "      <td>0.63</td>\n",
              "      <td>0.31</td>\n",
              "      <td>0.63</td>\n",
              "      <td>0.31</td>\n",
              "      <td>0.31</td>\n",
              "      <td>0.31</td>\n",
              "      <td>0.00</td>\n",
              "      <td>0.00</td>\n",
              "      <td>0.31</td>\n",
              "      <td>0.00</td>\n",
              "      <td>0.00</td>\n",
              "      <td>3.18</td>\n",
              "      <td>0.00</td>\n",
              "      <td>0.31</td>\n",
              "      <td>0.0</td>\n",
              "      <td>0.00</td>\n",
              "      <td>0.00</td>\n",
              "      <td>0.0</td>\n",
              "      <td>0.0</td>\n",
              "      <td>0.0</td>\n",
              "      <td>0.0</td>\n",
              "      <td>0.0</td>\n",
              "      <td>0.0</td>\n",
              "      <td>0.0</td>\n",
              "      <td>0.0</td>\n",
              "      <td>0.0</td>\n",
              "      <td>0.0</td>\n",
              "      <td>0.0</td>\n",
              "      <td>0.0</td>\n",
              "      <td>0.00</td>\n",
              "      <td>0.0</td>\n",
              "      <td>0.0</td>\n",
              "      <td>0.00</td>\n",
              "      <td>0.0</td>\n",
              "      <td>0.0</td>\n",
              "      <td>0.00</td>\n",
              "      <td>0.0</td>\n",
              "      <td>0.00</td>\n",
              "      <td>0.00</td>\n",
              "      <td>0.0</td>\n",
              "      <td>0.0</td>\n",
              "      <td>0.00</td>\n",
              "      <td>0.137</td>\n",
              "      <td>0.0</td>\n",
              "      <td>0.137</td>\n",
              "      <td>0.000</td>\n",
              "      <td>0.000</td>\n",
              "      <td>3.537</td>\n",
              "      <td>40</td>\n",
              "      <td>191</td>\n",
              "      <td>1</td>\n",
              "    </tr>\n",
              "    <tr>\n",
              "      <th>3</th>\n",
              "      <td>0.00</td>\n",
              "      <td>0.00</td>\n",
              "      <td>0.00</td>\n",
              "      <td>0.0</td>\n",
              "      <td>0.63</td>\n",
              "      <td>0.00</td>\n",
              "      <td>0.31</td>\n",
              "      <td>0.63</td>\n",
              "      <td>0.31</td>\n",
              "      <td>0.63</td>\n",
              "      <td>0.31</td>\n",
              "      <td>0.31</td>\n",
              "      <td>0.31</td>\n",
              "      <td>0.00</td>\n",
              "      <td>0.00</td>\n",
              "      <td>0.31</td>\n",
              "      <td>0.00</td>\n",
              "      <td>0.00</td>\n",
              "      <td>3.18</td>\n",
              "      <td>0.00</td>\n",
              "      <td>0.31</td>\n",
              "      <td>0.0</td>\n",
              "      <td>0.00</td>\n",
              "      <td>0.00</td>\n",
              "      <td>0.0</td>\n",
              "      <td>0.0</td>\n",
              "      <td>0.0</td>\n",
              "      <td>0.0</td>\n",
              "      <td>0.0</td>\n",
              "      <td>0.0</td>\n",
              "      <td>0.0</td>\n",
              "      <td>0.0</td>\n",
              "      <td>0.0</td>\n",
              "      <td>0.0</td>\n",
              "      <td>0.0</td>\n",
              "      <td>0.0</td>\n",
              "      <td>0.00</td>\n",
              "      <td>0.0</td>\n",
              "      <td>0.0</td>\n",
              "      <td>0.00</td>\n",
              "      <td>0.0</td>\n",
              "      <td>0.0</td>\n",
              "      <td>0.00</td>\n",
              "      <td>0.0</td>\n",
              "      <td>0.00</td>\n",
              "      <td>0.00</td>\n",
              "      <td>0.0</td>\n",
              "      <td>0.0</td>\n",
              "      <td>0.00</td>\n",
              "      <td>0.135</td>\n",
              "      <td>0.0</td>\n",
              "      <td>0.135</td>\n",
              "      <td>0.000</td>\n",
              "      <td>0.000</td>\n",
              "      <td>3.537</td>\n",
              "      <td>40</td>\n",
              "      <td>191</td>\n",
              "      <td>1</td>\n",
              "    </tr>\n",
              "    <tr>\n",
              "      <th>4</th>\n",
              "      <td>0.00</td>\n",
              "      <td>0.00</td>\n",
              "      <td>0.00</td>\n",
              "      <td>0.0</td>\n",
              "      <td>1.85</td>\n",
              "      <td>0.00</td>\n",
              "      <td>0.00</td>\n",
              "      <td>1.85</td>\n",
              "      <td>0.00</td>\n",
              "      <td>0.00</td>\n",
              "      <td>0.00</td>\n",
              "      <td>0.00</td>\n",
              "      <td>0.00</td>\n",
              "      <td>0.00</td>\n",
              "      <td>0.00</td>\n",
              "      <td>0.00</td>\n",
              "      <td>0.00</td>\n",
              "      <td>0.00</td>\n",
              "      <td>0.00</td>\n",
              "      <td>0.00</td>\n",
              "      <td>0.00</td>\n",
              "      <td>0.0</td>\n",
              "      <td>0.00</td>\n",
              "      <td>0.00</td>\n",
              "      <td>0.0</td>\n",
              "      <td>0.0</td>\n",
              "      <td>0.0</td>\n",
              "      <td>0.0</td>\n",
              "      <td>0.0</td>\n",
              "      <td>0.0</td>\n",
              "      <td>0.0</td>\n",
              "      <td>0.0</td>\n",
              "      <td>0.0</td>\n",
              "      <td>0.0</td>\n",
              "      <td>0.0</td>\n",
              "      <td>0.0</td>\n",
              "      <td>0.00</td>\n",
              "      <td>0.0</td>\n",
              "      <td>0.0</td>\n",
              "      <td>0.00</td>\n",
              "      <td>0.0</td>\n",
              "      <td>0.0</td>\n",
              "      <td>0.00</td>\n",
              "      <td>0.0</td>\n",
              "      <td>0.00</td>\n",
              "      <td>0.00</td>\n",
              "      <td>0.0</td>\n",
              "      <td>0.0</td>\n",
              "      <td>0.00</td>\n",
              "      <td>0.223</td>\n",
              "      <td>0.0</td>\n",
              "      <td>0.000</td>\n",
              "      <td>0.000</td>\n",
              "      <td>0.000</td>\n",
              "      <td>3.000</td>\n",
              "      <td>15</td>\n",
              "      <td>54</td>\n",
              "      <td>1</td>\n",
              "    </tr>\n",
              "  </tbody>\n",
              "</table>\n",
              "</div>"
            ],
            "text/plain": [
              "   word_freq_make  word_freq_address  ...  capital_run_length_total  spam_or_not\n",
              "0            0.21               0.28  ...                      1028            1\n",
              "1            0.06               0.00  ...                      2259            1\n",
              "2            0.00               0.00  ...                       191            1\n",
              "3            0.00               0.00  ...                       191            1\n",
              "4            0.00               0.00  ...                        54            1\n",
              "\n",
              "[5 rows x 58 columns]"
            ]
          },
          "metadata": {
            "tags": []
          },
          "execution_count": 15
        }
      ]
    },
    {
      "cell_type": "code",
      "metadata": {
        "id": "e9AzGcZFrIIr",
        "colab": {
          "base_uri": "https://localhost:8080/",
          "height": 223
        },
        "outputId": "1bbc40d8-e8fd-46b4-c1b0-856a0d9ed928"
      },
      "source": [
        "# Previewing the last five rows\n",
        "spam.tail()"
      ],
      "execution_count": 16,
      "outputs": [
        {
          "output_type": "execute_result",
          "data": {
            "text/html": [
              "<div>\n",
              "<style scoped>\n",
              "    .dataframe tbody tr th:only-of-type {\n",
              "        vertical-align: middle;\n",
              "    }\n",
              "\n",
              "    .dataframe tbody tr th {\n",
              "        vertical-align: top;\n",
              "    }\n",
              "\n",
              "    .dataframe thead th {\n",
              "        text-align: right;\n",
              "    }\n",
              "</style>\n",
              "<table border=\"1\" class=\"dataframe\">\n",
              "  <thead>\n",
              "    <tr style=\"text-align: right;\">\n",
              "      <th></th>\n",
              "      <th>word_freq_make</th>\n",
              "      <th>word_freq_address</th>\n",
              "      <th>word_freq_all</th>\n",
              "      <th>word_freq_3d</th>\n",
              "      <th>word_freq_our</th>\n",
              "      <th>word_freq_over</th>\n",
              "      <th>word_freq_remove</th>\n",
              "      <th>word_freq_internet</th>\n",
              "      <th>word_freq_order</th>\n",
              "      <th>word_freq_mail</th>\n",
              "      <th>word_freq_receive</th>\n",
              "      <th>word_freq_will</th>\n",
              "      <th>word_freq_people</th>\n",
              "      <th>word_freq_report</th>\n",
              "      <th>word_freq_addresses</th>\n",
              "      <th>word_freq_free</th>\n",
              "      <th>word_freq_business</th>\n",
              "      <th>word_freq_email</th>\n",
              "      <th>word_freq_you</th>\n",
              "      <th>word_freq_credit</th>\n",
              "      <th>word_freq_your</th>\n",
              "      <th>word_freq_font</th>\n",
              "      <th>word_freq_000</th>\n",
              "      <th>word_freq_money</th>\n",
              "      <th>word_freq_hp</th>\n",
              "      <th>word_freq_hpl</th>\n",
              "      <th>word_freq_george</th>\n",
              "      <th>word_freq_650</th>\n",
              "      <th>word_freq_lab</th>\n",
              "      <th>word_freq_labs</th>\n",
              "      <th>word_freq_telnet</th>\n",
              "      <th>word_freq_857</th>\n",
              "      <th>word_freq_data</th>\n",
              "      <th>word_freq_415</th>\n",
              "      <th>word_freq_85</th>\n",
              "      <th>word_freq_technology</th>\n",
              "      <th>word_freq_1999</th>\n",
              "      <th>word_freq_parts</th>\n",
              "      <th>word_freq_pm</th>\n",
              "      <th>word_freq_direct</th>\n",
              "      <th>word_freq_cs</th>\n",
              "      <th>word_freq_meeting</th>\n",
              "      <th>word_freq_original</th>\n",
              "      <th>word_freq_project</th>\n",
              "      <th>word_freq_re</th>\n",
              "      <th>word_freq_edu</th>\n",
              "      <th>word_freq_table</th>\n",
              "      <th>word_freq_conference</th>\n",
              "      <th>char_freq_;</th>\n",
              "      <th>char_freq_(</th>\n",
              "      <th>char_freq_[</th>\n",
              "      <th>char_freq_!</th>\n",
              "      <th>char_freq_$</th>\n",
              "      <th>char_freq_#</th>\n",
              "      <th>capital_run_length_average</th>\n",
              "      <th>capital_run_length_longest</th>\n",
              "      <th>capital_run_length_total</th>\n",
              "      <th>spam_or_not</th>\n",
              "    </tr>\n",
              "  </thead>\n",
              "  <tbody>\n",
              "    <tr>\n",
              "      <th>4595</th>\n",
              "      <td>0.31</td>\n",
              "      <td>0.0</td>\n",
              "      <td>0.62</td>\n",
              "      <td>0.0</td>\n",
              "      <td>0.00</td>\n",
              "      <td>0.31</td>\n",
              "      <td>0.0</td>\n",
              "      <td>0.0</td>\n",
              "      <td>0.0</td>\n",
              "      <td>0.0</td>\n",
              "      <td>0.0</td>\n",
              "      <td>1.88</td>\n",
              "      <td>0.00</td>\n",
              "      <td>0.0</td>\n",
              "      <td>0.0</td>\n",
              "      <td>0.0</td>\n",
              "      <td>0.0</td>\n",
              "      <td>0.0</td>\n",
              "      <td>0.62</td>\n",
              "      <td>0.0</td>\n",
              "      <td>0.00</td>\n",
              "      <td>0.0</td>\n",
              "      <td>0.0</td>\n",
              "      <td>0.0</td>\n",
              "      <td>0.0</td>\n",
              "      <td>0.0</td>\n",
              "      <td>0.0</td>\n",
              "      <td>0.0</td>\n",
              "      <td>0.0</td>\n",
              "      <td>0.0</td>\n",
              "      <td>0.0</td>\n",
              "      <td>0.0</td>\n",
              "      <td>0.0</td>\n",
              "      <td>0.0</td>\n",
              "      <td>0.0</td>\n",
              "      <td>0.0</td>\n",
              "      <td>0.0</td>\n",
              "      <td>0.0</td>\n",
              "      <td>0.0</td>\n",
              "      <td>0.0</td>\n",
              "      <td>0.0</td>\n",
              "      <td>0.0</td>\n",
              "      <td>0.0</td>\n",
              "      <td>0.31</td>\n",
              "      <td>0.31</td>\n",
              "      <td>0.31</td>\n",
              "      <td>0.0</td>\n",
              "      <td>0.0</td>\n",
              "      <td>0.000</td>\n",
              "      <td>0.232</td>\n",
              "      <td>0.0</td>\n",
              "      <td>0.000</td>\n",
              "      <td>0.0</td>\n",
              "      <td>0.0</td>\n",
              "      <td>1.142</td>\n",
              "      <td>3</td>\n",
              "      <td>88</td>\n",
              "      <td>0</td>\n",
              "    </tr>\n",
              "    <tr>\n",
              "      <th>4596</th>\n",
              "      <td>0.00</td>\n",
              "      <td>0.0</td>\n",
              "      <td>0.00</td>\n",
              "      <td>0.0</td>\n",
              "      <td>0.00</td>\n",
              "      <td>0.00</td>\n",
              "      <td>0.0</td>\n",
              "      <td>0.0</td>\n",
              "      <td>0.0</td>\n",
              "      <td>0.0</td>\n",
              "      <td>0.0</td>\n",
              "      <td>0.00</td>\n",
              "      <td>0.00</td>\n",
              "      <td>0.0</td>\n",
              "      <td>0.0</td>\n",
              "      <td>0.0</td>\n",
              "      <td>0.0</td>\n",
              "      <td>0.0</td>\n",
              "      <td>6.00</td>\n",
              "      <td>0.0</td>\n",
              "      <td>2.00</td>\n",
              "      <td>0.0</td>\n",
              "      <td>0.0</td>\n",
              "      <td>0.0</td>\n",
              "      <td>0.0</td>\n",
              "      <td>0.0</td>\n",
              "      <td>0.0</td>\n",
              "      <td>0.0</td>\n",
              "      <td>0.0</td>\n",
              "      <td>0.0</td>\n",
              "      <td>0.0</td>\n",
              "      <td>0.0</td>\n",
              "      <td>0.0</td>\n",
              "      <td>0.0</td>\n",
              "      <td>0.0</td>\n",
              "      <td>0.0</td>\n",
              "      <td>0.0</td>\n",
              "      <td>0.0</td>\n",
              "      <td>0.0</td>\n",
              "      <td>0.0</td>\n",
              "      <td>0.0</td>\n",
              "      <td>0.0</td>\n",
              "      <td>0.0</td>\n",
              "      <td>0.00</td>\n",
              "      <td>0.00</td>\n",
              "      <td>2.00</td>\n",
              "      <td>0.0</td>\n",
              "      <td>0.0</td>\n",
              "      <td>0.000</td>\n",
              "      <td>0.000</td>\n",
              "      <td>0.0</td>\n",
              "      <td>0.353</td>\n",
              "      <td>0.0</td>\n",
              "      <td>0.0</td>\n",
              "      <td>1.555</td>\n",
              "      <td>4</td>\n",
              "      <td>14</td>\n",
              "      <td>0</td>\n",
              "    </tr>\n",
              "    <tr>\n",
              "      <th>4597</th>\n",
              "      <td>0.30</td>\n",
              "      <td>0.0</td>\n",
              "      <td>0.30</td>\n",
              "      <td>0.0</td>\n",
              "      <td>0.00</td>\n",
              "      <td>0.00</td>\n",
              "      <td>0.0</td>\n",
              "      <td>0.0</td>\n",
              "      <td>0.0</td>\n",
              "      <td>0.0</td>\n",
              "      <td>0.0</td>\n",
              "      <td>1.80</td>\n",
              "      <td>0.30</td>\n",
              "      <td>0.0</td>\n",
              "      <td>0.0</td>\n",
              "      <td>0.0</td>\n",
              "      <td>0.0</td>\n",
              "      <td>0.9</td>\n",
              "      <td>1.50</td>\n",
              "      <td>0.0</td>\n",
              "      <td>0.30</td>\n",
              "      <td>0.0</td>\n",
              "      <td>0.0</td>\n",
              "      <td>0.0</td>\n",
              "      <td>0.0</td>\n",
              "      <td>0.0</td>\n",
              "      <td>0.0</td>\n",
              "      <td>0.0</td>\n",
              "      <td>0.0</td>\n",
              "      <td>0.0</td>\n",
              "      <td>0.0</td>\n",
              "      <td>0.0</td>\n",
              "      <td>0.0</td>\n",
              "      <td>0.0</td>\n",
              "      <td>0.0</td>\n",
              "      <td>0.0</td>\n",
              "      <td>0.0</td>\n",
              "      <td>0.0</td>\n",
              "      <td>0.0</td>\n",
              "      <td>0.0</td>\n",
              "      <td>0.0</td>\n",
              "      <td>0.0</td>\n",
              "      <td>0.0</td>\n",
              "      <td>0.00</td>\n",
              "      <td>0.00</td>\n",
              "      <td>1.20</td>\n",
              "      <td>0.0</td>\n",
              "      <td>0.0</td>\n",
              "      <td>0.102</td>\n",
              "      <td>0.718</td>\n",
              "      <td>0.0</td>\n",
              "      <td>0.000</td>\n",
              "      <td>0.0</td>\n",
              "      <td>0.0</td>\n",
              "      <td>1.404</td>\n",
              "      <td>6</td>\n",
              "      <td>118</td>\n",
              "      <td>0</td>\n",
              "    </tr>\n",
              "    <tr>\n",
              "      <th>4598</th>\n",
              "      <td>0.96</td>\n",
              "      <td>0.0</td>\n",
              "      <td>0.00</td>\n",
              "      <td>0.0</td>\n",
              "      <td>0.32</td>\n",
              "      <td>0.00</td>\n",
              "      <td>0.0</td>\n",
              "      <td>0.0</td>\n",
              "      <td>0.0</td>\n",
              "      <td>0.0</td>\n",
              "      <td>0.0</td>\n",
              "      <td>0.32</td>\n",
              "      <td>0.00</td>\n",
              "      <td>0.0</td>\n",
              "      <td>0.0</td>\n",
              "      <td>0.0</td>\n",
              "      <td>0.0</td>\n",
              "      <td>0.0</td>\n",
              "      <td>1.93</td>\n",
              "      <td>0.0</td>\n",
              "      <td>0.32</td>\n",
              "      <td>0.0</td>\n",
              "      <td>0.0</td>\n",
              "      <td>0.0</td>\n",
              "      <td>0.0</td>\n",
              "      <td>0.0</td>\n",
              "      <td>0.0</td>\n",
              "      <td>0.0</td>\n",
              "      <td>0.0</td>\n",
              "      <td>0.0</td>\n",
              "      <td>0.0</td>\n",
              "      <td>0.0</td>\n",
              "      <td>0.0</td>\n",
              "      <td>0.0</td>\n",
              "      <td>0.0</td>\n",
              "      <td>0.0</td>\n",
              "      <td>0.0</td>\n",
              "      <td>0.0</td>\n",
              "      <td>0.0</td>\n",
              "      <td>0.0</td>\n",
              "      <td>0.0</td>\n",
              "      <td>0.0</td>\n",
              "      <td>0.0</td>\n",
              "      <td>0.32</td>\n",
              "      <td>0.00</td>\n",
              "      <td>0.32</td>\n",
              "      <td>0.0</td>\n",
              "      <td>0.0</td>\n",
              "      <td>0.000</td>\n",
              "      <td>0.057</td>\n",
              "      <td>0.0</td>\n",
              "      <td>0.000</td>\n",
              "      <td>0.0</td>\n",
              "      <td>0.0</td>\n",
              "      <td>1.147</td>\n",
              "      <td>5</td>\n",
              "      <td>78</td>\n",
              "      <td>0</td>\n",
              "    </tr>\n",
              "    <tr>\n",
              "      <th>4599</th>\n",
              "      <td>0.00</td>\n",
              "      <td>0.0</td>\n",
              "      <td>0.65</td>\n",
              "      <td>0.0</td>\n",
              "      <td>0.00</td>\n",
              "      <td>0.00</td>\n",
              "      <td>0.0</td>\n",
              "      <td>0.0</td>\n",
              "      <td>0.0</td>\n",
              "      <td>0.0</td>\n",
              "      <td>0.0</td>\n",
              "      <td>0.00</td>\n",
              "      <td>0.65</td>\n",
              "      <td>0.0</td>\n",
              "      <td>0.0</td>\n",
              "      <td>0.0</td>\n",
              "      <td>0.0</td>\n",
              "      <td>0.0</td>\n",
              "      <td>4.60</td>\n",
              "      <td>0.0</td>\n",
              "      <td>0.65</td>\n",
              "      <td>0.0</td>\n",
              "      <td>0.0</td>\n",
              "      <td>0.0</td>\n",
              "      <td>0.0</td>\n",
              "      <td>0.0</td>\n",
              "      <td>0.0</td>\n",
              "      <td>0.0</td>\n",
              "      <td>0.0</td>\n",
              "      <td>0.0</td>\n",
              "      <td>0.0</td>\n",
              "      <td>0.0</td>\n",
              "      <td>0.0</td>\n",
              "      <td>0.0</td>\n",
              "      <td>0.0</td>\n",
              "      <td>0.0</td>\n",
              "      <td>0.0</td>\n",
              "      <td>0.0</td>\n",
              "      <td>0.0</td>\n",
              "      <td>0.0</td>\n",
              "      <td>0.0</td>\n",
              "      <td>0.0</td>\n",
              "      <td>0.0</td>\n",
              "      <td>0.00</td>\n",
              "      <td>1.97</td>\n",
              "      <td>0.65</td>\n",
              "      <td>0.0</td>\n",
              "      <td>0.0</td>\n",
              "      <td>0.000</td>\n",
              "      <td>0.000</td>\n",
              "      <td>0.0</td>\n",
              "      <td>0.125</td>\n",
              "      <td>0.0</td>\n",
              "      <td>0.0</td>\n",
              "      <td>1.250</td>\n",
              "      <td>5</td>\n",
              "      <td>40</td>\n",
              "      <td>0</td>\n",
              "    </tr>\n",
              "  </tbody>\n",
              "</table>\n",
              "</div>"
            ],
            "text/plain": [
              "      word_freq_make  word_freq_address  ...  capital_run_length_total  spam_or_not\n",
              "4595            0.31                0.0  ...                        88            0\n",
              "4596            0.00                0.0  ...                        14            0\n",
              "4597            0.30                0.0  ...                       118            0\n",
              "4598            0.96                0.0  ...                        78            0\n",
              "4599            0.00                0.0  ...                        40            0\n",
              "\n",
              "[5 rows x 58 columns]"
            ]
          },
          "metadata": {
            "tags": []
          },
          "execution_count": 16
        }
      ]
    },
    {
      "cell_type": "code",
      "metadata": {
        "id": "n8-dW4sQWzbc",
        "colab": {
          "base_uri": "https://localhost:8080/"
        },
        "outputId": "6352c8bc-0314-440b-fb4f-f9641c20e25f"
      },
      "source": [
        "#checking the datatype\n",
        "spam.dtypes"
      ],
      "execution_count": 17,
      "outputs": [
        {
          "output_type": "execute_result",
          "data": {
            "text/plain": [
              "word_freq_make                float64\n",
              "word_freq_address             float64\n",
              "word_freq_all                 float64\n",
              "word_freq_3d                  float64\n",
              "word_freq_our                 float64\n",
              "word_freq_over                float64\n",
              "word_freq_remove              float64\n",
              "word_freq_internet            float64\n",
              "word_freq_order               float64\n",
              "word_freq_mail                float64\n",
              "word_freq_receive             float64\n",
              "word_freq_will                float64\n",
              "word_freq_people              float64\n",
              "word_freq_report              float64\n",
              "word_freq_addresses           float64\n",
              "word_freq_free                float64\n",
              "word_freq_business            float64\n",
              "word_freq_email               float64\n",
              "word_freq_you                 float64\n",
              "word_freq_credit              float64\n",
              "word_freq_your                float64\n",
              "word_freq_font                float64\n",
              "word_freq_000                 float64\n",
              "word_freq_money               float64\n",
              "word_freq_hp                  float64\n",
              "word_freq_hpl                 float64\n",
              "word_freq_george              float64\n",
              "word_freq_650                 float64\n",
              "word_freq_lab                 float64\n",
              "word_freq_labs                float64\n",
              "word_freq_telnet              float64\n",
              "word_freq_857                 float64\n",
              "word_freq_data                float64\n",
              "word_freq_415                 float64\n",
              "word_freq_85                  float64\n",
              "word_freq_technology          float64\n",
              "word_freq_1999                float64\n",
              "word_freq_parts               float64\n",
              "word_freq_pm                  float64\n",
              "word_freq_direct              float64\n",
              "word_freq_cs                  float64\n",
              "word_freq_meeting             float64\n",
              "word_freq_original            float64\n",
              "word_freq_project             float64\n",
              "word_freq_re                  float64\n",
              "word_freq_edu                 float64\n",
              "word_freq_table               float64\n",
              "word_freq_conference          float64\n",
              "char_freq_;                   float64\n",
              "char_freq_(                   float64\n",
              "char_freq_[                   float64\n",
              "char_freq_!                   float64\n",
              "char_freq_$                   float64\n",
              "char_freq_#                   float64\n",
              "capital_run_length_average    float64\n",
              "capital_run_length_longest      int64\n",
              "capital_run_length_total        int64\n",
              "spam_or_not                     int64\n",
              "dtype: object"
            ]
          },
          "metadata": {
            "tags": []
          },
          "execution_count": 17
        }
      ]
    },
    {
      "cell_type": "markdown",
      "metadata": {
        "id": "FlBMxEDBUc9B"
      },
      "source": [
        "## 4. Tidying the Dataset"
      ]
    },
    {
      "cell_type": "code",
      "metadata": {
        "id": "5o_bQcT5W3Wz",
        "colab": {
          "base_uri": "https://localhost:8080/"
        },
        "outputId": "4f2ea15f-2c8e-485c-ea4a-c887b16d4dbe"
      },
      "source": [
        "# Checking for the number of columns within the dataset\n",
        "#\n",
        "len(spam.columns)"
      ],
      "execution_count": null,
      "outputs": [
        {
          "output_type": "execute_result",
          "data": {
            "text/plain": [
              "58"
            ]
          },
          "metadata": {
            "tags": []
          },
          "execution_count": 6
        }
      ]
    },
    {
      "cell_type": "code",
      "metadata": {
        "id": "PvCYb6dgW4yh",
        "colab": {
          "base_uri": "https://localhost:8080/"
        },
        "outputId": "4d063cdf-6ed9-41cd-8104-bb2c9c13fc36"
      },
      "source": [
        "# Identifying the Missing Data\n",
        "spam.isnull().sum().sum()\n",
        "#no null values"
      ],
      "execution_count": 18,
      "outputs": [
        {
          "output_type": "execute_result",
          "data": {
            "text/plain": [
              "0"
            ]
          },
          "metadata": {
            "tags": []
          },
          "execution_count": 18
        }
      ]
    },
    {
      "cell_type": "code",
      "metadata": {
        "id": "MpsDGKZHsf_W",
        "colab": {
          "base_uri": "https://localhost:8080/"
        },
        "outputId": "95d937be-b71b-427f-aec5-5f79d7015b6f"
      },
      "source": [
        "#checking for duplicates\n",
        "spam.duplicated().sum()"
      ],
      "execution_count": 19,
      "outputs": [
        {
          "output_type": "execute_result",
          "data": {
            "text/plain": [
              "391"
            ]
          },
          "metadata": {
            "tags": []
          },
          "execution_count": 19
        }
      ]
    },
    {
      "cell_type": "code",
      "metadata": {
        "colab": {
          "base_uri": "https://localhost:8080/"
        },
        "id": "UuuvEh577Bip",
        "outputId": "5ac823a3-fd05-4218-8776-d7d13e7bcae1"
      },
      "source": [
        "#dropping duplicates and keeping the first values\n",
        "spam = spam.drop_duplicates(keep='first')\n",
        "#confirming they have been dropped\n",
        "spam.duplicated().sum()"
      ],
      "execution_count": 20,
      "outputs": [
        {
          "output_type": "execute_result",
          "data": {
            "text/plain": [
              "0"
            ]
          },
          "metadata": {
            "tags": []
          },
          "execution_count": 20
        }
      ]
    },
    {
      "cell_type": "code",
      "metadata": {
        "colab": {
          "base_uri": "https://localhost:8080/"
        },
        "id": "UpbiECeN6X_k",
        "outputId": "bad57b59-2a38-45d3-b840-96adf31988d0"
      },
      "source": [
        "#checking for binary values within in the predictor column\n",
        "print(spam['spam_or_not'].nunique())\n",
        "print(spam['spam_or_not'].unique())"
      ],
      "execution_count": 21,
      "outputs": [
        {
          "output_type": "stream",
          "text": [
            "2\n",
            "[1 0]\n"
          ],
          "name": "stdout"
        }
      ]
    },
    {
      "cell_type": "code",
      "metadata": {
        "colab": {
          "base_uri": "https://localhost:8080/",
          "height": 315
        },
        "id": "zPhfl0Ag70E7",
        "outputId": "2d751e93-31f3-49e3-da2a-19c407b0dd52"
      },
      "source": [
        "#descriptive statistics\n",
        "spam.describe()"
      ],
      "execution_count": 22,
      "outputs": [
        {
          "output_type": "execute_result",
          "data": {
            "text/html": [
              "<div>\n",
              "<style scoped>\n",
              "    .dataframe tbody tr th:only-of-type {\n",
              "        vertical-align: middle;\n",
              "    }\n",
              "\n",
              "    .dataframe tbody tr th {\n",
              "        vertical-align: top;\n",
              "    }\n",
              "\n",
              "    .dataframe thead th {\n",
              "        text-align: right;\n",
              "    }\n",
              "</style>\n",
              "<table border=\"1\" class=\"dataframe\">\n",
              "  <thead>\n",
              "    <tr style=\"text-align: right;\">\n",
              "      <th></th>\n",
              "      <th>word_freq_make</th>\n",
              "      <th>word_freq_address</th>\n",
              "      <th>word_freq_all</th>\n",
              "      <th>word_freq_3d</th>\n",
              "      <th>word_freq_our</th>\n",
              "      <th>word_freq_over</th>\n",
              "      <th>word_freq_remove</th>\n",
              "      <th>word_freq_internet</th>\n",
              "      <th>word_freq_order</th>\n",
              "      <th>word_freq_mail</th>\n",
              "      <th>word_freq_receive</th>\n",
              "      <th>word_freq_will</th>\n",
              "      <th>word_freq_people</th>\n",
              "      <th>word_freq_report</th>\n",
              "      <th>word_freq_addresses</th>\n",
              "      <th>word_freq_free</th>\n",
              "      <th>word_freq_business</th>\n",
              "      <th>word_freq_email</th>\n",
              "      <th>word_freq_you</th>\n",
              "      <th>word_freq_credit</th>\n",
              "      <th>word_freq_your</th>\n",
              "      <th>word_freq_font</th>\n",
              "      <th>word_freq_000</th>\n",
              "      <th>word_freq_money</th>\n",
              "      <th>word_freq_hp</th>\n",
              "      <th>word_freq_hpl</th>\n",
              "      <th>word_freq_george</th>\n",
              "      <th>word_freq_650</th>\n",
              "      <th>word_freq_lab</th>\n",
              "      <th>word_freq_labs</th>\n",
              "      <th>word_freq_telnet</th>\n",
              "      <th>word_freq_857</th>\n",
              "      <th>word_freq_data</th>\n",
              "      <th>word_freq_415</th>\n",
              "      <th>word_freq_85</th>\n",
              "      <th>word_freq_technology</th>\n",
              "      <th>word_freq_1999</th>\n",
              "      <th>word_freq_parts</th>\n",
              "      <th>word_freq_pm</th>\n",
              "      <th>word_freq_direct</th>\n",
              "      <th>word_freq_cs</th>\n",
              "      <th>word_freq_meeting</th>\n",
              "      <th>word_freq_original</th>\n",
              "      <th>word_freq_project</th>\n",
              "      <th>word_freq_re</th>\n",
              "      <th>word_freq_edu</th>\n",
              "      <th>word_freq_table</th>\n",
              "      <th>word_freq_conference</th>\n",
              "      <th>char_freq_;</th>\n",
              "      <th>char_freq_(</th>\n",
              "      <th>char_freq_[</th>\n",
              "      <th>char_freq_!</th>\n",
              "      <th>char_freq_$</th>\n",
              "      <th>char_freq_#</th>\n",
              "      <th>capital_run_length_average</th>\n",
              "      <th>capital_run_length_longest</th>\n",
              "      <th>capital_run_length_total</th>\n",
              "      <th>spam_or_not</th>\n",
              "    </tr>\n",
              "  </thead>\n",
              "  <tbody>\n",
              "    <tr>\n",
              "      <th>count</th>\n",
              "      <td>4209.000000</td>\n",
              "      <td>4209.000000</td>\n",
              "      <td>4209.000000</td>\n",
              "      <td>4209.000000</td>\n",
              "      <td>4209.000000</td>\n",
              "      <td>4209.000000</td>\n",
              "      <td>4209.000000</td>\n",
              "      <td>4209.000000</td>\n",
              "      <td>4209.000000</td>\n",
              "      <td>4209.000000</td>\n",
              "      <td>4209.000000</td>\n",
              "      <td>4209.000000</td>\n",
              "      <td>4209.000000</td>\n",
              "      <td>4209.000000</td>\n",
              "      <td>4209.000000</td>\n",
              "      <td>4209.000000</td>\n",
              "      <td>4209.000000</td>\n",
              "      <td>4209.000000</td>\n",
              "      <td>4209.000000</td>\n",
              "      <td>4209.000000</td>\n",
              "      <td>4209.000000</td>\n",
              "      <td>4209.000000</td>\n",
              "      <td>4209.000000</td>\n",
              "      <td>4209.000000</td>\n",
              "      <td>4209.000000</td>\n",
              "      <td>4209.000000</td>\n",
              "      <td>4209.000000</td>\n",
              "      <td>4209.000000</td>\n",
              "      <td>4209.000000</td>\n",
              "      <td>4209.000000</td>\n",
              "      <td>4209.000000</td>\n",
              "      <td>4209.000000</td>\n",
              "      <td>4209.000000</td>\n",
              "      <td>4209.000000</td>\n",
              "      <td>4209.000000</td>\n",
              "      <td>4209.000000</td>\n",
              "      <td>4209.000000</td>\n",
              "      <td>4209.000000</td>\n",
              "      <td>4209.000000</td>\n",
              "      <td>4209.000000</td>\n",
              "      <td>4209.000000</td>\n",
              "      <td>4209.000000</td>\n",
              "      <td>4209.000000</td>\n",
              "      <td>4209.000000</td>\n",
              "      <td>4209.000000</td>\n",
              "      <td>4209.000000</td>\n",
              "      <td>4209.000000</td>\n",
              "      <td>4209.000000</td>\n",
              "      <td>4209.000000</td>\n",
              "      <td>4209.000000</td>\n",
              "      <td>4209.000000</td>\n",
              "      <td>4209.000000</td>\n",
              "      <td>4209.000000</td>\n",
              "      <td>4209.000000</td>\n",
              "      <td>4209.000000</td>\n",
              "      <td>4209.000000</td>\n",
              "      <td>4209.00000</td>\n",
              "      <td>4209.000000</td>\n",
              "    </tr>\n",
              "    <tr>\n",
              "      <th>mean</th>\n",
              "      <td>0.104391</td>\n",
              "      <td>0.112530</td>\n",
              "      <td>0.291390</td>\n",
              "      <td>0.063093</td>\n",
              "      <td>0.325322</td>\n",
              "      <td>0.096679</td>\n",
              "      <td>0.117503</td>\n",
              "      <td>0.108026</td>\n",
              "      <td>0.091882</td>\n",
              "      <td>0.248479</td>\n",
              "      <td>0.056700</td>\n",
              "      <td>0.565187</td>\n",
              "      <td>0.097679</td>\n",
              "      <td>0.061226</td>\n",
              "      <td>0.044813</td>\n",
              "      <td>0.253813</td>\n",
              "      <td>0.149190</td>\n",
              "      <td>0.188494</td>\n",
              "      <td>1.718318</td>\n",
              "      <td>0.084982</td>\n",
              "      <td>0.810005</td>\n",
              "      <td>0.131618</td>\n",
              "      <td>0.100646</td>\n",
              "      <td>0.090991</td>\n",
              "      <td>0.574132</td>\n",
              "      <td>0.279397</td>\n",
              "      <td>0.369926</td>\n",
              "      <td>0.128605</td>\n",
              "      <td>0.098406</td>\n",
              "      <td>0.103804</td>\n",
              "      <td>0.063559</td>\n",
              "      <td>0.044928</td>\n",
              "      <td>0.102357</td>\n",
              "      <td>0.045788</td>\n",
              "      <td>0.107907</td>\n",
              "      <td>0.099392</td>\n",
              "      <td>0.143516</td>\n",
              "      <td>0.014193</td>\n",
              "      <td>0.084077</td>\n",
              "      <td>0.061292</td>\n",
              "      <td>0.041442</td>\n",
              "      <td>0.141575</td>\n",
              "      <td>0.048784</td>\n",
              "      <td>0.085286</td>\n",
              "      <td>0.320200</td>\n",
              "      <td>0.189420</td>\n",
              "      <td>0.005788</td>\n",
              "      <td>0.034754</td>\n",
              "      <td>0.040413</td>\n",
              "      <td>0.144082</td>\n",
              "      <td>0.017380</td>\n",
              "      <td>0.281018</td>\n",
              "      <td>0.076075</td>\n",
              "      <td>0.045809</td>\n",
              "      <td>5.384282</td>\n",
              "      <td>52.137800</td>\n",
              "      <td>291.18508</td>\n",
              "      <td>0.398670</td>\n",
              "    </tr>\n",
              "    <tr>\n",
              "      <th>std</th>\n",
              "      <td>0.300036</td>\n",
              "      <td>0.454241</td>\n",
              "      <td>0.515752</td>\n",
              "      <td>1.352647</td>\n",
              "      <td>0.687887</td>\n",
              "      <td>0.276059</td>\n",
              "      <td>0.397327</td>\n",
              "      <td>0.410328</td>\n",
              "      <td>0.282174</td>\n",
              "      <td>0.656705</td>\n",
              "      <td>0.184186</td>\n",
              "      <td>0.882617</td>\n",
              "      <td>0.309342</td>\n",
              "      <td>0.346106</td>\n",
              "      <td>0.242214</td>\n",
              "      <td>0.797629</td>\n",
              "      <td>0.457718</td>\n",
              "      <td>0.540931</td>\n",
              "      <td>1.768967</td>\n",
              "      <td>0.505641</td>\n",
              "      <td>1.149486</td>\n",
              "      <td>1.071384</td>\n",
              "      <td>0.351375</td>\n",
              "      <td>0.431772</td>\n",
              "      <td>1.676715</td>\n",
              "      <td>0.905650</td>\n",
              "      <td>1.775532</td>\n",
              "      <td>0.535489</td>\n",
              "      <td>0.576863</td>\n",
              "      <td>0.439618</td>\n",
              "      <td>0.387312</td>\n",
              "      <td>0.300783</td>\n",
              "      <td>0.569211</td>\n",
              "      <td>0.301847</td>\n",
              "      <td>0.530323</td>\n",
              "      <td>0.386513</td>\n",
              "      <td>0.424553</td>\n",
              "      <td>0.230539</td>\n",
              "      <td>0.448043</td>\n",
              "      <td>0.319556</td>\n",
              "      <td>0.318214</td>\n",
              "      <td>0.793895</td>\n",
              "      <td>0.231898</td>\n",
              "      <td>0.646171</td>\n",
              "      <td>1.046027</td>\n",
              "      <td>0.928413</td>\n",
              "      <td>0.079180</td>\n",
              "      <td>0.298556</td>\n",
              "      <td>0.252562</td>\n",
              "      <td>0.274280</td>\n",
              "      <td>0.105743</td>\n",
              "      <td>0.843387</td>\n",
              "      <td>0.239734</td>\n",
              "      <td>0.435976</td>\n",
              "      <td>33.151287</td>\n",
              "      <td>199.605834</td>\n",
              "      <td>618.72831</td>\n",
              "      <td>0.489683</td>\n",
              "    </tr>\n",
              "    <tr>\n",
              "      <th>min</th>\n",
              "      <td>0.000000</td>\n",
              "      <td>0.000000</td>\n",
              "      <td>0.000000</td>\n",
              "      <td>0.000000</td>\n",
              "      <td>0.000000</td>\n",
              "      <td>0.000000</td>\n",
              "      <td>0.000000</td>\n",
              "      <td>0.000000</td>\n",
              "      <td>0.000000</td>\n",
              "      <td>0.000000</td>\n",
              "      <td>0.000000</td>\n",
              "      <td>0.000000</td>\n",
              "      <td>0.000000</td>\n",
              "      <td>0.000000</td>\n",
              "      <td>0.000000</td>\n",
              "      <td>0.000000</td>\n",
              "      <td>0.000000</td>\n",
              "      <td>0.000000</td>\n",
              "      <td>0.000000</td>\n",
              "      <td>0.000000</td>\n",
              "      <td>0.000000</td>\n",
              "      <td>0.000000</td>\n",
              "      <td>0.000000</td>\n",
              "      <td>0.000000</td>\n",
              "      <td>0.000000</td>\n",
              "      <td>0.000000</td>\n",
              "      <td>0.000000</td>\n",
              "      <td>0.000000</td>\n",
              "      <td>0.000000</td>\n",
              "      <td>0.000000</td>\n",
              "      <td>0.000000</td>\n",
              "      <td>0.000000</td>\n",
              "      <td>0.000000</td>\n",
              "      <td>0.000000</td>\n",
              "      <td>0.000000</td>\n",
              "      <td>0.000000</td>\n",
              "      <td>0.000000</td>\n",
              "      <td>0.000000</td>\n",
              "      <td>0.000000</td>\n",
              "      <td>0.000000</td>\n",
              "      <td>0.000000</td>\n",
              "      <td>0.000000</td>\n",
              "      <td>0.000000</td>\n",
              "      <td>0.000000</td>\n",
              "      <td>0.000000</td>\n",
              "      <td>0.000000</td>\n",
              "      <td>0.000000</td>\n",
              "      <td>0.000000</td>\n",
              "      <td>0.000000</td>\n",
              "      <td>0.000000</td>\n",
              "      <td>0.000000</td>\n",
              "      <td>0.000000</td>\n",
              "      <td>0.000000</td>\n",
              "      <td>0.000000</td>\n",
              "      <td>1.000000</td>\n",
              "      <td>1.000000</td>\n",
              "      <td>1.00000</td>\n",
              "      <td>0.000000</td>\n",
              "    </tr>\n",
              "    <tr>\n",
              "      <th>25%</th>\n",
              "      <td>0.000000</td>\n",
              "      <td>0.000000</td>\n",
              "      <td>0.000000</td>\n",
              "      <td>0.000000</td>\n",
              "      <td>0.000000</td>\n",
              "      <td>0.000000</td>\n",
              "      <td>0.000000</td>\n",
              "      <td>0.000000</td>\n",
              "      <td>0.000000</td>\n",
              "      <td>0.000000</td>\n",
              "      <td>0.000000</td>\n",
              "      <td>0.000000</td>\n",
              "      <td>0.000000</td>\n",
              "      <td>0.000000</td>\n",
              "      <td>0.000000</td>\n",
              "      <td>0.000000</td>\n",
              "      <td>0.000000</td>\n",
              "      <td>0.000000</td>\n",
              "      <td>0.000000</td>\n",
              "      <td>0.000000</td>\n",
              "      <td>0.000000</td>\n",
              "      <td>0.000000</td>\n",
              "      <td>0.000000</td>\n",
              "      <td>0.000000</td>\n",
              "      <td>0.000000</td>\n",
              "      <td>0.000000</td>\n",
              "      <td>0.000000</td>\n",
              "      <td>0.000000</td>\n",
              "      <td>0.000000</td>\n",
              "      <td>0.000000</td>\n",
              "      <td>0.000000</td>\n",
              "      <td>0.000000</td>\n",
              "      <td>0.000000</td>\n",
              "      <td>0.000000</td>\n",
              "      <td>0.000000</td>\n",
              "      <td>0.000000</td>\n",
              "      <td>0.000000</td>\n",
              "      <td>0.000000</td>\n",
              "      <td>0.000000</td>\n",
              "      <td>0.000000</td>\n",
              "      <td>0.000000</td>\n",
              "      <td>0.000000</td>\n",
              "      <td>0.000000</td>\n",
              "      <td>0.000000</td>\n",
              "      <td>0.000000</td>\n",
              "      <td>0.000000</td>\n",
              "      <td>0.000000</td>\n",
              "      <td>0.000000</td>\n",
              "      <td>0.000000</td>\n",
              "      <td>0.000000</td>\n",
              "      <td>0.000000</td>\n",
              "      <td>0.000000</td>\n",
              "      <td>0.000000</td>\n",
              "      <td>0.000000</td>\n",
              "      <td>1.627000</td>\n",
              "      <td>7.000000</td>\n",
              "      <td>40.00000</td>\n",
              "      <td>0.000000</td>\n",
              "    </tr>\n",
              "    <tr>\n",
              "      <th>50%</th>\n",
              "      <td>0.000000</td>\n",
              "      <td>0.000000</td>\n",
              "      <td>0.000000</td>\n",
              "      <td>0.000000</td>\n",
              "      <td>0.000000</td>\n",
              "      <td>0.000000</td>\n",
              "      <td>0.000000</td>\n",
              "      <td>0.000000</td>\n",
              "      <td>0.000000</td>\n",
              "      <td>0.000000</td>\n",
              "      <td>0.000000</td>\n",
              "      <td>0.190000</td>\n",
              "      <td>0.000000</td>\n",
              "      <td>0.000000</td>\n",
              "      <td>0.000000</td>\n",
              "      <td>0.000000</td>\n",
              "      <td>0.000000</td>\n",
              "      <td>0.000000</td>\n",
              "      <td>1.360000</td>\n",
              "      <td>0.000000</td>\n",
              "      <td>0.290000</td>\n",
              "      <td>0.000000</td>\n",
              "      <td>0.000000</td>\n",
              "      <td>0.000000</td>\n",
              "      <td>0.000000</td>\n",
              "      <td>0.000000</td>\n",
              "      <td>0.000000</td>\n",
              "      <td>0.000000</td>\n",
              "      <td>0.000000</td>\n",
              "      <td>0.000000</td>\n",
              "      <td>0.000000</td>\n",
              "      <td>0.000000</td>\n",
              "      <td>0.000000</td>\n",
              "      <td>0.000000</td>\n",
              "      <td>0.000000</td>\n",
              "      <td>0.000000</td>\n",
              "      <td>0.000000</td>\n",
              "      <td>0.000000</td>\n",
              "      <td>0.000000</td>\n",
              "      <td>0.000000</td>\n",
              "      <td>0.000000</td>\n",
              "      <td>0.000000</td>\n",
              "      <td>0.000000</td>\n",
              "      <td>0.000000</td>\n",
              "      <td>0.000000</td>\n",
              "      <td>0.000000</td>\n",
              "      <td>0.000000</td>\n",
              "      <td>0.000000</td>\n",
              "      <td>0.000000</td>\n",
              "      <td>0.073000</td>\n",
              "      <td>0.000000</td>\n",
              "      <td>0.016000</td>\n",
              "      <td>0.000000</td>\n",
              "      <td>0.000000</td>\n",
              "      <td>2.297000</td>\n",
              "      <td>15.000000</td>\n",
              "      <td>101.00000</td>\n",
              "      <td>0.000000</td>\n",
              "    </tr>\n",
              "    <tr>\n",
              "      <th>75%</th>\n",
              "      <td>0.000000</td>\n",
              "      <td>0.000000</td>\n",
              "      <td>0.440000</td>\n",
              "      <td>0.000000</td>\n",
              "      <td>0.410000</td>\n",
              "      <td>0.000000</td>\n",
              "      <td>0.000000</td>\n",
              "      <td>0.000000</td>\n",
              "      <td>0.000000</td>\n",
              "      <td>0.190000</td>\n",
              "      <td>0.000000</td>\n",
              "      <td>0.830000</td>\n",
              "      <td>0.000000</td>\n",
              "      <td>0.000000</td>\n",
              "      <td>0.000000</td>\n",
              "      <td>0.120000</td>\n",
              "      <td>0.000000</td>\n",
              "      <td>0.000000</td>\n",
              "      <td>2.720000</td>\n",
              "      <td>0.000000</td>\n",
              "      <td>1.280000</td>\n",
              "      <td>0.000000</td>\n",
              "      <td>0.000000</td>\n",
              "      <td>0.000000</td>\n",
              "      <td>0.100000</td>\n",
              "      <td>0.000000</td>\n",
              "      <td>0.000000</td>\n",
              "      <td>0.000000</td>\n",
              "      <td>0.000000</td>\n",
              "      <td>0.000000</td>\n",
              "      <td>0.000000</td>\n",
              "      <td>0.000000</td>\n",
              "      <td>0.000000</td>\n",
              "      <td>0.000000</td>\n",
              "      <td>0.000000</td>\n",
              "      <td>0.000000</td>\n",
              "      <td>0.000000</td>\n",
              "      <td>0.000000</td>\n",
              "      <td>0.000000</td>\n",
              "      <td>0.000000</td>\n",
              "      <td>0.000000</td>\n",
              "      <td>0.000000</td>\n",
              "      <td>0.000000</td>\n",
              "      <td>0.000000</td>\n",
              "      <td>0.170000</td>\n",
              "      <td>0.000000</td>\n",
              "      <td>0.000000</td>\n",
              "      <td>0.000000</td>\n",
              "      <td>0.000000</td>\n",
              "      <td>0.194000</td>\n",
              "      <td>0.000000</td>\n",
              "      <td>0.331000</td>\n",
              "      <td>0.053000</td>\n",
              "      <td>0.000000</td>\n",
              "      <td>3.706000</td>\n",
              "      <td>44.000000</td>\n",
              "      <td>273.00000</td>\n",
              "      <td>1.000000</td>\n",
              "    </tr>\n",
              "    <tr>\n",
              "      <th>max</th>\n",
              "      <td>4.540000</td>\n",
              "      <td>14.280000</td>\n",
              "      <td>5.100000</td>\n",
              "      <td>42.810000</td>\n",
              "      <td>10.000000</td>\n",
              "      <td>5.880000</td>\n",
              "      <td>7.270000</td>\n",
              "      <td>11.110000</td>\n",
              "      <td>5.260000</td>\n",
              "      <td>18.180000</td>\n",
              "      <td>2.610000</td>\n",
              "      <td>9.670000</td>\n",
              "      <td>5.550000</td>\n",
              "      <td>10.000000</td>\n",
              "      <td>4.410000</td>\n",
              "      <td>20.000000</td>\n",
              "      <td>7.140000</td>\n",
              "      <td>9.090000</td>\n",
              "      <td>18.750000</td>\n",
              "      <td>18.180000</td>\n",
              "      <td>11.110000</td>\n",
              "      <td>17.100000</td>\n",
              "      <td>5.450000</td>\n",
              "      <td>12.500000</td>\n",
              "      <td>20.830000</td>\n",
              "      <td>16.660000</td>\n",
              "      <td>33.330000</td>\n",
              "      <td>9.090000</td>\n",
              "      <td>14.280000</td>\n",
              "      <td>5.880000</td>\n",
              "      <td>12.500000</td>\n",
              "      <td>4.760000</td>\n",
              "      <td>18.180000</td>\n",
              "      <td>4.760000</td>\n",
              "      <td>20.000000</td>\n",
              "      <td>7.690000</td>\n",
              "      <td>6.890000</td>\n",
              "      <td>8.330000</td>\n",
              "      <td>11.110000</td>\n",
              "      <td>4.760000</td>\n",
              "      <td>7.140000</td>\n",
              "      <td>14.280000</td>\n",
              "      <td>3.570000</td>\n",
              "      <td>20.000000</td>\n",
              "      <td>21.420000</td>\n",
              "      <td>22.050000</td>\n",
              "      <td>2.170000</td>\n",
              "      <td>10.000000</td>\n",
              "      <td>4.385000</td>\n",
              "      <td>9.752000</td>\n",
              "      <td>4.081000</td>\n",
              "      <td>32.478000</td>\n",
              "      <td>6.003000</td>\n",
              "      <td>19.829000</td>\n",
              "      <td>1102.500000</td>\n",
              "      <td>9989.000000</td>\n",
              "      <td>15841.00000</td>\n",
              "      <td>1.000000</td>\n",
              "    </tr>\n",
              "  </tbody>\n",
              "</table>\n",
              "</div>"
            ],
            "text/plain": [
              "       word_freq_make  word_freq_address  ...  capital_run_length_total  spam_or_not\n",
              "count     4209.000000        4209.000000  ...                4209.00000  4209.000000\n",
              "mean         0.104391           0.112530  ...                 291.18508     0.398670\n",
              "std          0.300036           0.454241  ...                 618.72831     0.489683\n",
              "min          0.000000           0.000000  ...                   1.00000     0.000000\n",
              "25%          0.000000           0.000000  ...                  40.00000     0.000000\n",
              "50%          0.000000           0.000000  ...                 101.00000     0.000000\n",
              "75%          0.000000           0.000000  ...                 273.00000     1.000000\n",
              "max          4.540000          14.280000  ...               15841.00000     1.000000\n",
              "\n",
              "[8 rows x 58 columns]"
            ]
          },
          "metadata": {
            "tags": []
          },
          "execution_count": 22
        }
      ]
    },
    {
      "cell_type": "markdown",
      "metadata": {
        "id": "rF2ABPsHUtbZ"
      },
      "source": [
        "## 5. Exploratory Analysis"
      ]
    },
    {
      "cell_type": "markdown",
      "metadata": {
        "id": "KT0wBrMX7pgf"
      },
      "source": [
        "##Univariate Analysis"
      ]
    },
    {
      "cell_type": "markdown",
      "metadata": {
        "id": "rthNkb6V7tpD"
      },
      "source": [
        "###Histograms"
      ]
    },
    {
      "cell_type": "code",
      "metadata": {
        "colab": {
          "base_uri": "https://localhost:8080/",
          "height": 283
        },
        "id": "EhhE2uV97tNb",
        "outputId": "c891e187-ff17-4006-a01e-aae2690a8002"
      },
      "source": [
        "#plotting the histogram word_freq_make\n",
        "spam['word_freq_make'].plot.hist(bins=10,rwidth=0.9,color='blue')\n",
        "plt.title('word_freq_make',fontsize=15,color='black',weight='bold')\n",
        "plt.show()"
      ],
      "execution_count": 24,
      "outputs": [
        {
          "output_type": "display_data",
          "data": {
            "image/png": "[encoded data removed]",
            "text/plain": [
              "<Figure size 432x288 with 1 Axes>"
            ]
          },
          "metadata": {
            "tags": [],
            "needs_background": "light"
          }
        }
      ]
    },
    {
      "cell_type": "code",
      "metadata": {
        "colab": {
          "base_uri": "https://localhost:8080/",
          "height": 283
        },
        "id": "6kxh9a0PDRuy",
        "outputId": "3259d78e-9c22-4741-f174-4bbfe44a00fd"
      },
      "source": [
        "#plotting the histogram word_freq_address\n",
        "spam['word_freq_address'].plot.hist(bins=20,rwidth=0.9,color='blue')\n",
        "plt.title('word_freq_address',fontsize=15,color='black',weight='bold')\n",
        "plt.show()"
      ],
      "execution_count": 25,
      "outputs": [
        {
          "output_type": "display_data",
          "data": {
            "image/png": "[encoded data removed]",
            "text/plain": [
              "<Figure size 432x288 with 1 Axes>"
            ]
          },
          "metadata": {
            "tags": [],
            "needs_background": "light"
          }
        }
      ]
    },
    {
      "cell_type": "code",
      "metadata": {
        "colab": {
          "base_uri": "https://localhost:8080/",
          "height": 283
        },
        "id": "Br8KiXraLl8D",
        "outputId": "ae5bd8a0-a192-4709-d60a-ea8965bdf296"
      },
      "source": [
        "#plotting the histogram word_freq_all\n",
        "spam['word_freq_all'].plot.hist(bins=5,rwidth=0.9,color='blue')\n",
        "plt.title('word_freq_all',fontsize=15,color='black',weight='bold')\n",
        "plt.show()"
      ],
      "execution_count": 26,
      "outputs": [
        {
          "output_type": "display_data",
          "data": {
            "image/png": "[encoded data removed]",
            "text/plain": [
              "<Figure size 432x288 with 1 Axes>"
            ]
          },
          "metadata": {
            "tags": [],
            "needs_background": "light"
          }
        }
      ]
    },
    {
      "cell_type": "code",
      "metadata": {
        "colab": {
          "base_uri": "https://localhost:8080/",
          "height": 283
        },
        "id": "4KZYBqR4Dh1b",
        "outputId": "b14fab96-70e5-4d1e-c8eb-e3b0acb3ba9c"
      },
      "source": [
        "#plotting the histogram word_freq_3d\n",
        "spam['word_freq_3d'].plot.hist(bins=10,rwidth=0.9,color='blue')\n",
        "plt.title('word_freq_3d',fontsize=15,color='black',weight='bold')\n",
        "plt.show()"
      ],
      "execution_count": 31,
      "outputs": [
        {
          "output_type": "display_data",
          "data": {
            "image/png": "[encoded data removed]",
            "text/plain": [
              "<Figure size 432x288 with 1 Axes>"
            ]
          },
          "metadata": {
            "tags": [],
            "needs_background": "light"
          }
        }
      ]
    },
    {
      "cell_type": "code",
      "metadata": {
        "colab": {
          "base_uri": "https://localhost:8080/",
          "height": 283
        },
        "id": "brqG1RdpMDjp",
        "outputId": "edbeb306-0817-43a1-d9d7-bd9c05f89c60"
      },
      "source": [
        "#plotting histogram word_freq_our\n",
        "spam['word_freq_our'].plot.hist(bins=20,rwidth=0.9,color='blue')\n",
        "plt.title('word_freq_our',fontsize=15,color='black',weight='bold')\n",
        "plt.show()"
      ],
      "execution_count": 45,
      "outputs": [
        {
          "output_type": "display_data",
          "data": {
            "image/png": "[encoded data removed]",
            "text/plain": [
              "<Figure size 432x288 with 1 Axes>"
            ]
          },
          "metadata": {
            "tags": [],
            "needs_background": "light"
          }
        }
      ]
    },
    {
      "cell_type": "code",
      "metadata": {
        "colab": {
          "base_uri": "https://localhost:8080/",
          "height": 283
        },
        "id": "QqWFsdkHMNVK",
        "outputId": "e6350702-2a2f-4c68-bea9-60e02ec11e2b"
      },
      "source": [
        "#plotting histogram word_freq_over\n",
        "spam['word_freq_over'].plot.hist(bins=10,rwidth=0.9,color='blue')\n",
        "plt.title('word_freq_over',fontsize=15,color='black',weight='bold')\n",
        "plt.show()"
      ],
      "execution_count": 33,
      "outputs": [
        {
          "output_type": "display_data",
          "data": {
            "image/png": "[encoded data removed]",
            "text/plain": [
              "<Figure size 432x288 with 1 Axes>"
            ]
          },
          "metadata": {
            "tags": [],
            "needs_background": "light"
          }
        }
      ]
    },
    {
      "cell_type": "code",
      "metadata": {
        "colab": {
          "base_uri": "https://localhost:8080/",
          "height": 283
        },
        "id": "prarkCNwMNHi",
        "outputId": "95cb11d9-9d31-4f27-a674-b0b9c6c22dbc"
      },
      "source": [
        "#plotting histogram:0.2\n",
        "spam['word_freq_remove'].plot.hist(bins=10,rwidth=0.9,color='blue')\n",
        "plt.title('word_freq_remove',fontsize=15,color='black',weight='bold')\n",
        "plt.show()"
      ],
      "execution_count": 34,
      "outputs": [
        {
          "output_type": "display_data",
          "data": {
            "image/png": "[encoded data removed]",
            "text/plain": [
              "<Figure size 432x288 with 1 Axes>"
            ]
          },
          "metadata": {
            "tags": [],
            "needs_background": "light"
          }
        }
      ]
    },
    {
      "cell_type": "code",
      "metadata": {
        "colab": {
          "base_uri": "https://localhost:8080/",
          "height": 283
        },
        "id": "MkvhUghNMNA5",
        "outputId": "87924c63-d429-44d9-9e50-8515eae5bfec"
      },
      "source": [
        "#plotting histogram:word_freq_internet\n",
        "spam['word_freq_internet'].plot.hist(bins=10,rwidth=0.9,color='blue')\n",
        "plt.title('word_freq_internet',fontsize=15,color='black',weight='bold')\n",
        "plt.show()"
      ],
      "execution_count": 35,
      "outputs": [
        {
          "output_type": "display_data",
          "data": {
            "image/png": "[encoded data removed]",
            "text/plain": [
              "<Figure size 432x288 with 1 Axes>"
            ]
          },
          "metadata": {
            "tags": [],
            "needs_background": "light"
          }
        }
      ]
    },
    {
      "cell_type": "code",
      "metadata": {
        "colab": {
          "base_uri": "https://localhost:8080/",
          "height": 283
        },
        "id": "hh9MMyahRokr",
        "outputId": "0a84fb35-d9f9-46b2-fe52-18ecf993d04d"
      },
      "source": [
        "#plotting histogram:word_freq_order\n",
        "spam['word_freq_order'].plot.hist(bins=10,rwidth=0.9,color='blue')\n",
        "plt.title('word_freq_order',fontsize=15,color='black',weight='bold')\n",
        "plt.show()"
      ],
      "execution_count": 36,
      "outputs": [
        {
          "output_type": "display_data",
          "data": {
            "image/png": "[encoded data removed]",
            "text/plain": [
              "<Figure size 432x288 with 1 Axes>"
            ]
          },
          "metadata": {
            "tags": [],
            "needs_background": "light"
          }
        }
      ]
    },
    {
      "cell_type": "code",
      "metadata": {
        "colab": {
          "base_uri": "https://localhost:8080/",
          "height": 283
        },
        "id": "BFe8323gRzHh",
        "outputId": "63adc202-54fe-4ad1-ffdd-c59dee986575"
      },
      "source": [
        "#plotting histogram:word_freq_mail\n",
        "spam['word_freq_mail'].plot.hist(bins=10,rwidth=0.9,color='blue')\n",
        "plt.title('word_freq_mail',fontsize=15,color='black',weight='bold')\n",
        "plt.show()"
      ],
      "execution_count": 37,
      "outputs": [
        {
          "output_type": "display_data",
          "data": {
            "image/png": "[encoded data removed]",
            "text/plain": [
              "<Figure size 432x288 with 1 Axes>"
            ]
          },
          "metadata": {
            "tags": [],
            "needs_background": "light"
          }
        }
      ]
    },
    {
      "cell_type": "code",
      "metadata": {
        "colab": {
          "base_uri": "https://localhost:8080/",
          "height": 283
        },
        "id": "_nbfPDeKR1fi",
        "outputId": "2cf17549-ce42-42d1-c1b2-971ef74b5c3b"
      },
      "source": [
        "#plotting histogram:word_freq_receive\n",
        "spam['word_freq_receive'].plot.hist(bins=10,rwidth=0.9,color='blue')\n",
        "plt.title('word_freq_receive',fontsize=15,color='black',weight='bold')\n",
        "plt.show()"
      ],
      "execution_count": 38,
      "outputs": [
        {
          "output_type": "display_data",
          "data": {
            "image/png": "[encoded data removed]",
            "text/plain": [
              "<Figure size 432x288 with 1 Axes>"
            ]
          },
          "metadata": {
            "tags": [],
            "needs_background": "light"
          }
        }
      ]
    },
    {
      "cell_type": "code",
      "metadata": {
        "colab": {
          "base_uri": "https://localhost:8080/",
          "height": 283
        },
        "id": "oRouMJv4R53x",
        "outputId": "5d4737de-c03f-4809-a3c0-b7128e7ff995"
      },
      "source": [
        "#plotting histogram:word_freq_will\n",
        "spam['word_freq_will'].plot.hist(bins=10,rwidth=0.9,color='blue')\n",
        "plt.title('word_freq_will',fontsize=15,color='black',weight='bold')\n",
        "plt.show()"
      ],
      "execution_count": 39,
      "outputs": [
        {
          "output_type": "display_data",
          "data": {
            "image/png": "[encoded data removed]",
            "text/plain": [
              "<Figure size 432x288 with 1 Axes>"
            ]
          },
          "metadata": {
            "tags": [],
            "needs_background": "light"
          }
        }
      ]
    },
    {
      "cell_type": "code",
      "metadata": {
        "colab": {
          "base_uri": "https://localhost:8080/",
          "height": 283
        },
        "id": "OEn_q9qdR82x",
        "outputId": "5c6470b5-e6ae-4550-e83e-6a88059fced2"
      },
      "source": [
        "#plotting histogram:word_freq_people\n",
        "spam['word_freq_people'].plot.hist(bins=10,rwidth=0.9,color='blue')\n",
        "plt.title('word_freq_people',fontsize=15,color='black',weight='bold')\n",
        "plt.show()"
      ],
      "execution_count": 40,
      "outputs": [
        {
          "output_type": "display_data",
          "data": {
            "image/png": "[encoded data removed]",
            "text/plain": [
              "<Figure size 432x288 with 1 Axes>"
            ]
          },
          "metadata": {
            "tags": [],
            "needs_background": "light"
          }
        }
      ]
    },
    {
      "cell_type": "code",
      "metadata": {
        "colab": {
          "base_uri": "https://localhost:8080/",
          "height": 283
        },
        "id": "4Y4P536HSAyW",
        "outputId": "574a7fa7-5d2e-4aa1-df1f-7a6b88748872"
      },
      "source": [
        "#plotting histogram:word_freq_report\n",
        "spam['word_freq_report'].plot.hist(bins=10,rwidth=0.9,color='blue')\n",
        "plt.title('word_freq_report',fontsize=15,color='black',weight='bold')\n",
        "plt.show()"
      ],
      "execution_count": 41,
      "outputs": [
        {
          "output_type": "display_data",
          "data": {
            "image/png": "[encoded data removed]",
            "text/plain": [
              "<Figure size 432x288 with 1 Axes>"
            ]
          },
          "metadata": {
            "tags": [],
            "needs_background": "light"
          }
        }
      ]
    },
    {
      "cell_type": "code",
      "metadata": {
        "colab": {
          "base_uri": "https://localhost:8080/",
          "height": 283
        },
        "id": "Mb3buGnvSDDg",
        "outputId": "dc16bfe4-b5f3-46bf-9d6e-2511154b91dd"
      },
      "source": [
        "#plotting histogram:0.9\n",
        "spam['word_freq_addresses'].plot.hist(bins=10,rwidth=0.9,color='blue')\n",
        "plt.title('word_freq_addresses',fontsize=15,color='black',weight='bold')\n",
        "plt.show()"
      ],
      "execution_count": 46,
      "outputs": [
        {
          "output_type": "display_data",
          "data": {
            "image/png": "[encoded data removed]",
            "text/plain": [
              "<Figure size 432x288 with 1 Axes>"
            ]
          },
          "metadata": {
            "tags": [],
            "needs_background": "light"
          }
        }
      ]
    },
    {
      "cell_type": "code",
      "metadata": {
        "colab": {
          "base_uri": "https://localhost:8080/",
          "height": 283
        },
        "id": "ROGhoKdlSFZ1",
        "outputId": "c7affef0-7316-44c0-bc1f-bf7d20c1c98d"
      },
      "source": [
        "#plotting histogram:word_freq_free\n",
        "spam['word_freq_free'].plot.hist(bins=10,rwidth=0.9,color='blue')\n",
        "plt.title('word_freq_free',fontsize=15,color='black',weight='bold')\n",
        "plt.show()"
      ],
      "execution_count": 47,
      "outputs": [
        {
          "output_type": "display_data",
          "data": {
            "image/png": "[encoded data removed]",
            "text/plain": [
              "<Figure size 432x288 with 1 Axes>"
            ]
          },
          "metadata": {
            "tags": [],
            "needs_background": "light"
          }
        }
      ]
    },
    {
      "cell_type": "code",
      "metadata": {
        "colab": {
          "base_uri": "https://localhost:8080/",
          "height": 283
        },
        "id": "qvpBcDnOSNEY",
        "outputId": "df347e3b-f00c-4a4a-98e9-b84b98086b02"
      },
      "source": [
        "#plotting histogram:word_freq_free\n",
        "spam['word_freq_free'].plot.hist(bins=10,rwidth=0.9,color='blue')\n",
        "plt.title('word_freq_free',fontsize=15,color='black',weight='bold')\n",
        "plt.show()"
      ],
      "execution_count": 48,
      "outputs": [
        {
          "output_type": "display_data",
          "data": {
            "image/png": "[encoded data removed]",
            "text/plain": [
              "<Figure size 432x288 with 1 Axes>"
            ]
          },
          "metadata": {
            "tags": [],
            "needs_background": "light"
          }
        }
      ]
    },
    {
      "cell_type": "code",
      "metadata": {
        "colab": {
          "base_uri": "https://localhost:8080/",
          "height": 283
        },
        "id": "X94Lm1xySS7n",
        "outputId": "6450daa2-269a-4ec9-8940-7bad801803c5"
      },
      "source": [
        "#plotting histogram:0.11\n",
        "spam['word_freq_business'].plot.hist(bins=10,rwidth=0.9,color='blue')\n",
        "plt.title('word_freq_business',fontsize=15,color='black',weight='bold')\n",
        "plt.show()"
      ],
      "execution_count": 49,
      "outputs": [
        {
          "output_type": "display_data",
          "data": {
            "image/png": "[encoded data removed]",
            "text/plain": [
              "<Figure size 432x288 with 1 Axes>"
            ]
          },
          "metadata": {
            "tags": [],
            "needs_background": "light"
          }
        }
      ]
    },
    {
      "cell_type": "code",
      "metadata": {
        "colab": {
          "base_uri": "https://localhost:8080/",
          "height": 283
        },
        "id": "azAueGvrSVJ3",
        "outputId": "cc9f3b4e-4dc4-4ce2-f992-877162a89c0b"
      },
      "source": [
        "#plotting histogram:word_freq_email\n",
        "spam['word_freq_email'].plot.hist(bins=10,rwidth=0.9,color='blue')\n",
        "plt.title('word_freq_email',fontsize=15,color='black',weight='bold')\n",
        "plt.show()"
      ],
      "execution_count": 50,
      "outputs": [
        {
          "output_type": "display_data",
          "data": {
            "image/png": "[encoded data removed]",
            "text/plain": [
              "<Figure size 432x288 with 1 Axes>"
            ]
          },
          "metadata": {
            "tags": [],
            "needs_background": "light"
          }
        }
      ]
    },
    {
      "cell_type": "code",
      "metadata": {
        "colab": {
          "base_uri": "https://localhost:8080/",
          "height": 283
        },
        "id": "-8-hUmb4SYL6",
        "outputId": "3ca0367f-7908-4792-d41c-3733b777384b"
      },
      "source": [
        "#plotting histogram:word_freq_you\n",
        "spam['word_freq_you'].plot.hist(bins=10,rwidth=0.9,color='blue')\n",
        "plt.title('word_freq_you',fontsize=15,color='black',weight='bold')\n",
        "plt.show()"
      ],
      "execution_count": 51,
      "outputs": [
        {
          "output_type": "display_data",
          "data": {
            "image/png": "[encoded data removed]",
            "text/plain": [
              "<Figure size 432x288 with 1 Axes>"
            ]
          },
          "metadata": {
            "tags": [],
            "needs_background": "light"
          }
        }
      ]
    },
    {
      "cell_type": "code",
      "metadata": {
        "colab": {
          "base_uri": "https://localhost:8080/",
          "height": 283
        },
        "id": "-8tRJ-W1Sb4y",
        "outputId": "2f15cd5d-be0e-4005-eaf7-d11a8fe960ef"
      },
      "source": [
        "#plotting histogram:word_freq_credit\n",
        "spam['word_freq_credit'].plot.hist(bins=10,rwidth=0.9,color='blue')\n",
        "plt.title('word_freq_credit',fontsize=15,color='black',weight='bold')\n",
        "plt.show()"
      ],
      "execution_count": 52,
      "outputs": [
        {
          "output_type": "display_data",
          "data": {
            "image/png": "[encoded data removed]",
            "text/plain": [
              "<Figure size 432x288 with 1 Axes>"
            ]
          },
          "metadata": {
            "tags": [],
            "needs_background": "light"
          }
        }
      ]
    },
    {
      "cell_type": "code",
      "metadata": {
        "colab": {
          "base_uri": "https://localhost:8080/",
          "height": 283
        },
        "id": "OHGphHiPSfNo",
        "outputId": "c82ee80c-c132-4882-fb6d-13b5b1ba22be"
      },
      "source": [
        "#plotting histogram:word_freq_your\n",
        "spam['word_freq_your'].plot.hist(bins=10,rwidth=0.9,color='blue')\n",
        "plt.title('word_freq_your',fontsize=15,color='black',weight='bold')\n",
        "plt.show()"
      ],
      "execution_count": 53,
      "outputs": [
        {
          "output_type": "display_data",
          "data": {
            "image/png": "[encoded data removed]",
            "text/plain": [
              "<Figure size 432x288 with 1 Axes>"
            ]
          },
          "metadata": {
            "tags": [],
            "needs_background": "light"
          }
        }
      ]
    },
    {
      "cell_type": "code",
      "metadata": {
        "colab": {
          "base_uri": "https://localhost:8080/",
          "height": 283
        },
        "id": "mZM7Ocm1SfUV",
        "outputId": "3965bd1e-8c67-4bf0-abc0-bb40384f7db1"
      },
      "source": [
        "#plotting histogram:word_freq_font\n",
        "spam['word_freq_font'].plot.hist(bins=10,rwidth=0.9,color='blue')\n",
        "plt.title('word_freq_font',fontsize=15,color='black',weight='bold')\n",
        "plt.show()"
      ],
      "execution_count": 54,
      "outputs": [
        {
          "output_type": "display_data",
          "data": {
            "image/png": "[encoded data removed]",
            "text/plain": [
              "<Figure size 432x288 with 1 Axes>"
            ]
          },
          "metadata": {
            "tags": [],
            "needs_background": "light"
          }
        }
      ]
    },
    {
      "cell_type": "code",
      "metadata": {
        "colab": {
          "base_uri": "https://localhost:8080/",
          "height": 283
        },
        "id": "OEpLcLGESfdQ",
        "outputId": "670c3942-8b20-44fb-f363-bcb11d76cc9d"
      },
      "source": [
        "#plotting histogram:word_freq_000\n",
        "spam['word_freq_000'].plot.hist(bins=10,rwidth=0.9,color='blue')\n",
        "plt.title('word_freq_000',fontsize=15,color='black',weight='bold')\n",
        "plt.show()"
      ],
      "execution_count": 55,
      "outputs": [
        {
          "output_type": "display_data",
          "data": {
            "image/png": "[encoded data removed]",
            "text/plain": [
              "<Figure size 432x288 with 1 Axes>"
            ]
          },
          "metadata": {
            "tags": [],
            "needs_background": "light"
          }
        }
      ]
    },
    {
      "cell_type": "code",
      "metadata": {
        "colab": {
          "base_uri": "https://localhost:8080/",
          "height": 283
        },
        "id": "keoEqI9VSYKX",
        "outputId": "413ee880-ab5b-453a-849f-11c61eb39d23"
      },
      "source": [
        "#plotting histogram:word_freq_money\n",
        "spam['word_freq_money'].plot.hist(bins=10,rwidth=0.9,color='blue')\n",
        "plt.title('word_freq_money',fontsize=15,color='black',weight='bold')\n",
        "plt.show()"
      ],
      "execution_count": 56,
      "outputs": [
        {
          "output_type": "display_data",
          "data": {
            "image/png": "[encoded data removed]",
            "text/plain": [
              "<Figure size 432x288 with 1 Axes>"
            ]
          },
          "metadata": {
            "tags": [],
            "needs_background": "light"
          }
        }
      ]
    },
    {
      "cell_type": "code",
      "metadata": {
        "colab": {
          "base_uri": "https://localhost:8080/",
          "height": 283
        },
        "id": "Vdkzj6-VSvXr",
        "outputId": "cdd5087b-987c-4605-e54c-e6886e48bf07"
      },
      "source": [
        "#plotting histogram:word_freq_hp\n",
        "spam['word_freq_hp'].plot.hist(bins=10,rwidth=0.9,color='blue')\n",
        "plt.title('word_freq_hp',fontsize=15,color='black',weight='bold')\n",
        "plt.show()"
      ],
      "execution_count": 57,
      "outputs": [
        {
          "output_type": "display_data",
          "data": {
            "image/png": "[encoded data removed]",
            "text/plain": [
              "<Figure size 432x288 with 1 Axes>"
            ]
          },
          "metadata": {
            "tags": [],
            "needs_background": "light"
          }
        }
      ]
    },
    {
      "cell_type": "code",
      "metadata": {
        "colab": {
          "base_uri": "https://localhost:8080/",
          "height": 283
        },
        "id": "Cn1JXfWoSyXs",
        "outputId": "3021874e-e5c2-4dee-a781-bbb17475fc12"
      },
      "source": [
        "#plotting histogram:word_freq_hpl\n",
        "spam['word_freq_hpl'].plot.hist(bins=10,rwidth=0.9,color='blue')\n",
        "plt.title('word_freq_hpl',fontsize=15,color='black',weight='bold')\n",
        "plt.show()"
      ],
      "execution_count": 58,
      "outputs": [
        {
          "output_type": "display_data",
          "data": {
            "image/png": "[encoded data removed]",
            "text/plain": [
              "<Figure size 432x288 with 1 Axes>"
            ]
          },
          "metadata": {
            "tags": [],
            "needs_background": "light"
          }
        }
      ]
    },
    {
      "cell_type": "code",
      "metadata": {
        "colab": {
          "base_uri": "https://localhost:8080/",
          "height": 283
        },
        "id": "enIjB7pJS0n1",
        "outputId": "86697400-5dae-4d3d-a287-0af12fbcb482"
      },
      "source": [
        "#plotting histogram:word_freq_george\n",
        "spam['word_freq_george'].plot.hist(bins=10,rwidth=0.9,color='blue')\n",
        "plt.title('word_freq_george',fontsize=15,color='black',weight='bold')\n",
        "plt.show()"
      ],
      "execution_count": 59,
      "outputs": [
        {
          "output_type": "display_data",
          "data": {
            "image/png": "[encoded data removed]",
            "text/plain": [
              "<Figure size 432x288 with 1 Axes>"
            ]
          },
          "metadata": {
            "tags": [],
            "needs_background": "light"
          }
        }
      ]
    },
    {
      "cell_type": "code",
      "metadata": {
        "colab": {
          "base_uri": "https://localhost:8080/",
          "height": 283
        },
        "id": "G6M6Ish3S4Cw",
        "outputId": "33767aba-842b-4442-a402-cd848541c1c4"
      },
      "source": [
        "#plotting histogram:word_freq_650\n",
        "spam['word_freq_650'].plot.hist(bins=10,rwidth=0.9,color='blue')\n",
        "plt.title('word_freq_650',fontsize=15,color='black',weight='bold')\n",
        "plt.show()"
      ],
      "execution_count": 60,
      "outputs": [
        {
          "output_type": "display_data",
          "data": {
            "image/png": "[encoded data removed]",
            "text/plain": [
              "<Figure size 432x288 with 1 Axes>"
            ]
          },
          "metadata": {
            "tags": [],
            "needs_background": "light"
          }
        }
      ]
    },
    {
      "cell_type": "code",
      "metadata": {
        "colab": {
          "base_uri": "https://localhost:8080/",
          "height": 283
        },
        "id": "3le8cDwES6fc",
        "outputId": "1b21ffe6-3481-4d0a-c15b-eee88105ca8b"
      },
      "source": [
        "#plotting histogram:word_freq_lab\n",
        "spam['word_freq_lab'].plot.hist(bins=10,rwidth=0.9,color='blue')\n",
        "plt.title('word_freq_lab',fontsize=15,color='black',weight='bold')\n",
        "plt.show()"
      ],
      "execution_count": 61,
      "outputs": [
        {
          "output_type": "display_data",
          "data": {
            "image/png": "[encoded data removed]",
            "text/plain": [
              "<Figure size 432x288 with 1 Axes>"
            ]
          },
          "metadata": {
            "tags": [],
            "needs_background": "light"
          }
        }
      ]
    },
    {
      "cell_type": "code",
      "metadata": {
        "colab": {
          "base_uri": "https://localhost:8080/",
          "height": 283
        },
        "id": "nAItxPQGS-2a",
        "outputId": "6ae42e8c-eb79-4a67-d4d4-21e269da023b"
      },
      "source": [
        "#plotting histogram:word_freq_labs\n",
        "spam['word_freq_labs'].plot.hist(bins=10,rwidth=0.9,color='blue')\n",
        "plt.title('word_freq_labs',fontsize=15,color='black',weight='bold')\n",
        "plt.show()"
      ],
      "execution_count": 62,
      "outputs": [
        {
          "output_type": "display_data",
          "data": {
            "image/png": "[encoded data removed]",
            "text/plain": [
              "<Figure size 432x288 with 1 Axes>"
            ]
          },
          "metadata": {
            "tags": [],
            "needs_background": "light"
          }
        }
      ]
    },
    {
      "cell_type": "code",
      "metadata": {
        "colab": {
          "base_uri": "https://localhost:8080/",
          "height": 283
        },
        "id": "JobevEfATElW",
        "outputId": "a0f28e25-a802-4b2a-e6c5-c7947b33546e"
      },
      "source": [
        "#plotting histogram:word_freq_telnet\n",
        "spam['word_freq_telnet'].plot.hist(bins=10,rwidth=0.9,color='blue')\n",
        "plt.title('word_freq_telnet',fontsize=15,color='black',weight='bold')\n",
        "plt.show()"
      ],
      "execution_count": 63,
      "outputs": [
        {
          "output_type": "display_data",
          "data": {
            "image/png": "[encoded data removed]",
            "text/plain": [
              "<Figure size 432x288 with 1 Axes>"
            ]
          },
          "metadata": {
            "tags": [],
            "needs_background": "light"
          }
        }
      ]
    },
    {
      "cell_type": "code",
      "metadata": {
        "colab": {
          "base_uri": "https://localhost:8080/",
          "height": 283
        },
        "id": "HYqxqjqRTItB",
        "outputId": "dc3694d2-8004-40ff-8c7c-51b8ffc7b32d"
      },
      "source": [
        "#plotting histogram:word_freq_857\n",
        "spam['word_freq_857'].plot.hist(bins=10,rwidth=0.9,color='blue')\n",
        "plt.title('word_freq_857',fontsize=15,color='black',weight='bold')\n",
        "plt.show()"
      ],
      "execution_count": 64,
      "outputs": [
        {
          "output_type": "display_data",
          "data": {
            "image/png": "[encoded data removed]",
            "text/plain": [
              "<Figure size 432x288 with 1 Axes>"
            ]
          },
          "metadata": {
            "tags": [],
            "needs_background": "light"
          }
        }
      ]
    },
    {
      "cell_type": "code",
      "metadata": {
        "colab": {
          "base_uri": "https://localhost:8080/",
          "height": 283
        },
        "id": "1AvlNpHCTNGK",
        "outputId": "7f335d9d-ea4b-4620-a3ff-4596e18a04ee"
      },
      "source": [
        "#plotting histogram:word_freq_data\n",
        "spam['word_freq_data'].plot.hist(bins=10,rwidth=0.9,color='blue')\n",
        "plt.title('word_freq_data',fontsize=15,color='black',weight='bold')\n",
        "plt.show()"
      ],
      "execution_count": 65,
      "outputs": [
        {
          "output_type": "display_data",
          "data": {
            "image/png": "[encoded data removed]",
            "text/plain": [
              "<Figure size 432x288 with 1 Axes>"
            ]
          },
          "metadata": {
            "tags": [],
            "needs_background": "light"
          }
        }
      ]
    },
    {
      "cell_type": "code",
      "metadata": {
        "colab": {
          "base_uri": "https://localhost:8080/",
          "height": 283
        },
        "id": "xwED6sxRTQkx",
        "outputId": "d4324f62-15b6-49b1-b288-3b26ac56a511"
      },
      "source": [
        "#plotting histogram:word_freq_415\n",
        "spam['word_freq_415'].plot.hist(bins=10,rwidth=0.9,color='blue')\n",
        "plt.title('word_freq_415',fontsize=15,color='black',weight='bold')\n",
        "plt.show()"
      ],
      "execution_count": 66,
      "outputs": [
        {
          "output_type": "display_data",
          "data": {
            "image/png": "[encoded data removed]",
            "text/plain": [
              "<Figure size 432x288 with 1 Axes>"
            ]
          },
          "metadata": {
            "tags": [],
            "needs_background": "light"
          }
        }
      ]
    },
    {
      "cell_type": "code",
      "metadata": {
        "colab": {
          "base_uri": "https://localhost:8080/",
          "height": 283
        },
        "id": "7KCTkn9vTTGt",
        "outputId": "92a7b1cf-1228-43a1-bf31-0de0750e5a41"
      },
      "source": [
        "#plotting histogram:word_freq_85\n",
        "spam['word_freq_85'].plot.hist(bins=10,rwidth=0.9,color='blue')\n",
        "plt.title('word_freq_85',fontsize=15,color='black',weight='bold')\n",
        "plt.show()"
      ],
      "execution_count": 67,
      "outputs": [
        {
          "output_type": "display_data",
          "data": {
            "image/png": "[encoded data removed]",
            "text/plain": [
              "<Figure size 432x288 with 1 Axes>"
            ]
          },
          "metadata": {
            "tags": [],
            "needs_background": "light"
          }
        }
      ]
    },
    {
      "cell_type": "code",
      "metadata": {
        "colab": {
          "base_uri": "https://localhost:8080/",
          "height": 283
        },
        "id": "JUbwseH9TVLn",
        "outputId": "223a9d85-1042-4918-d981-0f9b338272f9"
      },
      "source": [
        "#plotting histogram:word_freq_technology\n",
        "spam['word_freq_technology'].plot.hist(bins=10,rwidth=0.9,color='blue')\n",
        "plt.title('word_freq_technology',fontsize=15,color='black',weight='bold')\n",
        "plt.show()"
      ],
      "execution_count": 68,
      "outputs": [
        {
          "output_type": "display_data",
          "data": {
            "image/png": "[encoded data removed]",
            "text/plain": [
              "<Figure size 432x288 with 1 Axes>"
            ]
          },
          "metadata": {
            "tags": [],
            "needs_background": "light"
          }
        }
      ]
    },
    {
      "cell_type": "code",
      "metadata": {
        "colab": {
          "base_uri": "https://localhost:8080/",
          "height": 283
        },
        "id": "r5uAo12OTXBE",
        "outputId": "bb025a76-231f-4645-e94f-af1d6cc4f1dc"
      },
      "source": [
        "#plotting histogram:word_freq_1999\n",
        "spam['word_freq_1999'].plot.hist(bins=10,rwidth=0.9,color='blue')\n",
        "plt.title('word_freq_1999',fontsize=15,color='black',weight='bold')\n",
        "plt.show()"
      ],
      "execution_count": 69,
      "outputs": [
        {
          "output_type": "display_data",
          "data": {
            "image/png": "[encoded data removed]",
            "text/plain": [
              "<Figure size 432x288 with 1 Axes>"
            ]
          },
          "metadata": {
            "tags": [],
            "needs_background": "light"
          }
        }
      ]
    },
    {
      "cell_type": "code",
      "metadata": {
        "colab": {
          "base_uri": "https://localhost:8080/",
          "height": 283
        },
        "id": "3LrO_wMvTY4k",
        "outputId": "1b8335bf-5ac0-4d01-a735-de2b6c6d78a6"
      },
      "source": [
        "#plotting histogram:word_freq_parts\n",
        "spam['word_freq_parts'].plot.hist(bins=10,rwidth=0.9,color='blue')\n",
        "plt.title('word_freq_parts',fontsize=15,color='black',weight='bold')\n",
        "plt.show()"
      ],
      "execution_count": 70,
      "outputs": [
        {
          "output_type": "display_data",
          "data": {
            "image/png": "[encoded data removed]",
            "text/plain": [
              "<Figure size 432x288 with 1 Axes>"
            ]
          },
          "metadata": {
            "tags": [],
            "needs_background": "light"
          }
        }
      ]
    },
    {
      "cell_type": "code",
      "metadata": {
        "colab": {
          "base_uri": "https://localhost:8080/",
          "height": 283
        },
        "id": "A5WnbivWTbXD",
        "outputId": "65cee4ff-0954-47d8-fc4f-cc55b723fe50"
      },
      "source": [
        "#plotting histogram:word_freq_pm\n",
        "spam['word_freq_pm'].plot.hist(bins=10,rwidth=0.9,color='blue')\n",
        "plt.title('word_freq_pm',fontsize=15,color='black',weight='bold')\n",
        "plt.show()"
      ],
      "execution_count": 71,
      "outputs": [
        {
          "output_type": "display_data",
          "data": {
            "image/png": "[encoded data removed]",
            "text/plain": [
              "<Figure size 432x288 with 1 Axes>"
            ]
          },
          "metadata": {
            "tags": [],
            "needs_background": "light"
          }
        }
      ]
    },
    {
      "cell_type": "code",
      "metadata": {
        "colab": {
          "base_uri": "https://localhost:8080/",
          "height": 283
        },
        "id": "RTffgcdVTeAQ",
        "outputId": "766099ec-6e40-49df-d218-530e475d76f9"
      },
      "source": [
        "#plotting histogram:word_freq_direct\n",
        "spam['word_freq_direct'].plot.hist(bins=10,rwidth=0.9,color='blue')\n",
        "plt.title('word_freq_direct',fontsize=15,color='black',weight='bold')\n",
        "plt.show()"
      ],
      "execution_count": 72,
      "outputs": [
        {
          "output_type": "display_data",
          "data": {
            "image/png": "[encoded data removed]",
            "text/plain": [
              "<Figure size 432x288 with 1 Axes>"
            ]
          },
          "metadata": {
            "tags": [],
            "needs_background": "light"
          }
        }
      ]
    },
    {
      "cell_type": "code",
      "metadata": {
        "colab": {
          "base_uri": "https://localhost:8080/",
          "height": 283
        },
        "id": "2eWnvdqATiCO",
        "outputId": "8f129922-cf26-481f-c65b-c79dd4c8f48c"
      },
      "source": [
        "#plotting histogram:word_freq_cs\n",
        "spam['word_freq_cs'].plot.hist(bins=10,rwidth=0.9,color='blue')\n",
        "plt.title('word_freq_cs',fontsize=15,color='black',weight='bold')\n",
        "plt.show()"
      ],
      "execution_count": 73,
      "outputs": [
        {
          "output_type": "display_data",
          "data": {
            "image/png": "[encoded data removed]",
            "text/plain": [
              "<Figure size 432x288 with 1 Axes>"
            ]
          },
          "metadata": {
            "tags": [],
            "needs_background": "light"
          }
        }
      ]
    },
    {
      "cell_type": "code",
      "metadata": {
        "colab": {
          "base_uri": "https://localhost:8080/",
          "height": 283
        },
        "id": "oGktIdXiTkoG",
        "outputId": "e5f8b9e0-e4a0-4371-a8a6-00da6ea754fe"
      },
      "source": [
        "#plotting histogram:word_freq_meeting\n",
        "spam['word_freq_meeting'].plot.hist(bins=10,rwidth=0.9,color='blue')\n",
        "plt.title('word_freq_meeting',fontsize=15,color='black',weight='bold')\n",
        "plt.show()"
      ],
      "execution_count": 74,
      "outputs": [
        {
          "output_type": "display_data",
          "data": {
            "image/png": "[encoded data removed]",
            "text/plain": [
              "<Figure size 432x288 with 1 Axes>"
            ]
          },
          "metadata": {
            "tags": [],
            "needs_background": "light"
          }
        }
      ]
    },
    {
      "cell_type": "code",
      "metadata": {
        "colab": {
          "base_uri": "https://localhost:8080/",
          "height": 283
        },
        "id": "sf9LuKorTnUj",
        "outputId": "2f469c2e-2e87-47ae-e226-4056ea87125d"
      },
      "source": [
        "#plotting histogram:word_freq_original\n",
        "spam['word_freq_original'].plot.hist(bins=10,rwidth=0.9,color='blue')\n",
        "plt.title('word_freq_original',fontsize=15,color='black',weight='bold')\n",
        "plt.show()"
      ],
      "execution_count": 75,
      "outputs": [
        {
          "output_type": "display_data",
          "data": {
            "image/png": "[encoded data removed]",
            "text/plain": [
              "<Figure size 432x288 with 1 Axes>"
            ]
          },
          "metadata": {
            "tags": [],
            "needs_background": "light"
          }
        }
      ]
    },
    {
      "cell_type": "code",
      "metadata": {
        "colab": {
          "base_uri": "https://localhost:8080/",
          "height": 283
        },
        "id": "gD8lmcThTqRX",
        "outputId": "a18e866b-9474-4b1a-e62a-2999e3f4f303"
      },
      "source": [
        "#plotting histogram:word_freq_project\n",
        "spam['word_freq_project'].plot.hist(bins=10,rwidth=0.9,color='blue')\n",
        "plt.title('word_freq_project',fontsize=15,color='black',weight='bold')\n",
        "plt.show()"
      ],
      "execution_count": 76,
      "outputs": [
        {
          "output_type": "display_data",
          "data": {
            "image/png": "[encoded data removed]",
            "text/plain": [
              "<Figure size 432x288 with 1 Axes>"
            ]
          },
          "metadata": {
            "tags": [],
            "needs_background": "light"
          }
        }
      ]
    },
    {
      "cell_type": "code",
      "metadata": {
        "colab": {
          "base_uri": "https://localhost:8080/",
          "height": 283
        },
        "id": "olhrnCJgTtrb",
        "outputId": "ca105a51-13da-4ad7-c7e7-97e7cbb3ac6f"
      },
      "source": [
        "#plotting histogram:word_freq_re\n",
        "spam['word_freq_re'].plot.hist(bins=10,rwidth=0.9,color='blue')\n",
        "plt.title('word_freq_re',fontsize=15,color='black',weight='bold')\n",
        "plt.show()"
      ],
      "execution_count": 77,
      "outputs": [
        {
          "output_type": "display_data",
          "data": {
            "image/png": "[encoded data removed]",
            "text/plain": [
              "<Figure size 432x288 with 1 Axes>"
            ]
          },
          "metadata": {
            "tags": [],
            "needs_background": "light"
          }
        }
      ]
    },
    {
      "cell_type": "code",
      "metadata": {
        "colab": {
          "base_uri": "https://localhost:8080/",
          "height": 283
        },
        "id": "G63ndNBOTwEI",
        "outputId": "5ce0123e-da00-484e-9d41-d3cc0fbbdf69"
      },
      "source": [
        "#plotting histogram:word_freq_edu\n",
        "spam['word_freq_edu'].plot.hist(bins=10,rwidth=0.9,color='blue')\n",
        "plt.title('word_freq_edu',fontsize=15,color='black',weight='bold')\n",
        "plt.show()"
      ],
      "execution_count": 78,
      "outputs": [
        {
          "output_type": "display_data",
          "data": {
            "image/png": "[encoded data removed]",
            "text/plain": [
              "<Figure size 432x288 with 1 Axes>"
            ]
          },
          "metadata": {
            "tags": [],
            "needs_background": "light"
          }
        }
      ]
    },
    {
      "cell_type": "code",
      "metadata": {
        "colab": {
          "base_uri": "https://localhost:8080/",
          "height": 283
        },
        "id": "NB5Gw-p4TzVm",
        "outputId": "02b9a9ee-9602-4359-808a-a9b432882151"
      },
      "source": [
        "#plotting histogram:word_freq_table\n",
        "spam['word_freq_table'].plot.hist(bins=10,rwidth=0.9,color='blue')\n",
        "plt.title('word_freq_table',fontsize=15,color='black',weight='bold')\n",
        "plt.show()"
      ],
      "execution_count": 79,
      "outputs": [
        {
          "output_type": "display_data",
          "data": {
            "image/png": "[encoded data removed]",
            "text/plain": [
              "<Figure size 432x288 with 1 Axes>"
            ]
          },
          "metadata": {
            "tags": [],
            "needs_background": "light"
          }
        }
      ]
    },
    {
      "cell_type": "code",
      "metadata": {
        "colab": {
          "base_uri": "https://localhost:8080/",
          "height": 283
        },
        "id": "IDd-vFzLT3SW",
        "outputId": "21ecbc09-0859-46b5-a141-f419a30025f3"
      },
      "source": [
        "#plotting histogram:word_freq_conference\n",
        "spam['word_freq_conference'].plot.hist(bins=10,rwidth=0.9,color='blue')\n",
        "plt.title('word_freq_conference',fontsize=15,color='black',weight='bold')\n",
        "plt.show()"
      ],
      "execution_count": 80,
      "outputs": [
        {
          "output_type": "display_data",
          "data": {
            "image/png": "[encoded data removed]",
            "text/plain": [
              "<Figure size 432x288 with 1 Axes>"
            ]
          },
          "metadata": {
            "tags": [],
            "needs_background": "light"
          }
        }
      ]
    },
    {
      "cell_type": "code",
      "metadata": {
        "colab": {
          "base_uri": "https://localhost:8080/",
          "height": 283
        },
        "id": "at_HW8DxT5-l",
        "outputId": "d0e671d2-3591-4848-930a-b9d7a8ebb59e"
      },
      "source": [
        "#plotting histogram:char_freq_;\n",
        "spam['char_freq_;'].plot.hist(bins=10,rwidth=0.9,color='blue')\n",
        "plt.title('char_freq_;',fontsize=15,color='black',weight='bold')\n",
        "plt.show()"
      ],
      "execution_count": 82,
      "outputs": [
        {
          "output_type": "display_data",
          "data": {
            "image/png": "[encoded data removed]",
            "text/plain": [
              "<Figure size 432x288 with 1 Axes>"
            ]
          },
          "metadata": {
            "tags": [],
            "needs_background": "light"
          }
        }
      ]
    },
    {
      "cell_type": "code",
      "metadata": {
        "colab": {
          "base_uri": "https://localhost:8080/",
          "height": 283
        },
        "id": "DHMtoEAJT9pj",
        "outputId": "f0997e39-f566-4a9d-e9b6-f8047d877c91"
      },
      "source": [
        "#plotting histogram:char_freq_(\n",
        "spam['char_freq_('].plot.hist(bins=10,rwidth=0.9,color='blue')\n",
        "plt.title('char_freq_(',fontsize=15,color='black',weight='bold')\n",
        "plt.show()"
      ],
      "execution_count": 83,
      "outputs": [
        {
          "output_type": "display_data",
          "data": {
            "image/png": "[encoded data removed]",
            "text/plain": [
              "<Figure size 432x288 with 1 Axes>"
            ]
          },
          "metadata": {
            "tags": [],
            "needs_background": "light"
          }
        }
      ]
    },
    {
      "cell_type": "code",
      "metadata": {
        "colab": {
          "base_uri": "https://localhost:8080/",
          "height": 283
        },
        "id": "GaVA7e-XUA6q",
        "outputId": "9d4dc08c-bc62-4d6a-d8d0-2e0049c0a7fa"
      },
      "source": [
        "#plotting histogram:char_freq_[\n",
        "spam['char_freq_['].plot.hist(bins=10,rwidth=0.9,color='blue')\n",
        "plt.title('char_freq_[',fontsize=15,color='black',weight='bold')\n",
        "plt.show()"
      ],
      "execution_count": 84,
      "outputs": [
        {
          "output_type": "display_data",
          "data": {
            "image/png": "[encoded data removed]",
            "text/plain": [
              "<Figure size 432x288 with 1 Axes>"
            ]
          },
          "metadata": {
            "tags": [],
            "needs_background": "light"
          }
        }
      ]
    },
    {
      "cell_type": "code",
      "metadata": {
        "colab": {
          "base_uri": "https://localhost:8080/",
          "height": 283
        },
        "id": "-wt1OoccUEOn",
        "outputId": "255aeccd-5943-469e-8fc2-4cbef4f43966"
      },
      "source": [
        "#plotting histogram:char_freq_!\n",
        "spam['char_freq_!'].plot.hist(bins=10,rwidth=0.9,color='blue')\n",
        "plt.title('char_freq_!',fontsize=15,color='black',weight='bold')\n",
        "plt.show()"
      ],
      "execution_count": 85,
      "outputs": [
        {
          "output_type": "display_data",
          "data": {
            "image/png": "[encoded data removed]",
            "text/plain": [
              "<Figure size 432x288 with 1 Axes>"
            ]
          },
          "metadata": {
            "tags": [],
            "needs_background": "light"
          }
        }
      ]
    },
    {
      "cell_type": "code",
      "metadata": {
        "colab": {
          "base_uri": "https://localhost:8080/",
          "height": 283
        },
        "id": "fswVkIczUHoY",
        "outputId": "fc5aa125-6e36-4772-e68a-62fa2efc0c85"
      },
      "source": [
        "#plotting histogram:char_freq_$\n",
        "spam['char_freq_$'].plot.hist(bins=10,rwidth=0.9,color='blue')\n",
        "plt.title('char_freq_$',fontsize=15,color='black',weight='bold')\n",
        "plt.show()"
      ],
      "execution_count": 86,
      "outputs": [
        {
          "output_type": "display_data",
          "data": {
            "image/png": "[encoded data removed]",
            "text/plain": [
              "<Figure size 432x288 with 1 Axes>"
            ]
          },
          "metadata": {
            "tags": [],
            "needs_background": "light"
          }
        }
      ]
    },
    {
      "cell_type": "code",
      "metadata": {
        "colab": {
          "base_uri": "https://localhost:8080/",
          "height": 283
        },
        "id": "vAwZkTdtUKdu",
        "outputId": "41e1693a-68ec-4f10-90af-d01ca748c0b8"
      },
      "source": [
        "#plotting histogram:char_freq_#\n",
        "spam['char_freq_#'].plot.hist(bins=10,rwidth=0.9,color='blue')\n",
        "plt.title('char_freq_#',fontsize=15,color='black',weight='bold')\n",
        "plt.show()"
      ],
      "execution_count": 87,
      "outputs": [
        {
          "output_type": "display_data",
          "data": {
            "image/png": "[encoded data removed]",
            "text/plain": [
              "<Figure size 432x288 with 1 Axes>"
            ]
          },
          "metadata": {
            "tags": [],
            "needs_background": "light"
          }
        }
      ]
    },
    {
      "cell_type": "code",
      "metadata": {
        "colab": {
          "base_uri": "https://localhost:8080/",
          "height": 283
        },
        "id": "8H8YW6Q9UPQr",
        "outputId": "62c506fb-cd59-4cce-8521-4610efffd718"
      },
      "source": [
        "#plotting histogram:capital_run_length_average\n",
        "spam['capital_run_length_average'].plot.hist(bins=10,rwidth=0.9,color='blue')\n",
        "plt.title('capital_run_length_average',fontsize=15,color='black',weight='bold')\n",
        "plt.show()"
      ],
      "execution_count": 88,
      "outputs": [
        {
          "output_type": "display_data",
          "data": {
            "image/png": "[encoded data removed]",
            "text/plain": [
              "<Figure size 432x288 with 1 Axes>"
            ]
          },
          "metadata": {
            "tags": [],
            "needs_background": "light"
          }
        }
      ]
    },
    {
      "cell_type": "code",
      "metadata": {
        "colab": {
          "base_uri": "https://localhost:8080/",
          "height": 283
        },
        "id": "LwjzIyH5URmC",
        "outputId": "16b8e6b8-bcdc-4e93-d8c8-5a821b1c940b"
      },
      "source": [
        "#plotting histogram:capital_run_length_longest\n",
        "spam['capital_run_length_longest'].plot.hist(bins=10,rwidth=0.9,color='blue')\n",
        "plt.title('capital_run_length_longest',fontsize=15,color='black',weight='bold')\n",
        "plt.show()"
      ],
      "execution_count": 89,
      "outputs": [
        {
          "output_type": "display_data",
          "data": {
            "image/png": "[encoded data removed]",
            "text/plain": [
              "<Figure size 432x288 with 1 Axes>"
            ]
          },
          "metadata": {
            "tags": [],
            "needs_background": "light"
          }
        }
      ]
    },
    {
      "cell_type": "code",
      "metadata": {
        "colab": {
          "base_uri": "https://localhost:8080/",
          "height": 283
        },
        "id": "8RronRs9I2RO",
        "outputId": "e5713b36-2480-4bf3-a93c-1aaad2b16ef7"
      },
      "source": [
        "#plotting histogram:capital_run_length_total\n",
        "spam['capital_run_length_total'].plot.hist(bins=10,rwidth=0.9,color='blue')\n",
        "plt.title('capital_run_length_total',fontsize=15,color='black',weight='bold')\n",
        "plt.show()"
      ],
      "execution_count": 90,
      "outputs": [
        {
          "output_type": "display_data",
          "data": {
            "image/png": "[encoded data removed]",
            "text/plain": [
              "<Figure size 432x288 with 1 Axes>"
            ]
          },
          "metadata": {
            "tags": [],
            "needs_background": "light"
          }
        }
      ]
    },
    {
      "cell_type": "markdown",
      "metadata": {
        "id": "frNdJxLJ6pCC"
      },
      "source": [
        "*Majority of the features within this dataset are skewed to the left*"
      ]
    },
    {
      "cell_type": "markdown",
      "metadata": {
        "id": "5xZwfWYzDPHF"
      },
      "source": [
        "###Bar graphs"
      ]
    },
    {
      "cell_type": "code",
      "metadata": {
        "colab": {
          "base_uri": "https://localhost:8080/",
          "height": 332
        },
        "id": "HSRnv-bcAm2E",
        "outputId": "46dff2a7-9b16-418f-cff9-adebed9ab306"
      },
      "source": [
        "#bar graph of 1\n",
        "spam['spam_or_not'].value_counts().plot(kind='bar', figsize=(5,5),title='spam_or_not',color='orange')\n",
        "plt.show()"
      ],
      "execution_count": 92,
      "outputs": [
        {
          "output_type": "display_data",
          "data": {
            "image/png": "[encoded data removed]",
            "text/plain": [
              "<Figure size 360x360 with 1 Axes>"
            ]
          },
          "metadata": {
            "tags": [],
            "needs_background": "light"
          }
        }
      ]
    },
    {
      "cell_type": "markdown",
      "metadata": {
        "id": "4h-EbwfYWr7s"
      },
      "source": [
        "> *Majority of the values are 0 representing unsolicited emails*"
      ]
    },
    {
      "cell_type": "markdown",
      "metadata": {
        "id": "We2LABcvXC-y"
      },
      "source": [
        "## Bivariate Analysis"
      ]
    },
    {
      "cell_type": "markdown",
      "metadata": {
        "id": "8h6DZbrfCbMT"
      },
      "source": [
        "### Correlation matrix"
      ]
    },
    {
      "cell_type": "code",
      "metadata": {
        "id": "5nnRToniXGDK",
        "colab": {
          "base_uri": "https://localhost:8080/",
          "height": 1000
        },
        "outputId": "4e610177-b6b5-458c-e22a-8f3c75315e46"
      },
      "source": [
        "#correlation matrix\n",
        "corr = spam.corr()\n",
        "corr"
      ],
      "execution_count": 93,
      "outputs": [
        {
          "output_type": "execute_result",
          "data": {
            "text/html": [
              "<div>\n",
              "<style scoped>\n",
              "    .dataframe tbody tr th:only-of-type {\n",
              "        vertical-align: middle;\n",
              "    }\n",
              "\n",
              "    .dataframe tbody tr th {\n",
              "        vertical-align: top;\n",
              "    }\n",
              "\n",
              "    .dataframe thead th {\n",
              "        text-align: right;\n",
              "    }\n",
              "</style>\n",
              "<table border=\"1\" class=\"dataframe\">\n",
              "  <thead>\n",
              "    <tr style=\"text-align: right;\">\n",
              "      <th></th>\n",
              "      <th>word_freq_make</th>\n",
              "      <th>word_freq_address</th>\n",
              "      <th>word_freq_all</th>\n",
              "      <th>word_freq_3d</th>\n",
              "      <th>word_freq_our</th>\n",
              "      <th>word_freq_over</th>\n",
              "      <th>word_freq_remove</th>\n",
              "      <th>word_freq_internet</th>\n",
              "      <th>word_freq_order</th>\n",
              "      <th>word_freq_mail</th>\n",
              "      <th>word_freq_receive</th>\n",
              "      <th>word_freq_will</th>\n",
              "      <th>word_freq_people</th>\n",
              "      <th>word_freq_report</th>\n",
              "      <th>word_freq_addresses</th>\n",
              "      <th>word_freq_free</th>\n",
              "      <th>word_freq_business</th>\n",
              "      <th>word_freq_email</th>\n",
              "      <th>word_freq_you</th>\n",
              "      <th>word_freq_credit</th>\n",
              "      <th>word_freq_your</th>\n",
              "      <th>word_freq_font</th>\n",
              "      <th>word_freq_000</th>\n",
              "      <th>word_freq_money</th>\n",
              "      <th>word_freq_hp</th>\n",
              "      <th>word_freq_hpl</th>\n",
              "      <th>word_freq_george</th>\n",
              "      <th>word_freq_650</th>\n",
              "      <th>word_freq_lab</th>\n",
              "      <th>word_freq_labs</th>\n",
              "      <th>word_freq_telnet</th>\n",
              "      <th>word_freq_857</th>\n",
              "      <th>word_freq_data</th>\n",
              "      <th>word_freq_415</th>\n",
              "      <th>word_freq_85</th>\n",
              "      <th>word_freq_technology</th>\n",
              "      <th>word_freq_1999</th>\n",
              "      <th>word_freq_parts</th>\n",
              "      <th>word_freq_pm</th>\n",
              "      <th>word_freq_direct</th>\n",
              "      <th>word_freq_cs</th>\n",
              "      <th>word_freq_meeting</th>\n",
              "      <th>word_freq_original</th>\n",
              "      <th>word_freq_project</th>\n",
              "      <th>word_freq_re</th>\n",
              "      <th>word_freq_edu</th>\n",
              "      <th>word_freq_table</th>\n",
              "      <th>word_freq_conference</th>\n",
              "      <th>char_freq_;</th>\n",
              "      <th>char_freq_(</th>\n",
              "      <th>char_freq_[</th>\n",
              "      <th>char_freq_!</th>\n",
              "      <th>char_freq_$</th>\n",
              "      <th>char_freq_#</th>\n",
              "      <th>capital_run_length_average</th>\n",
              "      <th>capital_run_length_longest</th>\n",
              "      <th>capital_run_length_total</th>\n",
              "      <th>spam_or_not</th>\n",
              "    </tr>\n",
              "  </thead>\n",
              "  <tbody>\n",
              "    <tr>\n",
              "      <th>word_freq_make</th>\n",
              "      <td>1.000000</td>\n",
              "      <td>0.034114</td>\n",
              "      <td>0.063267</td>\n",
              "      <td>0.005384</td>\n",
              "      <td>0.021740</td>\n",
              "      <td>0.055040</td>\n",
              "      <td>0.011037</td>\n",
              "      <td>-0.004392</td>\n",
              "      <td>0.103818</td>\n",
              "      <td>0.040799</td>\n",
              "      <td>0.063007</td>\n",
              "      <td>0.075919</td>\n",
              "      <td>0.061960</td>\n",
              "      <td>0.032249</td>\n",
              "      <td>0.022439</td>\n",
              "      <td>0.065451</td>\n",
              "      <td>0.081447</td>\n",
              "      <td>0.051765</td>\n",
              "      <td>0.120575</td>\n",
              "      <td>0.020910</td>\n",
              "      <td>0.121471</td>\n",
              "      <td>-0.025585</td>\n",
              "      <td>0.126457</td>\n",
              "      <td>0.205676</td>\n",
              "      <td>-0.075085</td>\n",
              "      <td>-0.063494</td>\n",
              "      <td>-0.048104</td>\n",
              "      <td>-0.050075</td>\n",
              "      <td>-0.041556</td>\n",
              "      <td>-0.054262</td>\n",
              "      <td>-0.038913</td>\n",
              "      <td>-0.031647</td>\n",
              "      <td>-0.042731</td>\n",
              "      <td>-0.026335</td>\n",
              "      <td>-0.046101</td>\n",
              "      <td>-0.057318</td>\n",
              "      <td>-0.058801</td>\n",
              "      <td>-0.008632</td>\n",
              "      <td>-0.011215</td>\n",
              "      <td>-0.035484</td>\n",
              "      <td>-0.005291</td>\n",
              "      <td>-0.026562</td>\n",
              "      <td>-0.025621</td>\n",
              "      <td>-0.022991</td>\n",
              "      <td>-0.037874</td>\n",
              "      <td>-0.034472</td>\n",
              "      <td>-0.000956</td>\n",
              "      <td>-0.018914</td>\n",
              "      <td>-0.027262</td>\n",
              "      <td>-0.019680</td>\n",
              "      <td>-0.034798</td>\n",
              "      <td>0.059236</td>\n",
              "      <td>0.101934</td>\n",
              "      <td>-0.009158</td>\n",
              "      <td>0.044779</td>\n",
              "      <td>0.059132</td>\n",
              "      <td>0.084126</td>\n",
              "      <td>0.129321</td>\n",
              "    </tr>\n",
              "    <tr>\n",
              "      <th>word_freq_address</th>\n",
              "      <td>0.034114</td>\n",
              "      <td>1.000000</td>\n",
              "      <td>0.027609</td>\n",
              "      <td>-0.008936</td>\n",
              "      <td>0.036983</td>\n",
              "      <td>0.005623</td>\n",
              "      <td>0.077468</td>\n",
              "      <td>0.013781</td>\n",
              "      <td>0.053525</td>\n",
              "      <td>0.184441</td>\n",
              "      <td>0.060819</td>\n",
              "      <td>0.026228</td>\n",
              "      <td>0.015628</td>\n",
              "      <td>0.012465</td>\n",
              "      <td>0.061887</td>\n",
              "      <td>0.046615</td>\n",
              "      <td>0.022112</td>\n",
              "      <td>0.178408</td>\n",
              "      <td>0.055852</td>\n",
              "      <td>-0.006690</td>\n",
              "      <td>0.117780</td>\n",
              "      <td>0.001249</td>\n",
              "      <td>0.007145</td>\n",
              "      <td>0.061350</td>\n",
              "      <td>-0.053488</td>\n",
              "      <td>-0.044550</td>\n",
              "      <td>-0.011172</td>\n",
              "      <td>-0.032939</td>\n",
              "      <td>-0.026005</td>\n",
              "      <td>-0.029359</td>\n",
              "      <td>-0.015895</td>\n",
              "      <td>0.028897</td>\n",
              "      <td>-0.032530</td>\n",
              "      <td>0.026085</td>\n",
              "      <td>-0.025472</td>\n",
              "      <td>-0.028196</td>\n",
              "      <td>0.003843</td>\n",
              "      <td>-0.012693</td>\n",
              "      <td>-0.016159</td>\n",
              "      <td>0.002379</td>\n",
              "      <td>-0.019317</td>\n",
              "      <td>-0.035865</td>\n",
              "      <td>0.037745</td>\n",
              "      <td>-0.029024</td>\n",
              "      <td>0.020116</td>\n",
              "      <td>-0.025952</td>\n",
              "      <td>-0.012319</td>\n",
              "      <td>-0.020919</td>\n",
              "      <td>0.014782</td>\n",
              "      <td>-0.028209</td>\n",
              "      <td>-0.019394</td>\n",
              "      <td>0.031702</td>\n",
              "      <td>0.044449</td>\n",
              "      <td>0.030702</td>\n",
              "      <td>0.029373</td>\n",
              "      <td>0.053866</td>\n",
              "      <td>0.034601</td>\n",
              "      <td>0.100346</td>\n",
              "    </tr>\n",
              "    <tr>\n",
              "      <th>word_freq_all</th>\n",
              "      <td>0.063267</td>\n",
              "      <td>0.027609</td>\n",
              "      <td>1.000000</td>\n",
              "      <td>-0.019895</td>\n",
              "      <td>0.065681</td>\n",
              "      <td>0.066608</td>\n",
              "      <td>0.028630</td>\n",
              "      <td>0.007263</td>\n",
              "      <td>0.077618</td>\n",
              "      <td>0.025201</td>\n",
              "      <td>0.055700</td>\n",
              "      <td>0.065723</td>\n",
              "      <td>0.036484</td>\n",
              "      <td>0.004928</td>\n",
              "      <td>0.104609</td>\n",
              "      <td>0.061927</td>\n",
              "      <td>0.029889</td>\n",
              "      <td>0.110528</td>\n",
              "      <td>0.126490</td>\n",
              "      <td>0.030903</td>\n",
              "      <td>0.147883</td>\n",
              "      <td>-0.039446</td>\n",
              "      <td>0.106747</td>\n",
              "      <td>0.031186</td>\n",
              "      <td>-0.092635</td>\n",
              "      <td>-0.066418</td>\n",
              "      <td>-0.081269</td>\n",
              "      <td>-0.051435</td>\n",
              "      <td>-0.057823</td>\n",
              "      <td>-0.030483</td>\n",
              "      <td>-0.036585</td>\n",
              "      <td>-0.063558</td>\n",
              "      <td>-0.057977</td>\n",
              "      <td>-0.063396</td>\n",
              "      <td>-0.048938</td>\n",
              "      <td>-0.047555</td>\n",
              "      <td>-0.074279</td>\n",
              "      <td>0.031767</td>\n",
              "      <td>-0.017389</td>\n",
              "      <td>-0.045985</td>\n",
              "      <td>-0.030803</td>\n",
              "      <td>-0.007592</td>\n",
              "      <td>-0.052705</td>\n",
              "      <td>-0.056865</td>\n",
              "      <td>-0.056554</td>\n",
              "      <td>-0.060529</td>\n",
              "      <td>0.027397</td>\n",
              "      <td>-0.029448</td>\n",
              "      <td>-0.036754</td>\n",
              "      <td>-0.024462</td>\n",
              "      <td>-0.035780</td>\n",
              "      <td>0.097231</td>\n",
              "      <td>0.073000</td>\n",
              "      <td>-0.004503</td>\n",
              "      <td>0.095684</td>\n",
              "      <td>0.092511</td>\n",
              "      <td>0.051967</td>\n",
              "      <td>0.172193</td>\n",
              "    </tr>\n",
              "    <tr>\n",
              "      <th>word_freq_3d</th>\n",
              "      <td>0.005384</td>\n",
              "      <td>-0.008936</td>\n",
              "      <td>-0.019895</td>\n",
              "      <td>1.000000</td>\n",
              "      <td>0.000256</td>\n",
              "      <td>-0.009167</td>\n",
              "      <td>0.014286</td>\n",
              "      <td>0.003798</td>\n",
              "      <td>-0.001044</td>\n",
              "      <td>-0.003849</td>\n",
              "      <td>-0.013195</td>\n",
              "      <td>-0.018576</td>\n",
              "      <td>-0.013156</td>\n",
              "      <td>0.003377</td>\n",
              "      <td>0.005373</td>\n",
              "      <td>0.005799</td>\n",
              "      <td>-0.002831</td>\n",
              "      <td>0.016592</td>\n",
              "      <td>-0.009932</td>\n",
              "      <td>-0.005008</td>\n",
              "      <td>0.004578</td>\n",
              "      <td>0.030587</td>\n",
              "      <td>0.014712</td>\n",
              "      <td>0.025849</td>\n",
              "      <td>-0.015706</td>\n",
              "      <td>-0.014033</td>\n",
              "      <td>-0.009712</td>\n",
              "      <td>-0.010632</td>\n",
              "      <td>-0.007933</td>\n",
              "      <td>-0.010914</td>\n",
              "      <td>-0.007656</td>\n",
              "      <td>-0.006969</td>\n",
              "      <td>-0.008248</td>\n",
              "      <td>-0.006977</td>\n",
              "      <td>-0.005909</td>\n",
              "      <td>-0.006312</td>\n",
              "      <td>-0.007440</td>\n",
              "      <td>-0.002724</td>\n",
              "      <td>-0.004508</td>\n",
              "      <td>-0.007656</td>\n",
              "      <td>-0.006076</td>\n",
              "      <td>-0.008320</td>\n",
              "      <td>-0.009387</td>\n",
              "      <td>-0.006115</td>\n",
              "      <td>-0.013182</td>\n",
              "      <td>-0.009434</td>\n",
              "      <td>-0.003410</td>\n",
              "      <td>-0.001862</td>\n",
              "      <td>-0.000030</td>\n",
              "      <td>-0.011450</td>\n",
              "      <td>-0.007516</td>\n",
              "      <td>-0.003861</td>\n",
              "      <td>0.008269</td>\n",
              "      <td>0.000133</td>\n",
              "      <td>0.005754</td>\n",
              "      <td>0.022106</td>\n",
              "      <td>0.023784</td>\n",
              "      <td>0.056407</td>\n",
              "    </tr>\n",
              "    <tr>\n",
              "      <th>word_freq_our</th>\n",
              "      <td>0.021740</td>\n",
              "      <td>0.036983</td>\n",
              "      <td>0.065681</td>\n",
              "      <td>0.000256</td>\n",
              "      <td>1.000000</td>\n",
              "      <td>0.041392</td>\n",
              "      <td>0.135958</td>\n",
              "      <td>0.023410</td>\n",
              "      <td>0.014482</td>\n",
              "      <td>0.027232</td>\n",
              "      <td>0.079165</td>\n",
              "      <td>0.055008</td>\n",
              "      <td>0.020656</td>\n",
              "      <td>0.001586</td>\n",
              "      <td>0.048309</td>\n",
              "      <td>0.079199</td>\n",
              "      <td>0.137869</td>\n",
              "      <td>0.050814</td>\n",
              "      <td>0.083092</td>\n",
              "      <td>0.027838</td>\n",
              "      <td>0.142992</td>\n",
              "      <td>-0.022716</td>\n",
              "      <td>0.062136</td>\n",
              "      <td>0.000320</td>\n",
              "      <td>-0.076785</td>\n",
              "      <td>-0.079809</td>\n",
              "      <td>-0.062483</td>\n",
              "      <td>-0.064151</td>\n",
              "      <td>0.039627</td>\n",
              "      <td>-0.053614</td>\n",
              "      <td>-0.042054</td>\n",
              "      <td>-0.024256</td>\n",
              "      <td>-0.034750</td>\n",
              "      <td>-0.024556</td>\n",
              "      <td>-0.051059</td>\n",
              "      <td>-0.052211</td>\n",
              "      <td>-0.077684</td>\n",
              "      <td>0.133057</td>\n",
              "      <td>-0.045513</td>\n",
              "      <td>-0.017580</td>\n",
              "      <td>-0.052325</td>\n",
              "      <td>0.107706</td>\n",
              "      <td>-0.054583</td>\n",
              "      <td>0.002770</td>\n",
              "      <td>-0.049499</td>\n",
              "      <td>-0.083315</td>\n",
              "      <td>-0.028146</td>\n",
              "      <td>-0.035040</td>\n",
              "      <td>-0.035049</td>\n",
              "      <td>-0.054583</td>\n",
              "      <td>-0.027988</td>\n",
              "      <td>0.019205</td>\n",
              "      <td>0.040696</td>\n",
              "      <td>0.002144</td>\n",
              "      <td>0.050832</td>\n",
              "      <td>0.042985</td>\n",
              "      <td>-0.010498</td>\n",
              "      <td>0.230117</td>\n",
              "    </tr>\n",
              "    <tr>\n",
              "      <th>word_freq_over</th>\n",
              "      <td>0.055040</td>\n",
              "      <td>0.005623</td>\n",
              "      <td>0.066608</td>\n",
              "      <td>-0.009167</td>\n",
              "      <td>0.041392</td>\n",
              "      <td>1.000000</td>\n",
              "      <td>0.046844</td>\n",
              "      <td>0.079683</td>\n",
              "      <td>0.097012</td>\n",
              "      <td>0.010068</td>\n",
              "      <td>0.056568</td>\n",
              "      <td>0.001589</td>\n",
              "      <td>0.067254</td>\n",
              "      <td>0.007918</td>\n",
              "      <td>0.139996</td>\n",
              "      <td>0.016688</td>\n",
              "      <td>0.057658</td>\n",
              "      <td>0.059395</td>\n",
              "      <td>0.083323</td>\n",
              "      <td>0.057489</td>\n",
              "      <td>0.105705</td>\n",
              "      <td>0.006859</td>\n",
              "      <td>0.181734</td>\n",
              "      <td>0.059413</td>\n",
              "      <td>-0.086713</td>\n",
              "      <td>-0.089548</td>\n",
              "      <td>-0.050829</td>\n",
              "      <td>-0.067792</td>\n",
              "      <td>-0.048913</td>\n",
              "      <td>-0.048282</td>\n",
              "      <td>-0.046362</td>\n",
              "      <td>-0.036538</td>\n",
              "      <td>-0.035047</td>\n",
              "      <td>-0.037102</td>\n",
              "      <td>-0.055412</td>\n",
              "      <td>-0.054320</td>\n",
              "      <td>-0.060639</td>\n",
              "      <td>-0.018425</td>\n",
              "      <td>-0.049239</td>\n",
              "      <td>-0.027739</td>\n",
              "      <td>-0.030909</td>\n",
              "      <td>-0.056557</td>\n",
              "      <td>-0.037628</td>\n",
              "      <td>-0.030185</td>\n",
              "      <td>-0.057496</td>\n",
              "      <td>-0.034381</td>\n",
              "      <td>-0.014747</td>\n",
              "      <td>-0.033488</td>\n",
              "      <td>-0.021758</td>\n",
              "      <td>-0.011628</td>\n",
              "      <td>-0.016743</td>\n",
              "      <td>0.058173</td>\n",
              "      <td>0.105903</td>\n",
              "      <td>0.020405</td>\n",
              "      <td>-0.013559</td>\n",
              "      <td>0.065714</td>\n",
              "      <td>0.063402</td>\n",
              "      <td>0.212455</td>\n",
              "    </tr>\n",
              "    <tr>\n",
              "      <th>word_freq_remove</th>\n",
              "      <td>0.011037</td>\n",
              "      <td>0.077468</td>\n",
              "      <td>0.028630</td>\n",
              "      <td>0.014286</td>\n",
              "      <td>0.135958</td>\n",
              "      <td>0.046844</td>\n",
              "      <td>1.000000</td>\n",
              "      <td>0.033675</td>\n",
              "      <td>0.049216</td>\n",
              "      <td>0.055670</td>\n",
              "      <td>0.186777</td>\n",
              "      <td>-0.008432</td>\n",
              "      <td>0.003143</td>\n",
              "      <td>-0.023831</td>\n",
              "      <td>0.037425</td>\n",
              "      <td>0.135882</td>\n",
              "      <td>0.189635</td>\n",
              "      <td>0.115648</td>\n",
              "      <td>0.102598</td>\n",
              "      <td>0.049664</td>\n",
              "      <td>0.143781</td>\n",
              "      <td>-0.002944</td>\n",
              "      <td>0.068424</td>\n",
              "      <td>0.034532</td>\n",
              "      <td>-0.095021</td>\n",
              "      <td>-0.084690</td>\n",
              "      <td>-0.060474</td>\n",
              "      <td>-0.070284</td>\n",
              "      <td>-0.050273</td>\n",
              "      <td>-0.061318</td>\n",
              "      <td>-0.047909</td>\n",
              "      <td>-0.042713</td>\n",
              "      <td>-0.043030</td>\n",
              "      <td>-0.043152</td>\n",
              "      <td>-0.055224</td>\n",
              "      <td>-0.057370</td>\n",
              "      <td>-0.055945</td>\n",
              "      <td>-0.015450</td>\n",
              "      <td>-0.049438</td>\n",
              "      <td>-0.019723</td>\n",
              "      <td>-0.035884</td>\n",
              "      <td>-0.052023</td>\n",
              "      <td>-0.053156</td>\n",
              "      <td>-0.036302</td>\n",
              "      <td>-0.057296</td>\n",
              "      <td>-0.059140</td>\n",
              "      <td>-0.018179</td>\n",
              "      <td>-0.033258</td>\n",
              "      <td>-0.034092</td>\n",
              "      <td>-0.061357</td>\n",
              "      <td>-0.029478</td>\n",
              "      <td>0.051036</td>\n",
              "      <td>0.067215</td>\n",
              "      <td>0.049300</td>\n",
              "      <td>0.039171</td>\n",
              "      <td>0.050828</td>\n",
              "      <td>-0.017082</td>\n",
              "      <td>0.334605</td>\n",
              "    </tr>\n",
              "    <tr>\n",
              "      <th>word_freq_internet</th>\n",
              "      <td>-0.004392</td>\n",
              "      <td>0.013781</td>\n",
              "      <td>0.007263</td>\n",
              "      <td>0.003798</td>\n",
              "      <td>0.023410</td>\n",
              "      <td>0.079683</td>\n",
              "      <td>0.033675</td>\n",
              "      <td>1.000000</td>\n",
              "      <td>0.106872</td>\n",
              "      <td>0.079023</td>\n",
              "      <td>0.153163</td>\n",
              "      <td>-0.006710</td>\n",
              "      <td>0.024095</td>\n",
              "      <td>0.008933</td>\n",
              "      <td>0.072464</td>\n",
              "      <td>0.051869</td>\n",
              "      <td>0.219107</td>\n",
              "      <td>0.026524</td>\n",
              "      <td>0.016873</td>\n",
              "      <td>0.115800</td>\n",
              "      <td>0.169668</td>\n",
              "      <td>-0.017174</td>\n",
              "      <td>0.086629</td>\n",
              "      <td>0.035712</td>\n",
              "      <td>-0.055938</td>\n",
              "      <td>-0.043969</td>\n",
              "      <td>-0.049675</td>\n",
              "      <td>-0.051548</td>\n",
              "      <td>-0.037525</td>\n",
              "      <td>-0.044713</td>\n",
              "      <td>-0.036248</td>\n",
              "      <td>-0.035451</td>\n",
              "      <td>-0.040437</td>\n",
              "      <td>-0.036077</td>\n",
              "      <td>-0.035949</td>\n",
              "      <td>-0.037270</td>\n",
              "      <td>-0.021814</td>\n",
              "      <td>-0.012540</td>\n",
              "      <td>-0.032043</td>\n",
              "      <td>-0.003253</td>\n",
              "      <td>-0.000504</td>\n",
              "      <td>-0.045213</td>\n",
              "      <td>-0.004692</td>\n",
              "      <td>-0.031426</td>\n",
              "      <td>-0.006625</td>\n",
              "      <td>-0.039217</td>\n",
              "      <td>-0.006563</td>\n",
              "      <td>-0.022407</td>\n",
              "      <td>-0.028986</td>\n",
              "      <td>-0.042785</td>\n",
              "      <td>-0.021393</td>\n",
              "      <td>0.029069</td>\n",
              "      <td>0.053550</td>\n",
              "      <td>-0.008128</td>\n",
              "      <td>0.009974</td>\n",
              "      <td>0.035606</td>\n",
              "      <td>0.036894</td>\n",
              "      <td>0.200780</td>\n",
              "    </tr>\n",
              "    <tr>\n",
              "      <th>word_freq_order</th>\n",
              "      <td>0.103818</td>\n",
              "      <td>0.053525</td>\n",
              "      <td>0.077618</td>\n",
              "      <td>-0.001044</td>\n",
              "      <td>0.014482</td>\n",
              "      <td>0.097012</td>\n",
              "      <td>0.049216</td>\n",
              "      <td>0.106872</td>\n",
              "      <td>1.000000</td>\n",
              "      <td>0.123341</td>\n",
              "      <td>0.154452</td>\n",
              "      <td>0.020245</td>\n",
              "      <td>0.023123</td>\n",
              "      <td>0.064336</td>\n",
              "      <td>0.207473</td>\n",
              "      <td>0.006244</td>\n",
              "      <td>0.162723</td>\n",
              "      <td>0.078639</td>\n",
              "      <td>0.027932</td>\n",
              "      <td>0.122098</td>\n",
              "      <td>0.174245</td>\n",
              "      <td>-0.020834</td>\n",
              "      <td>0.114715</td>\n",
              "      <td>0.099230</td>\n",
              "      <td>-0.073495</td>\n",
              "      <td>-0.051374</td>\n",
              "      <td>-0.051304</td>\n",
              "      <td>-0.059386</td>\n",
              "      <td>-0.045838</td>\n",
              "      <td>-0.044521</td>\n",
              "      <td>-0.040497</td>\n",
              "      <td>-0.034450</td>\n",
              "      <td>-0.014198</td>\n",
              "      <td>-0.034004</td>\n",
              "      <td>-0.043458</td>\n",
              "      <td>-0.059423</td>\n",
              "      <td>-0.035785</td>\n",
              "      <td>-0.006114</td>\n",
              "      <td>-0.043076</td>\n",
              "      <td>-0.006368</td>\n",
              "      <td>-0.037624</td>\n",
              "      <td>-0.050180</td>\n",
              "      <td>-0.041732</td>\n",
              "      <td>-0.036955</td>\n",
              "      <td>-0.079775</td>\n",
              "      <td>-0.059784</td>\n",
              "      <td>0.007764</td>\n",
              "      <td>-0.027698</td>\n",
              "      <td>-0.015016</td>\n",
              "      <td>-0.037420</td>\n",
              "      <td>0.017308</td>\n",
              "      <td>0.035985</td>\n",
              "      <td>0.152436</td>\n",
              "      <td>-0.002084</td>\n",
              "      <td>0.110786</td>\n",
              "      <td>0.166304</td>\n",
              "      <td>0.233199</td>\n",
              "      <td>0.221591</td>\n",
              "    </tr>\n",
              "    <tr>\n",
              "      <th>word_freq_mail</th>\n",
              "      <td>0.040799</td>\n",
              "      <td>0.184441</td>\n",
              "      <td>0.025201</td>\n",
              "      <td>-0.003849</td>\n",
              "      <td>0.027232</td>\n",
              "      <td>0.010068</td>\n",
              "      <td>0.055670</td>\n",
              "      <td>0.079023</td>\n",
              "      <td>0.123341</td>\n",
              "      <td>1.000000</td>\n",
              "      <td>0.151141</td>\n",
              "      <td>0.064137</td>\n",
              "      <td>0.038573</td>\n",
              "      <td>0.014853</td>\n",
              "      <td>0.165569</td>\n",
              "      <td>0.024319</td>\n",
              "      <td>0.080519</td>\n",
              "      <td>0.022810</td>\n",
              "      <td>0.085214</td>\n",
              "      <td>0.030846</td>\n",
              "      <td>0.108417</td>\n",
              "      <td>0.007027</td>\n",
              "      <td>0.099806</td>\n",
              "      <td>0.043038</td>\n",
              "      <td>-0.046666</td>\n",
              "      <td>-0.021472</td>\n",
              "      <td>-0.045395</td>\n",
              "      <td>0.018514</td>\n",
              "      <td>-0.026846</td>\n",
              "      <td>0.004635</td>\n",
              "      <td>-0.024055</td>\n",
              "      <td>-0.013447</td>\n",
              "      <td>-0.041283</td>\n",
              "      <td>-0.012662</td>\n",
              "      <td>-0.020949</td>\n",
              "      <td>-0.017859</td>\n",
              "      <td>-0.014953</td>\n",
              "      <td>-0.019328</td>\n",
              "      <td>-0.019159</td>\n",
              "      <td>0.009604</td>\n",
              "      <td>-0.025147</td>\n",
              "      <td>-0.059729</td>\n",
              "      <td>0.015783</td>\n",
              "      <td>-0.028711</td>\n",
              "      <td>-0.036292</td>\n",
              "      <td>-0.033762</td>\n",
              "      <td>-0.016481</td>\n",
              "      <td>-0.018836</td>\n",
              "      <td>0.006757</td>\n",
              "      <td>-0.005008</td>\n",
              "      <td>0.003785</td>\n",
              "      <td>0.031657</td>\n",
              "      <td>0.077378</td>\n",
              "      <td>0.034473</td>\n",
              "      <td>0.073125</td>\n",
              "      <td>0.101552</td>\n",
              "      <td>0.078587</td>\n",
              "      <td>0.131822</td>\n",
              "    </tr>\n",
              "    <tr>\n",
              "      <th>word_freq_receive</th>\n",
              "      <td>0.063007</td>\n",
              "      <td>0.060819</td>\n",
              "      <td>0.055700</td>\n",
              "      <td>-0.013195</td>\n",
              "      <td>0.079165</td>\n",
              "      <td>0.056568</td>\n",
              "      <td>0.186777</td>\n",
              "      <td>0.153163</td>\n",
              "      <td>0.154452</td>\n",
              "      <td>0.151141</td>\n",
              "      <td>1.000000</td>\n",
              "      <td>0.081568</td>\n",
              "      <td>0.054352</td>\n",
              "      <td>0.050137</td>\n",
              "      <td>0.067986</td>\n",
              "      <td>0.122941</td>\n",
              "      <td>0.195606</td>\n",
              "      <td>0.104324</td>\n",
              "      <td>0.146386</td>\n",
              "      <td>0.158509</td>\n",
              "      <td>0.195068</td>\n",
              "      <td>-0.009664</td>\n",
              "      <td>0.123076</td>\n",
              "      <td>0.064984</td>\n",
              "      <td>-0.079346</td>\n",
              "      <td>-0.080507</td>\n",
              "      <td>-0.058156</td>\n",
              "      <td>-0.062155</td>\n",
              "      <td>-0.048122</td>\n",
              "      <td>-0.056325</td>\n",
              "      <td>-0.031882</td>\n",
              "      <td>-0.038460</td>\n",
              "      <td>-0.043424</td>\n",
              "      <td>-0.037929</td>\n",
              "      <td>-0.048097</td>\n",
              "      <td>-0.053651</td>\n",
              "      <td>-0.029399</td>\n",
              "      <td>-0.004931</td>\n",
              "      <td>-0.044981</td>\n",
              "      <td>-0.020476</td>\n",
              "      <td>-0.038420</td>\n",
              "      <td>-0.045566</td>\n",
              "      <td>-0.039477</td>\n",
              "      <td>-0.039291</td>\n",
              "      <td>-0.067629</td>\n",
              "      <td>-0.054202</td>\n",
              "      <td>-0.020672</td>\n",
              "      <td>-0.024516</td>\n",
              "      <td>-0.032942</td>\n",
              "      <td>-0.055939</td>\n",
              "      <td>-0.024801</td>\n",
              "      <td>0.030474</td>\n",
              "      <td>0.085994</td>\n",
              "      <td>0.003478</td>\n",
              "      <td>0.031333</td>\n",
              "      <td>0.086213</td>\n",
              "      <td>0.122057</td>\n",
              "      <td>0.272593</td>\n",
              "    </tr>\n",
              "    <tr>\n",
              "      <th>word_freq_will</th>\n",
              "      <td>0.075919</td>\n",
              "      <td>0.026228</td>\n",
              "      <td>0.065723</td>\n",
              "      <td>-0.018576</td>\n",
              "      <td>0.055008</td>\n",
              "      <td>0.001589</td>\n",
              "      <td>-0.008432</td>\n",
              "      <td>-0.006710</td>\n",
              "      <td>0.020245</td>\n",
              "      <td>0.064137</td>\n",
              "      <td>0.081568</td>\n",
              "      <td>1.000000</td>\n",
              "      <td>-0.005540</td>\n",
              "      <td>0.000880</td>\n",
              "      <td>0.014615</td>\n",
              "      <td>-0.036215</td>\n",
              "      <td>0.045693</td>\n",
              "      <td>0.004616</td>\n",
              "      <td>0.064234</td>\n",
              "      <td>0.006773</td>\n",
              "      <td>0.062480</td>\n",
              "      <td>-0.048849</td>\n",
              "      <td>0.008752</td>\n",
              "      <td>0.013967</td>\n",
              "      <td>-0.024832</td>\n",
              "      <td>0.007439</td>\n",
              "      <td>-0.085807</td>\n",
              "      <td>-0.042468</td>\n",
              "      <td>0.115718</td>\n",
              "      <td>-0.009627</td>\n",
              "      <td>-0.036981</td>\n",
              "      <td>-0.058757</td>\n",
              "      <td>-0.025913</td>\n",
              "      <td>-0.059676</td>\n",
              "      <td>-0.050362</td>\n",
              "      <td>-0.010420</td>\n",
              "      <td>-0.030037</td>\n",
              "      <td>-0.027677</td>\n",
              "      <td>0.016017</td>\n",
              "      <td>-0.044968</td>\n",
              "      <td>-0.020596</td>\n",
              "      <td>0.112062</td>\n",
              "      <td>-0.029796</td>\n",
              "      <td>0.014507</td>\n",
              "      <td>-0.096322</td>\n",
              "      <td>-0.077075</td>\n",
              "      <td>-0.003821</td>\n",
              "      <td>0.030577</td>\n",
              "      <td>-0.031104</td>\n",
              "      <td>-0.039986</td>\n",
              "      <td>-0.049669</td>\n",
              "      <td>0.003265</td>\n",
              "      <td>0.007020</td>\n",
              "      <td>-0.032551</td>\n",
              "      <td>-0.014356</td>\n",
              "      <td>0.013574</td>\n",
              "      <td>0.004599</td>\n",
              "      <td>-0.014633</td>\n",
              "    </tr>\n",
              "    <tr>\n",
              "      <th>word_freq_people</th>\n",
              "      <td>0.061960</td>\n",
              "      <td>0.015628</td>\n",
              "      <td>0.036484</td>\n",
              "      <td>-0.013156</td>\n",
              "      <td>0.020656</td>\n",
              "      <td>0.067254</td>\n",
              "      <td>0.003143</td>\n",
              "      <td>0.024095</td>\n",
              "      <td>0.023123</td>\n",
              "      <td>0.038573</td>\n",
              "      <td>0.054352</td>\n",
              "      <td>-0.005540</td>\n",
              "      <td>1.000000</td>\n",
              "      <td>0.057268</td>\n",
              "      <td>0.069571</td>\n",
              "      <td>0.002932</td>\n",
              "      <td>0.043327</td>\n",
              "      <td>0.059686</td>\n",
              "      <td>0.108604</td>\n",
              "      <td>-0.018881</td>\n",
              "      <td>0.048319</td>\n",
              "      <td>-0.031775</td>\n",
              "      <td>0.111089</td>\n",
              "      <td>0.079282</td>\n",
              "      <td>-0.062297</td>\n",
              "      <td>-0.070361</td>\n",
              "      <td>-0.032215</td>\n",
              "      <td>-0.063158</td>\n",
              "      <td>-0.026923</td>\n",
              "      <td>-0.054735</td>\n",
              "      <td>-0.037095</td>\n",
              "      <td>-0.032255</td>\n",
              "      <td>-0.048251</td>\n",
              "      <td>-0.032355</td>\n",
              "      <td>-0.050885</td>\n",
              "      <td>-0.049537</td>\n",
              "      <td>-0.044758</td>\n",
              "      <td>-0.015699</td>\n",
              "      <td>-0.018473</td>\n",
              "      <td>-0.011619</td>\n",
              "      <td>-0.018379</td>\n",
              "      <td>-0.040764</td>\n",
              "      <td>-0.014710</td>\n",
              "      <td>-0.026141</td>\n",
              "      <td>-0.045790</td>\n",
              "      <td>-0.023288</td>\n",
              "      <td>-0.014027</td>\n",
              "      <td>-0.021694</td>\n",
              "      <td>-0.024674</td>\n",
              "      <td>-0.057027</td>\n",
              "      <td>-0.029973</td>\n",
              "      <td>0.034165</td>\n",
              "      <td>0.213624</td>\n",
              "      <td>-0.015949</td>\n",
              "      <td>-0.015467</td>\n",
              "      <td>0.032940</td>\n",
              "      <td>0.090241</td>\n",
              "      <td>0.118139</td>\n",
              "    </tr>\n",
              "    <tr>\n",
              "      <th>word_freq_report</th>\n",
              "      <td>0.032249</td>\n",
              "      <td>0.012465</td>\n",
              "      <td>0.004928</td>\n",
              "      <td>0.003377</td>\n",
              "      <td>0.001586</td>\n",
              "      <td>0.007918</td>\n",
              "      <td>-0.023831</td>\n",
              "      <td>0.008933</td>\n",
              "      <td>0.064336</td>\n",
              "      <td>0.014853</td>\n",
              "      <td>0.050137</td>\n",
              "      <td>0.000880</td>\n",
              "      <td>0.057268</td>\n",
              "      <td>1.000000</td>\n",
              "      <td>-0.016417</td>\n",
              "      <td>0.001491</td>\n",
              "      <td>0.009300</td>\n",
              "      <td>-0.029181</td>\n",
              "      <td>0.011683</td>\n",
              "      <td>0.024886</td>\n",
              "      <td>0.044160</td>\n",
              "      <td>-0.020507</td>\n",
              "      <td>0.041200</td>\n",
              "      <td>0.029861</td>\n",
              "      <td>-0.038131</td>\n",
              "      <td>-0.043999</td>\n",
              "      <td>-0.013259</td>\n",
              "      <td>-0.020348</td>\n",
              "      <td>-0.011095</td>\n",
              "      <td>-0.030315</td>\n",
              "      <td>-0.018809</td>\n",
              "      <td>-0.018869</td>\n",
              "      <td>-0.012280</td>\n",
              "      <td>-0.019125</td>\n",
              "      <td>-0.025784</td>\n",
              "      <td>0.011032</td>\n",
              "      <td>-0.034513</td>\n",
              "      <td>-0.002391</td>\n",
              "      <td>-0.027935</td>\n",
              "      <td>-0.024935</td>\n",
              "      <td>-0.022823</td>\n",
              "      <td>0.004643</td>\n",
              "      <td>-0.005143</td>\n",
              "      <td>-0.013487</td>\n",
              "      <td>-0.002680</td>\n",
              "      <td>-0.022044</td>\n",
              "      <td>0.049260</td>\n",
              "      <td>-0.017469</td>\n",
              "      <td>-0.019721</td>\n",
              "      <td>-0.007556</td>\n",
              "      <td>-0.015376</td>\n",
              "      <td>-0.012204</td>\n",
              "      <td>0.080088</td>\n",
              "      <td>0.005694</td>\n",
              "      <td>0.001904</td>\n",
              "      <td>0.055738</td>\n",
              "      <td>0.153939</td>\n",
              "      <td>0.053595</td>\n",
              "    </tr>\n",
              "    <tr>\n",
              "      <th>word_freq_addresses</th>\n",
              "      <td>0.022439</td>\n",
              "      <td>0.061887</td>\n",
              "      <td>0.104609</td>\n",
              "      <td>0.005373</td>\n",
              "      <td>0.048309</td>\n",
              "      <td>0.139996</td>\n",
              "      <td>0.037425</td>\n",
              "      <td>0.072464</td>\n",
              "      <td>0.207473</td>\n",
              "      <td>0.165569</td>\n",
              "      <td>0.067986</td>\n",
              "      <td>0.014615</td>\n",
              "      <td>0.069571</td>\n",
              "      <td>-0.016417</td>\n",
              "      <td>1.000000</td>\n",
              "      <td>0.002429</td>\n",
              "      <td>0.017457</td>\n",
              "      <td>0.238005</td>\n",
              "      <td>0.036562</td>\n",
              "      <td>0.010771</td>\n",
              "      <td>0.080143</td>\n",
              "      <td>-0.002407</td>\n",
              "      <td>0.359424</td>\n",
              "      <td>0.036374</td>\n",
              "      <td>-0.050581</td>\n",
              "      <td>-0.033226</td>\n",
              "      <td>-0.033556</td>\n",
              "      <td>-0.035869</td>\n",
              "      <td>-0.027742</td>\n",
              "      <td>-0.034663</td>\n",
              "      <td>-0.025435</td>\n",
              "      <td>-0.022147</td>\n",
              "      <td>-0.018206</td>\n",
              "      <td>-0.022597</td>\n",
              "      <td>-0.024471</td>\n",
              "      <td>-0.033708</td>\n",
              "      <td>-0.036984</td>\n",
              "      <td>-0.011327</td>\n",
              "      <td>-0.016844</td>\n",
              "      <td>0.053340</td>\n",
              "      <td>-0.015426</td>\n",
              "      <td>-0.031951</td>\n",
              "      <td>0.037781</td>\n",
              "      <td>-0.017774</td>\n",
              "      <td>-0.039372</td>\n",
              "      <td>-0.026243</td>\n",
              "      <td>-0.011068</td>\n",
              "      <td>-0.021108</td>\n",
              "      <td>-0.018735</td>\n",
              "      <td>-0.008824</td>\n",
              "      <td>-0.001127</td>\n",
              "      <td>0.013861</td>\n",
              "      <td>0.121805</td>\n",
              "      <td>-0.004512</td>\n",
              "      <td>0.016113</td>\n",
              "      <td>0.176839</td>\n",
              "      <td>0.132484</td>\n",
              "      <td>0.183936</td>\n",
              "    </tr>\n",
              "    <tr>\n",
              "      <th>word_freq_free</th>\n",
              "      <td>0.065451</td>\n",
              "      <td>0.046615</td>\n",
              "      <td>0.061927</td>\n",
              "      <td>0.005799</td>\n",
              "      <td>0.079199</td>\n",
              "      <td>0.016688</td>\n",
              "      <td>0.135882</td>\n",
              "      <td>0.051869</td>\n",
              "      <td>0.006244</td>\n",
              "      <td>0.024319</td>\n",
              "      <td>0.122941</td>\n",
              "      <td>-0.036215</td>\n",
              "      <td>0.002932</td>\n",
              "      <td>0.001491</td>\n",
              "      <td>0.002429</td>\n",
              "      <td>1.000000</td>\n",
              "      <td>0.057175</td>\n",
              "      <td>0.071832</td>\n",
              "      <td>0.082209</td>\n",
              "      <td>0.026546</td>\n",
              "      <td>0.114526</td>\n",
              "      <td>-0.009657</td>\n",
              "      <td>0.054588</td>\n",
              "      <td>0.112260</td>\n",
              "      <td>-0.099125</td>\n",
              "      <td>-0.086094</td>\n",
              "      <td>0.011176</td>\n",
              "      <td>-0.069391</td>\n",
              "      <td>-0.049647</td>\n",
              "      <td>-0.063777</td>\n",
              "      <td>-0.046728</td>\n",
              "      <td>-0.042870</td>\n",
              "      <td>-0.047048</td>\n",
              "      <td>-0.042189</td>\n",
              "      <td>-0.060491</td>\n",
              "      <td>-0.067677</td>\n",
              "      <td>-0.066993</td>\n",
              "      <td>0.018948</td>\n",
              "      <td>-0.038588</td>\n",
              "      <td>-0.030026</td>\n",
              "      <td>-0.031051</td>\n",
              "      <td>-0.040681</td>\n",
              "      <td>-0.052193</td>\n",
              "      <td>-0.034673</td>\n",
              "      <td>-0.052677</td>\n",
              "      <td>-0.051625</td>\n",
              "      <td>-0.019352</td>\n",
              "      <td>-0.031236</td>\n",
              "      <td>-0.029986</td>\n",
              "      <td>-0.053884</td>\n",
              "      <td>-0.033458</td>\n",
              "      <td>0.108311</td>\n",
              "      <td>0.044012</td>\n",
              "      <td>0.039304</td>\n",
              "      <td>0.014831</td>\n",
              "      <td>0.025522</td>\n",
              "      <td>-0.003012</td>\n",
              "      <td>0.279287</td>\n",
              "    </tr>\n",
              "    <tr>\n",
              "      <th>word_freq_business</th>\n",
              "      <td>0.081447</td>\n",
              "      <td>0.022112</td>\n",
              "      <td>0.029889</td>\n",
              "      <td>-0.002831</td>\n",
              "      <td>0.137869</td>\n",
              "      <td>0.057658</td>\n",
              "      <td>0.189635</td>\n",
              "      <td>0.219107</td>\n",
              "      <td>0.162723</td>\n",
              "      <td>0.080519</td>\n",
              "      <td>0.195606</td>\n",
              "      <td>0.045693</td>\n",
              "      <td>0.043327</td>\n",
              "      <td>0.009300</td>\n",
              "      <td>0.017457</td>\n",
              "      <td>0.057175</td>\n",
              "      <td>1.000000</td>\n",
              "      <td>0.045308</td>\n",
              "      <td>0.073953</td>\n",
              "      <td>0.185232</td>\n",
              "      <td>0.233411</td>\n",
              "      <td>-0.023015</td>\n",
              "      <td>0.093287</td>\n",
              "      <td>0.045051</td>\n",
              "      <td>-0.056011</td>\n",
              "      <td>-0.080028</td>\n",
              "      <td>-0.061538</td>\n",
              "      <td>-0.067041</td>\n",
              "      <td>-0.046916</td>\n",
              "      <td>-0.037024</td>\n",
              "      <td>-0.044983</td>\n",
              "      <td>-0.044540</td>\n",
              "      <td>-0.042871</td>\n",
              "      <td>-0.044146</td>\n",
              "      <td>-0.057538</td>\n",
              "      <td>-0.033531</td>\n",
              "      <td>-0.053362</td>\n",
              "      <td>-0.016182</td>\n",
              "      <td>-0.045317</td>\n",
              "      <td>0.004135</td>\n",
              "      <td>-0.039445</td>\n",
              "      <td>-0.043045</td>\n",
              "      <td>-0.054861</td>\n",
              "      <td>-0.022853</td>\n",
              "      <td>-0.063804</td>\n",
              "      <td>-0.060846</td>\n",
              "      <td>-0.008660</td>\n",
              "      <td>-0.032032</td>\n",
              "      <td>-0.032778</td>\n",
              "      <td>-0.044128</td>\n",
              "      <td>-0.040190</td>\n",
              "      <td>0.073526</td>\n",
              "      <td>0.094837</td>\n",
              "      <td>-0.000825</td>\n",
              "      <td>0.036752</td>\n",
              "      <td>0.061007</td>\n",
              "      <td>0.057109</td>\n",
              "      <td>0.260919</td>\n",
              "    </tr>\n",
              "    <tr>\n",
              "      <th>word_freq_email</th>\n",
              "      <td>0.051765</td>\n",
              "      <td>0.178408</td>\n",
              "      <td>0.110528</td>\n",
              "      <td>0.016592</td>\n",
              "      <td>0.050814</td>\n",
              "      <td>0.059395</td>\n",
              "      <td>0.115648</td>\n",
              "      <td>0.026524</td>\n",
              "      <td>0.078639</td>\n",
              "      <td>0.022810</td>\n",
              "      <td>0.104324</td>\n",
              "      <td>0.004616</td>\n",
              "      <td>0.059686</td>\n",
              "      <td>-0.029181</td>\n",
              "      <td>0.238005</td>\n",
              "      <td>0.071832</td>\n",
              "      <td>0.045308</td>\n",
              "      <td>1.000000</td>\n",
              "      <td>0.083573</td>\n",
              "      <td>0.009356</td>\n",
              "      <td>0.147092</td>\n",
              "      <td>-0.027801</td>\n",
              "      <td>0.078260</td>\n",
              "      <td>0.098591</td>\n",
              "      <td>-0.038366</td>\n",
              "      <td>-0.028282</td>\n",
              "      <td>-0.048962</td>\n",
              "      <td>0.040973</td>\n",
              "      <td>-0.052768</td>\n",
              "      <td>0.035841</td>\n",
              "      <td>0.037904</td>\n",
              "      <td>-0.043457</td>\n",
              "      <td>-0.032043</td>\n",
              "      <td>-0.044665</td>\n",
              "      <td>0.025484</td>\n",
              "      <td>0.029773</td>\n",
              "      <td>-0.040338</td>\n",
              "      <td>0.006242</td>\n",
              "      <td>-0.028902</td>\n",
              "      <td>0.010352</td>\n",
              "      <td>-0.031967</td>\n",
              "      <td>-0.049026</td>\n",
              "      <td>-0.024094</td>\n",
              "      <td>-0.034212</td>\n",
              "      <td>-0.051252</td>\n",
              "      <td>-0.042080</td>\n",
              "      <td>0.022143</td>\n",
              "      <td>-0.018370</td>\n",
              "      <td>-0.041201</td>\n",
              "      <td>-0.041561</td>\n",
              "      <td>-0.017123</td>\n",
              "      <td>0.032773</td>\n",
              "      <td>0.061952</td>\n",
              "      <td>0.022482</td>\n",
              "      <td>-0.011086</td>\n",
              "      <td>0.055635</td>\n",
              "      <td>0.030305</td>\n",
              "      <td>0.187853</td>\n",
              "    </tr>\n",
              "    <tr>\n",
              "      <th>word_freq_you</th>\n",
              "      <td>0.120575</td>\n",
              "      <td>0.055852</td>\n",
              "      <td>0.126490</td>\n",
              "      <td>-0.009932</td>\n",
              "      <td>0.083092</td>\n",
              "      <td>0.083323</td>\n",
              "      <td>0.102598</td>\n",
              "      <td>0.016873</td>\n",
              "      <td>0.027932</td>\n",
              "      <td>0.085214</td>\n",
              "      <td>0.146386</td>\n",
              "      <td>0.064234</td>\n",
              "      <td>0.108604</td>\n",
              "      <td>0.011683</td>\n",
              "      <td>0.036562</td>\n",
              "      <td>0.082209</td>\n",
              "      <td>0.073953</td>\n",
              "      <td>0.083573</td>\n",
              "      <td>1.000000</td>\n",
              "      <td>0.035443</td>\n",
              "      <td>0.297231</td>\n",
              "      <td>-0.028274</td>\n",
              "      <td>0.111129</td>\n",
              "      <td>0.173895</td>\n",
              "      <td>-0.214979</td>\n",
              "      <td>-0.175375</td>\n",
              "      <td>-0.090053</td>\n",
              "      <td>-0.124008</td>\n",
              "      <td>-0.087862</td>\n",
              "      <td>-0.114052</td>\n",
              "      <td>-0.091482</td>\n",
              "      <td>-0.074877</td>\n",
              "      <td>-0.104888</td>\n",
              "      <td>-0.074790</td>\n",
              "      <td>-0.093498</td>\n",
              "      <td>-0.145905</td>\n",
              "      <td>-0.147148</td>\n",
              "      <td>-0.036493</td>\n",
              "      <td>-0.045159</td>\n",
              "      <td>-0.060035</td>\n",
              "      <td>-0.050024</td>\n",
              "      <td>-0.095952</td>\n",
              "      <td>-0.058165</td>\n",
              "      <td>-0.071209</td>\n",
              "      <td>0.074763</td>\n",
              "      <td>-0.011231</td>\n",
              "      <td>-0.002129</td>\n",
              "      <td>-0.045794</td>\n",
              "      <td>-0.049828</td>\n",
              "      <td>-0.144979</td>\n",
              "      <td>-0.072102</td>\n",
              "      <td>0.147253</td>\n",
              "      <td>0.082567</td>\n",
              "      <td>-0.002864</td>\n",
              "      <td>-0.036605</td>\n",
              "      <td>-0.002904</td>\n",
              "      <td>-0.027297</td>\n",
              "      <td>0.256254</td>\n",
              "    </tr>\n",
              "    <tr>\n",
              "      <th>word_freq_credit</th>\n",
              "      <td>0.020910</td>\n",
              "      <td>-0.006690</td>\n",
              "      <td>0.030903</td>\n",
              "      <td>-0.005008</td>\n",
              "      <td>0.027838</td>\n",
              "      <td>0.057489</td>\n",
              "      <td>0.049664</td>\n",
              "      <td>0.115800</td>\n",
              "      <td>0.122098</td>\n",
              "      <td>0.030846</td>\n",
              "      <td>0.158509</td>\n",
              "      <td>0.006773</td>\n",
              "      <td>-0.018881</td>\n",
              "      <td>0.024886</td>\n",
              "      <td>0.010771</td>\n",
              "      <td>0.026546</td>\n",
              "      <td>0.185232</td>\n",
              "      <td>0.009356</td>\n",
              "      <td>0.035443</td>\n",
              "      <td>1.000000</td>\n",
              "      <td>0.141481</td>\n",
              "      <td>0.036035</td>\n",
              "      <td>0.034643</td>\n",
              "      <td>0.056284</td>\n",
              "      <td>-0.049698</td>\n",
              "      <td>-0.050944</td>\n",
              "      <td>-0.033368</td>\n",
              "      <td>-0.039308</td>\n",
              "      <td>-0.028584</td>\n",
              "      <td>-0.039005</td>\n",
              "      <td>-0.027171</td>\n",
              "      <td>-0.024420</td>\n",
              "      <td>-0.028386</td>\n",
              "      <td>-0.025276</td>\n",
              "      <td>-0.032752</td>\n",
              "      <td>-0.039904</td>\n",
              "      <td>-0.042286</td>\n",
              "      <td>0.010200</td>\n",
              "      <td>-0.029555</td>\n",
              "      <td>0.001308</td>\n",
              "      <td>-0.021664</td>\n",
              "      <td>-0.029760</td>\n",
              "      <td>-0.029535</td>\n",
              "      <td>-0.013866</td>\n",
              "      <td>-0.044997</td>\n",
              "      <td>-0.031982</td>\n",
              "      <td>-0.007703</td>\n",
              "      <td>-0.019010</td>\n",
              "      <td>-0.021141</td>\n",
              "      <td>-0.029706</td>\n",
              "      <td>-0.011686</td>\n",
              "      <td>0.047943</td>\n",
              "      <td>0.037304</td>\n",
              "      <td>0.008121</td>\n",
              "      <td>0.069437</td>\n",
              "      <td>0.085391</td>\n",
              "      <td>0.063523</td>\n",
              "      <td>0.186157</td>\n",
              "    </tr>\n",
              "    <tr>\n",
              "      <th>word_freq_your</th>\n",
              "      <td>0.121471</td>\n",
              "      <td>0.117780</td>\n",
              "      <td>0.147883</td>\n",
              "      <td>0.004578</td>\n",
              "      <td>0.142992</td>\n",
              "      <td>0.105705</td>\n",
              "      <td>0.143781</td>\n",
              "      <td>0.169668</td>\n",
              "      <td>0.174245</td>\n",
              "      <td>0.108417</td>\n",
              "      <td>0.195068</td>\n",
              "      <td>0.062480</td>\n",
              "      <td>0.048319</td>\n",
              "      <td>0.044160</td>\n",
              "      <td>0.080143</td>\n",
              "      <td>0.114526</td>\n",
              "      <td>0.233411</td>\n",
              "      <td>0.147092</td>\n",
              "      <td>0.297231</td>\n",
              "      <td>0.141481</td>\n",
              "      <td>1.000000</td>\n",
              "      <td>-0.023230</td>\n",
              "      <td>0.119244</td>\n",
              "      <td>0.172003</td>\n",
              "      <td>-0.165454</td>\n",
              "      <td>-0.143716</td>\n",
              "      <td>-0.087970</td>\n",
              "      <td>-0.100410</td>\n",
              "      <td>-0.064825</td>\n",
              "      <td>-0.095070</td>\n",
              "      <td>-0.070843</td>\n",
              "      <td>-0.047939</td>\n",
              "      <td>-0.085314</td>\n",
              "      <td>-0.048420</td>\n",
              "      <td>-0.083230</td>\n",
              "      <td>-0.113801</td>\n",
              "      <td>-0.122722</td>\n",
              "      <td>-0.007908</td>\n",
              "      <td>-0.068490</td>\n",
              "      <td>-0.012958</td>\n",
              "      <td>-0.063428</td>\n",
              "      <td>-0.087467</td>\n",
              "      <td>-0.054367</td>\n",
              "      <td>-0.064653</td>\n",
              "      <td>-0.059557</td>\n",
              "      <td>-0.086917</td>\n",
              "      <td>0.015179</td>\n",
              "      <td>-0.055868</td>\n",
              "      <td>-0.062535</td>\n",
              "      <td>-0.091585</td>\n",
              "      <td>-0.048665</td>\n",
              "      <td>0.087049</td>\n",
              "      <td>0.149514</td>\n",
              "      <td>-0.002857</td>\n",
              "      <td>0.041030</td>\n",
              "      <td>0.087473</td>\n",
              "      <td>0.047365</td>\n",
              "      <td>0.394426</td>\n",
              "    </tr>\n",
              "    <tr>\n",
              "      <th>word_freq_font</th>\n",
              "      <td>-0.025585</td>\n",
              "      <td>0.001249</td>\n",
              "      <td>-0.039446</td>\n",
              "      <td>0.030587</td>\n",
              "      <td>-0.022716</td>\n",
              "      <td>0.006859</td>\n",
              "      <td>-0.002944</td>\n",
              "      <td>-0.017174</td>\n",
              "      <td>-0.020834</td>\n",
              "      <td>0.007027</td>\n",
              "      <td>-0.009664</td>\n",
              "      <td>-0.048849</td>\n",
              "      <td>-0.031775</td>\n",
              "      <td>-0.020507</td>\n",
              "      <td>-0.002407</td>\n",
              "      <td>-0.009657</td>\n",
              "      <td>-0.023015</td>\n",
              "      <td>-0.027801</td>\n",
              "      <td>-0.028274</td>\n",
              "      <td>0.036035</td>\n",
              "      <td>-0.023230</td>\n",
              "      <td>1.000000</td>\n",
              "      <td>0.022564</td>\n",
              "      <td>-0.010600</td>\n",
              "      <td>-0.041886</td>\n",
              "      <td>-0.037558</td>\n",
              "      <td>-0.025601</td>\n",
              "      <td>-0.029506</td>\n",
              "      <td>-0.020961</td>\n",
              "      <td>-0.029010</td>\n",
              "      <td>-0.020165</td>\n",
              "      <td>-0.018354</td>\n",
              "      <td>-0.020706</td>\n",
              "      <td>-0.018629</td>\n",
              "      <td>-0.024922</td>\n",
              "      <td>-0.030058</td>\n",
              "      <td>-0.036143</td>\n",
              "      <td>-0.005437</td>\n",
              "      <td>-0.020483</td>\n",
              "      <td>-0.023245</td>\n",
              "      <td>-0.015960</td>\n",
              "      <td>-0.021905</td>\n",
              "      <td>-0.023046</td>\n",
              "      <td>-0.013077</td>\n",
              "      <td>-0.034446</td>\n",
              "      <td>-0.022527</td>\n",
              "      <td>-0.008982</td>\n",
              "      <td>-0.014290</td>\n",
              "      <td>0.418548</td>\n",
              "      <td>-0.050083</td>\n",
              "      <td>-0.001570</td>\n",
              "      <td>-0.006912</td>\n",
              "      <td>-0.011785</td>\n",
              "      <td>0.189437</td>\n",
              "      <td>0.020853</td>\n",
              "      <td>0.028515</td>\n",
              "      <td>0.105217</td>\n",
              "      <td>0.093780</td>\n",
              "    </tr>\n",
              "    <tr>\n",
              "      <th>word_freq_000</th>\n",
              "      <td>0.126457</td>\n",
              "      <td>0.007145</td>\n",
              "      <td>0.106747</td>\n",
              "      <td>0.014712</td>\n",
              "      <td>0.062136</td>\n",
              "      <td>0.181734</td>\n",
              "      <td>0.068424</td>\n",
              "      <td>0.086629</td>\n",
              "      <td>0.114715</td>\n",
              "      <td>0.099806</td>\n",
              "      <td>0.123076</td>\n",
              "      <td>0.008752</td>\n",
              "      <td>0.111089</td>\n",
              "      <td>0.041200</td>\n",
              "      <td>0.359424</td>\n",
              "      <td>0.054588</td>\n",
              "      <td>0.093287</td>\n",
              "      <td>0.078260</td>\n",
              "      <td>0.111129</td>\n",
              "      <td>0.034643</td>\n",
              "      <td>0.119244</td>\n",
              "      <td>0.022564</td>\n",
              "      <td>1.000000</td>\n",
              "      <td>0.053983</td>\n",
              "      <td>-0.087908</td>\n",
              "      <td>-0.082346</td>\n",
              "      <td>-0.059422</td>\n",
              "      <td>-0.068230</td>\n",
              "      <td>-0.046920</td>\n",
              "      <td>-0.064402</td>\n",
              "      <td>-0.046402</td>\n",
              "      <td>-0.042795</td>\n",
              "      <td>-0.048728</td>\n",
              "      <td>-0.043100</td>\n",
              "      <td>-0.050932</td>\n",
              "      <td>-0.063690</td>\n",
              "      <td>-0.072136</td>\n",
              "      <td>-0.017238</td>\n",
              "      <td>-0.040297</td>\n",
              "      <td>-0.001476</td>\n",
              "      <td>-0.037077</td>\n",
              "      <td>-0.050851</td>\n",
              "      <td>-0.045880</td>\n",
              "      <td>-0.035475</td>\n",
              "      <td>-0.055144</td>\n",
              "      <td>-0.054665</td>\n",
              "      <td>-0.017400</td>\n",
              "      <td>-0.031445</td>\n",
              "      <td>-0.029684</td>\n",
              "      <td>-0.039060</td>\n",
              "      <td>0.000416</td>\n",
              "      <td>0.065840</td>\n",
              "      <td>0.315898</td>\n",
              "      <td>0.020624</td>\n",
              "      <td>0.006643</td>\n",
              "      <td>0.107212</td>\n",
              "      <td>0.157330</td>\n",
              "      <td>0.325861</td>\n",
              "    </tr>\n",
              "    <tr>\n",
              "      <th>word_freq_money</th>\n",
              "      <td>0.205676</td>\n",
              "      <td>0.061350</td>\n",
              "      <td>0.031186</td>\n",
              "      <td>0.025849</td>\n",
              "      <td>0.000320</td>\n",
              "      <td>0.059413</td>\n",
              "      <td>0.034532</td>\n",
              "      <td>0.035712</td>\n",
              "      <td>0.099230</td>\n",
              "      <td>0.043038</td>\n",
              "      <td>0.064984</td>\n",
              "      <td>0.013967</td>\n",
              "      <td>0.079282</td>\n",
              "      <td>0.029861</td>\n",
              "      <td>0.036374</td>\n",
              "      <td>0.112260</td>\n",
              "      <td>0.045051</td>\n",
              "      <td>0.098591</td>\n",
              "      <td>0.173895</td>\n",
              "      <td>0.056284</td>\n",
              "      <td>0.172003</td>\n",
              "      <td>-0.010600</td>\n",
              "      <td>0.053983</td>\n",
              "      <td>1.000000</td>\n",
              "      <td>-0.069134</td>\n",
              "      <td>-0.062960</td>\n",
              "      <td>-0.041644</td>\n",
              "      <td>-0.048888</td>\n",
              "      <td>-0.035898</td>\n",
              "      <td>-0.048683</td>\n",
              "      <td>-0.033347</td>\n",
              "      <td>-0.030535</td>\n",
              "      <td>-0.035861</td>\n",
              "      <td>-0.031324</td>\n",
              "      <td>-0.039525</td>\n",
              "      <td>-0.047847</td>\n",
              "      <td>-0.055747</td>\n",
              "      <td>-0.008767</td>\n",
              "      <td>-0.034399</td>\n",
              "      <td>-0.020959</td>\n",
              "      <td>-0.027389</td>\n",
              "      <td>-0.034758</td>\n",
              "      <td>-0.039928</td>\n",
              "      <td>-0.024042</td>\n",
              "      <td>-0.046517</td>\n",
              "      <td>-0.031378</td>\n",
              "      <td>-0.010749</td>\n",
              "      <td>-0.019816</td>\n",
              "      <td>-0.020630</td>\n",
              "      <td>-0.032226</td>\n",
              "      <td>-0.020607</td>\n",
              "      <td>0.050282</td>\n",
              "      <td>0.103511</td>\n",
              "      <td>0.001499</td>\n",
              "      <td>0.007630</td>\n",
              "      <td>0.044178</td>\n",
              "      <td>0.081323</td>\n",
              "      <td>0.205145</td>\n",
              "    </tr>\n",
              "    <tr>\n",
              "      <th>word_freq_hp</th>\n",
              "      <td>-0.075085</td>\n",
              "      <td>-0.053488</td>\n",
              "      <td>-0.092635</td>\n",
              "      <td>-0.015706</td>\n",
              "      <td>-0.076785</td>\n",
              "      <td>-0.086713</td>\n",
              "      <td>-0.095021</td>\n",
              "      <td>-0.055938</td>\n",
              "      <td>-0.073495</td>\n",
              "      <td>-0.046666</td>\n",
              "      <td>-0.079346</td>\n",
              "      <td>-0.024832</td>\n",
              "      <td>-0.062297</td>\n",
              "      <td>-0.038131</td>\n",
              "      <td>-0.050581</td>\n",
              "      <td>-0.099125</td>\n",
              "      <td>-0.056011</td>\n",
              "      <td>-0.038366</td>\n",
              "      <td>-0.214979</td>\n",
              "      <td>-0.049698</td>\n",
              "      <td>-0.165454</td>\n",
              "      <td>-0.041886</td>\n",
              "      <td>-0.087908</td>\n",
              "      <td>-0.069134</td>\n",
              "      <td>1.000000</td>\n",
              "      <td>0.504642</td>\n",
              "      <td>0.045588</td>\n",
              "      <td>0.302822</td>\n",
              "      <td>0.185609</td>\n",
              "      <td>0.407301</td>\n",
              "      <td>0.309285</td>\n",
              "      <td>0.328674</td>\n",
              "      <td>0.001614</td>\n",
              "      <td>0.327000</td>\n",
              "      <td>0.278103</td>\n",
              "      <td>0.353260</td>\n",
              "      <td>0.134841</td>\n",
              "      <td>0.007820</td>\n",
              "      <td>0.049532</td>\n",
              "      <td>0.290307</td>\n",
              "      <td>0.005704</td>\n",
              "      <td>0.018136</td>\n",
              "      <td>0.113088</td>\n",
              "      <td>-0.003161</td>\n",
              "      <td>0.049956</td>\n",
              "      <td>-0.050003</td>\n",
              "      <td>0.002363</td>\n",
              "      <td>-0.004476</td>\n",
              "      <td>0.029303</td>\n",
              "      <td>0.113061</td>\n",
              "      <td>0.042748</td>\n",
              "      <td>-0.095713</td>\n",
              "      <td>-0.092684</td>\n",
              "      <td>0.034133</td>\n",
              "      <td>-0.019048</td>\n",
              "      <td>-0.051514</td>\n",
              "      <td>-0.045405</td>\n",
              "      <td>-0.269977</td>\n",
              "    </tr>\n",
              "    <tr>\n",
              "      <th>word_freq_hpl</th>\n",
              "      <td>-0.063494</td>\n",
              "      <td>-0.044550</td>\n",
              "      <td>-0.066418</td>\n",
              "      <td>-0.014033</td>\n",
              "      <td>-0.079809</td>\n",
              "      <td>-0.089548</td>\n",
              "      <td>-0.084690</td>\n",
              "      <td>-0.043969</td>\n",
              "      <td>-0.051374</td>\n",
              "      <td>-0.021472</td>\n",
              "      <td>-0.080507</td>\n",
              "      <td>0.007439</td>\n",
              "      <td>-0.070361</td>\n",
              "      <td>-0.043999</td>\n",
              "      <td>-0.033226</td>\n",
              "      <td>-0.086094</td>\n",
              "      <td>-0.080028</td>\n",
              "      <td>-0.028282</td>\n",
              "      <td>-0.175375</td>\n",
              "      <td>-0.050944</td>\n",
              "      <td>-0.143716</td>\n",
              "      <td>-0.037558</td>\n",
              "      <td>-0.082346</td>\n",
              "      <td>-0.062960</td>\n",
              "      <td>0.504642</td>\n",
              "      <td>1.000000</td>\n",
              "      <td>0.077609</td>\n",
              "      <td>0.340433</td>\n",
              "      <td>0.192452</td>\n",
              "      <td>0.355507</td>\n",
              "      <td>0.300119</td>\n",
              "      <td>0.322899</td>\n",
              "      <td>-0.006312</td>\n",
              "      <td>0.321650</td>\n",
              "      <td>0.291204</td>\n",
              "      <td>0.313981</td>\n",
              "      <td>0.161118</td>\n",
              "      <td>0.021753</td>\n",
              "      <td>0.053571</td>\n",
              "      <td>0.282655</td>\n",
              "      <td>0.021572</td>\n",
              "      <td>0.057174</td>\n",
              "      <td>0.120079</td>\n",
              "      <td>0.014309</td>\n",
              "      <td>-0.010569</td>\n",
              "      <td>-0.040792</td>\n",
              "      <td>0.033213</td>\n",
              "      <td>0.031949</td>\n",
              "      <td>0.011635</td>\n",
              "      <td>0.118219</td>\n",
              "      <td>0.067888</td>\n",
              "      <td>-0.081783</td>\n",
              "      <td>-0.085773</td>\n",
              "      <td>-0.021780</td>\n",
              "      <td>-0.025907</td>\n",
              "      <td>-0.051927</td>\n",
              "      <td>-0.062775</td>\n",
              "      <td>-0.242367</td>\n",
              "    </tr>\n",
              "    <tr>\n",
              "      <th>word_freq_george</th>\n",
              "      <td>-0.048104</td>\n",
              "      <td>-0.011172</td>\n",
              "      <td>-0.081269</td>\n",
              "      <td>-0.009712</td>\n",
              "      <td>-0.062483</td>\n",
              "      <td>-0.050829</td>\n",
              "      <td>-0.060474</td>\n",
              "      <td>-0.049675</td>\n",
              "      <td>-0.051304</td>\n",
              "      <td>-0.045395</td>\n",
              "      <td>-0.058156</td>\n",
              "      <td>-0.085807</td>\n",
              "      <td>-0.032215</td>\n",
              "      <td>-0.013259</td>\n",
              "      <td>-0.033556</td>\n",
              "      <td>0.011176</td>\n",
              "      <td>-0.061538</td>\n",
              "      <td>-0.048962</td>\n",
              "      <td>-0.090053</td>\n",
              "      <td>-0.033368</td>\n",
              "      <td>-0.087970</td>\n",
              "      <td>-0.025601</td>\n",
              "      <td>-0.059422</td>\n",
              "      <td>-0.041644</td>\n",
              "      <td>0.045588</td>\n",
              "      <td>0.077609</td>\n",
              "      <td>1.000000</td>\n",
              "      <td>0.096541</td>\n",
              "      <td>0.080112</td>\n",
              "      <td>0.116449</td>\n",
              "      <td>0.116544</td>\n",
              "      <td>0.170330</td>\n",
              "      <td>-0.000353</td>\n",
              "      <td>0.169342</td>\n",
              "      <td>0.091293</td>\n",
              "      <td>0.108681</td>\n",
              "      <td>0.039754</td>\n",
              "      <td>-0.005552</td>\n",
              "      <td>0.043040</td>\n",
              "      <td>0.139123</td>\n",
              "      <td>-0.003428</td>\n",
              "      <td>0.030184</td>\n",
              "      <td>0.070261</td>\n",
              "      <td>0.004442</td>\n",
              "      <td>0.058206</td>\n",
              "      <td>-0.030700</td>\n",
              "      <td>-0.002883</td>\n",
              "      <td>0.040453</td>\n",
              "      <td>-0.008363</td>\n",
              "      <td>0.038698</td>\n",
              "      <td>0.002904</td>\n",
              "      <td>-0.054028</td>\n",
              "      <td>-0.063071</td>\n",
              "      <td>-0.016392</td>\n",
              "      <td>-0.020186</td>\n",
              "      <td>-0.043752</td>\n",
              "      <td>-0.080952</td>\n",
              "      <td>-0.168895</td>\n",
              "    </tr>\n",
              "    <tr>\n",
              "      <th>word_freq_650</th>\n",
              "      <td>-0.050075</td>\n",
              "      <td>-0.032939</td>\n",
              "      <td>-0.051435</td>\n",
              "      <td>-0.010632</td>\n",
              "      <td>-0.064151</td>\n",
              "      <td>-0.067792</td>\n",
              "      <td>-0.070284</td>\n",
              "      <td>-0.051548</td>\n",
              "      <td>-0.059386</td>\n",
              "      <td>0.018514</td>\n",
              "      <td>-0.062155</td>\n",
              "      <td>-0.042468</td>\n",
              "      <td>-0.063158</td>\n",
              "      <td>-0.020348</td>\n",
              "      <td>-0.035869</td>\n",
              "      <td>-0.069391</td>\n",
              "      <td>-0.067041</td>\n",
              "      <td>0.040973</td>\n",
              "      <td>-0.124008</td>\n",
              "      <td>-0.039308</td>\n",
              "      <td>-0.100410</td>\n",
              "      <td>-0.029506</td>\n",
              "      <td>-0.068230</td>\n",
              "      <td>-0.048888</td>\n",
              "      <td>0.302822</td>\n",
              "      <td>0.340433</td>\n",
              "      <td>0.096541</td>\n",
              "      <td>1.000000</td>\n",
              "      <td>0.292390</td>\n",
              "      <td>0.513070</td>\n",
              "      <td>0.460953</td>\n",
              "      <td>0.500118</td>\n",
              "      <td>0.002047</td>\n",
              "      <td>0.498009</td>\n",
              "      <td>0.542521</td>\n",
              "      <td>0.513100</td>\n",
              "      <td>0.022419</td>\n",
              "      <td>-0.013833</td>\n",
              "      <td>0.041364</td>\n",
              "      <td>0.454510</td>\n",
              "      <td>0.029499</td>\n",
              "      <td>0.002268</td>\n",
              "      <td>0.083605</td>\n",
              "      <td>-0.000631</td>\n",
              "      <td>-0.005427</td>\n",
              "      <td>-0.009155</td>\n",
              "      <td>0.004158</td>\n",
              "      <td>0.004181</td>\n",
              "      <td>-0.026552</td>\n",
              "      <td>0.287797</td>\n",
              "      <td>0.036288</td>\n",
              "      <td>-0.066231</td>\n",
              "      <td>-0.064901</td>\n",
              "      <td>-0.011849</td>\n",
              "      <td>-0.014956</td>\n",
              "      <td>-0.038707</td>\n",
              "      <td>-0.070812</td>\n",
              "      <td>-0.164688</td>\n",
              "    </tr>\n",
              "    <tr>\n",
              "      <th>word_freq_lab</th>\n",
              "      <td>-0.041556</td>\n",
              "      <td>-0.026005</td>\n",
              "      <td>-0.057823</td>\n",
              "      <td>-0.007933</td>\n",
              "      <td>0.039627</td>\n",
              "      <td>-0.048913</td>\n",
              "      <td>-0.050273</td>\n",
              "      <td>-0.037525</td>\n",
              "      <td>-0.045838</td>\n",
              "      <td>-0.026846</td>\n",
              "      <td>-0.048122</td>\n",
              "      <td>0.115718</td>\n",
              "      <td>-0.026923</td>\n",
              "      <td>-0.011095</td>\n",
              "      <td>-0.027742</td>\n",
              "      <td>-0.049647</td>\n",
              "      <td>-0.046916</td>\n",
              "      <td>-0.052768</td>\n",
              "      <td>-0.087862</td>\n",
              "      <td>-0.028584</td>\n",
              "      <td>-0.064825</td>\n",
              "      <td>-0.020961</td>\n",
              "      <td>-0.046920</td>\n",
              "      <td>-0.035898</td>\n",
              "      <td>0.185609</td>\n",
              "      <td>0.192452</td>\n",
              "      <td>0.080112</td>\n",
              "      <td>0.292390</td>\n",
              "      <td>1.000000</td>\n",
              "      <td>0.333328</td>\n",
              "      <td>0.354797</td>\n",
              "      <td>0.464144</td>\n",
              "      <td>-0.003881</td>\n",
              "      <td>0.461995</td>\n",
              "      <td>0.275939</td>\n",
              "      <td>0.354125</td>\n",
              "      <td>0.017249</td>\n",
              "      <td>-0.007223</td>\n",
              "      <td>0.010351</td>\n",
              "      <td>0.424640</td>\n",
              "      <td>-0.016663</td>\n",
              "      <td>0.445126</td>\n",
              "      <td>0.063489</td>\n",
              "      <td>-0.003087</td>\n",
              "      <td>-0.010581</td>\n",
              "      <td>-0.024514</td>\n",
              "      <td>-0.002085</td>\n",
              "      <td>-0.003403</td>\n",
              "      <td>-0.018865</td>\n",
              "      <td>0.130405</td>\n",
              "      <td>0.008911</td>\n",
              "      <td>-0.043068</td>\n",
              "      <td>-0.052784</td>\n",
              "      <td>0.002482</td>\n",
              "      <td>-0.015840</td>\n",
              "      <td>-0.034469</td>\n",
              "      <td>-0.057906</td>\n",
              "      <td>-0.137889</td>\n",
              "    </tr>\n",
              "    <tr>\n",
              "      <th>word_freq_labs</th>\n",
              "      <td>-0.054262</td>\n",
              "      <td>-0.029359</td>\n",
              "      <td>-0.030483</td>\n",
              "      <td>-0.010914</td>\n",
              "      <td>-0.053614</td>\n",
              "      <td>-0.048282</td>\n",
              "      <td>-0.061318</td>\n",
              "      <td>-0.044713</td>\n",
              "      <td>-0.044521</td>\n",
              "      <td>0.004635</td>\n",
              "      <td>-0.056325</td>\n",
              "      <td>-0.009627</td>\n",
              "      <td>-0.054735</td>\n",
              "      <td>-0.030315</td>\n",
              "      <td>-0.034663</td>\n",
              "      <td>-0.063777</td>\n",
              "      <td>-0.037024</td>\n",
              "      <td>0.035841</td>\n",
              "      <td>-0.114052</td>\n",
              "      <td>-0.039005</td>\n",
              "      <td>-0.095070</td>\n",
              "      <td>-0.029010</td>\n",
              "      <td>-0.064402</td>\n",
              "      <td>-0.048683</td>\n",
              "      <td>0.407301</td>\n",
              "      <td>0.355507</td>\n",
              "      <td>0.116449</td>\n",
              "      <td>0.513070</td>\n",
              "      <td>0.333328</td>\n",
              "      <td>1.000000</td>\n",
              "      <td>0.557623</td>\n",
              "      <td>0.611887</td>\n",
              "      <td>-0.010347</td>\n",
              "      <td>0.609022</td>\n",
              "      <td>0.496246</td>\n",
              "      <td>0.579534</td>\n",
              "      <td>0.067062</td>\n",
              "      <td>-0.003568</td>\n",
              "      <td>0.034567</td>\n",
              "      <td>0.555909</td>\n",
              "      <td>0.054061</td>\n",
              "      <td>-0.018256</td>\n",
              "      <td>0.075645</td>\n",
              "      <td>-0.005314</td>\n",
              "      <td>-0.006382</td>\n",
              "      <td>-0.011904</td>\n",
              "      <td>-0.005192</td>\n",
              "      <td>-0.005913</td>\n",
              "      <td>-0.020711</td>\n",
              "      <td>0.193243</td>\n",
              "      <td>0.006576</td>\n",
              "      <td>-0.064846</td>\n",
              "      <td>-0.070412</td>\n",
              "      <td>0.056375</td>\n",
              "      <td>-0.018111</td>\n",
              "      <td>-0.039250</td>\n",
              "      <td>-0.067066</td>\n",
              "      <td>-0.180603</td>\n",
              "    </tr>\n",
              "    <tr>\n",
              "      <th>word_freq_telnet</th>\n",
              "      <td>-0.038913</td>\n",
              "      <td>-0.015895</td>\n",
              "      <td>-0.036585</td>\n",
              "      <td>-0.007656</td>\n",
              "      <td>-0.042054</td>\n",
              "      <td>-0.046362</td>\n",
              "      <td>-0.047909</td>\n",
              "      <td>-0.036248</td>\n",
              "      <td>-0.040497</td>\n",
              "      <td>-0.024055</td>\n",
              "      <td>-0.031882</td>\n",
              "      <td>-0.036981</td>\n",
              "      <td>-0.037095</td>\n",
              "      <td>-0.018809</td>\n",
              "      <td>-0.025435</td>\n",
              "      <td>-0.046728</td>\n",
              "      <td>-0.044983</td>\n",
              "      <td>0.037904</td>\n",
              "      <td>-0.091482</td>\n",
              "      <td>-0.027171</td>\n",
              "      <td>-0.070843</td>\n",
              "      <td>-0.020165</td>\n",
              "      <td>-0.046402</td>\n",
              "      <td>-0.033347</td>\n",
              "      <td>0.309285</td>\n",
              "      <td>0.300119</td>\n",
              "      <td>0.116544</td>\n",
              "      <td>0.460953</td>\n",
              "      <td>0.354797</td>\n",
              "      <td>0.557623</td>\n",
              "      <td>1.000000</td>\n",
              "      <td>0.681540</td>\n",
              "      <td>-0.011872</td>\n",
              "      <td>0.678670</td>\n",
              "      <td>0.464348</td>\n",
              "      <td>0.621124</td>\n",
              "      <td>0.041999</td>\n",
              "      <td>-0.009079</td>\n",
              "      <td>0.044145</td>\n",
              "      <td>0.641126</td>\n",
              "      <td>-0.012992</td>\n",
              "      <td>-0.011652</td>\n",
              "      <td>0.094139</td>\n",
              "      <td>0.083249</td>\n",
              "      <td>-0.007947</td>\n",
              "      <td>-0.025130</td>\n",
              "      <td>-0.002002</td>\n",
              "      <td>-0.014534</td>\n",
              "      <td>-0.016384</td>\n",
              "      <td>0.195796</td>\n",
              "      <td>0.012845</td>\n",
              "      <td>-0.046224</td>\n",
              "      <td>-0.049817</td>\n",
              "      <td>0.001530</td>\n",
              "      <td>-0.012520</td>\n",
              "      <td>-0.028483</td>\n",
              "      <td>-0.047254</td>\n",
              "      <td>-0.130740</td>\n",
              "    </tr>\n",
              "    <tr>\n",
              "      <th>word_freq_857</th>\n",
              "      <td>-0.031647</td>\n",
              "      <td>0.028897</td>\n",
              "      <td>-0.063558</td>\n",
              "      <td>-0.006969</td>\n",
              "      <td>-0.024256</td>\n",
              "      <td>-0.036538</td>\n",
              "      <td>-0.042713</td>\n",
              "      <td>-0.035451</td>\n",
              "      <td>-0.034450</td>\n",
              "      <td>-0.013447</td>\n",
              "      <td>-0.038460</td>\n",
              "      <td>-0.058757</td>\n",
              "      <td>-0.032255</td>\n",
              "      <td>-0.018869</td>\n",
              "      <td>-0.022147</td>\n",
              "      <td>-0.042870</td>\n",
              "      <td>-0.044540</td>\n",
              "      <td>-0.043457</td>\n",
              "      <td>-0.074877</td>\n",
              "      <td>-0.024420</td>\n",
              "      <td>-0.047939</td>\n",
              "      <td>-0.018354</td>\n",
              "      <td>-0.042795</td>\n",
              "      <td>-0.030535</td>\n",
              "      <td>0.328674</td>\n",
              "      <td>0.322899</td>\n",
              "      <td>0.170330</td>\n",
              "      <td>0.500118</td>\n",
              "      <td>0.464144</td>\n",
              "      <td>0.611887</td>\n",
              "      <td>0.681540</td>\n",
              "      <td>1.000000</td>\n",
              "      <td>-0.017273</td>\n",
              "      <td>0.994875</td>\n",
              "      <td>0.495064</td>\n",
              "      <td>0.672116</td>\n",
              "      <td>0.040583</td>\n",
              "      <td>-0.008122</td>\n",
              "      <td>0.050664</td>\n",
              "      <td>0.824205</td>\n",
              "      <td>-0.009768</td>\n",
              "      <td>-0.008489</td>\n",
              "      <td>0.134622</td>\n",
              "      <td>0.006463</td>\n",
              "      <td>0.020699</td>\n",
              "      <td>-0.019713</td>\n",
              "      <td>0.001852</td>\n",
              "      <td>-0.012542</td>\n",
              "      <td>-0.008196</td>\n",
              "      <td>0.275532</td>\n",
              "      <td>0.018571</td>\n",
              "      <td>-0.043178</td>\n",
              "      <td>-0.046582</td>\n",
              "      <td>-0.010999</td>\n",
              "      <td>-0.011592</td>\n",
              "      <td>-0.027915</td>\n",
              "      <td>-0.048249</td>\n",
              "      <td>-0.120119</td>\n",
              "    </tr>\n",
              "    <tr>\n",
              "      <th>word_freq_data</th>\n",
              "      <td>-0.042731</td>\n",
              "      <td>-0.032530</td>\n",
              "      <td>-0.057977</td>\n",
              "      <td>-0.008248</td>\n",
              "      <td>-0.034750</td>\n",
              "      <td>-0.035047</td>\n",
              "      <td>-0.043030</td>\n",
              "      <td>-0.040437</td>\n",
              "      <td>-0.014198</td>\n",
              "      <td>-0.041283</td>\n",
              "      <td>-0.043424</td>\n",
              "      <td>-0.025913</td>\n",
              "      <td>-0.048251</td>\n",
              "      <td>-0.012280</td>\n",
              "      <td>-0.018206</td>\n",
              "      <td>-0.047048</td>\n",
              "      <td>-0.042871</td>\n",
              "      <td>-0.032043</td>\n",
              "      <td>-0.104888</td>\n",
              "      <td>-0.028386</td>\n",
              "      <td>-0.085314</td>\n",
              "      <td>-0.020706</td>\n",
              "      <td>-0.048728</td>\n",
              "      <td>-0.035861</td>\n",
              "      <td>0.001614</td>\n",
              "      <td>-0.006312</td>\n",
              "      <td>-0.000353</td>\n",
              "      <td>0.002047</td>\n",
              "      <td>-0.003881</td>\n",
              "      <td>-0.010347</td>\n",
              "      <td>-0.011872</td>\n",
              "      <td>-0.017273</td>\n",
              "      <td>1.000000</td>\n",
              "      <td>-0.017822</td>\n",
              "      <td>-0.003014</td>\n",
              "      <td>-0.004731</td>\n",
              "      <td>0.047186</td>\n",
              "      <td>0.023419</td>\n",
              "      <td>0.064015</td>\n",
              "      <td>-0.020625</td>\n",
              "      <td>-0.001570</td>\n",
              "      <td>0.009826</td>\n",
              "      <td>-0.000433</td>\n",
              "      <td>0.024932</td>\n",
              "      <td>-0.000269</td>\n",
              "      <td>-0.021325</td>\n",
              "      <td>-0.000087</td>\n",
              "      <td>0.003630</td>\n",
              "      <td>-0.006124</td>\n",
              "      <td>0.025893</td>\n",
              "      <td>0.123381</td>\n",
              "      <td>-0.050431</td>\n",
              "      <td>-0.050721</td>\n",
              "      <td>-0.011286</td>\n",
              "      <td>-0.016303</td>\n",
              "      <td>-0.025788</td>\n",
              "      <td>0.007064</td>\n",
              "      <td>-0.123995</td>\n",
              "    </tr>\n",
              "    <tr>\n",
              "      <th>word_freq_415</th>\n",
              "      <td>-0.026335</td>\n",
              "      <td>0.026085</td>\n",
              "      <td>-0.063396</td>\n",
              "      <td>-0.006977</td>\n",
              "      <td>-0.024556</td>\n",
              "      <td>-0.037102</td>\n",
              "      <td>-0.043152</td>\n",
              "      <td>-0.036077</td>\n",
              "      <td>-0.034004</td>\n",
              "      <td>-0.012662</td>\n",
              "      <td>-0.037929</td>\n",
              "      <td>-0.059676</td>\n",
              "      <td>-0.032355</td>\n",
              "      <td>-0.019125</td>\n",
              "      <td>-0.022597</td>\n",
              "      <td>-0.042189</td>\n",
              "      <td>-0.044146</td>\n",
              "      <td>-0.044665</td>\n",
              "      <td>-0.074790</td>\n",
              "      <td>-0.025276</td>\n",
              "      <td>-0.048420</td>\n",
              "      <td>-0.018629</td>\n",
              "      <td>-0.043100</td>\n",
              "      <td>-0.031324</td>\n",
              "      <td>0.327000</td>\n",
              "      <td>0.321650</td>\n",
              "      <td>0.169342</td>\n",
              "      <td>0.498009</td>\n",
              "      <td>0.461995</td>\n",
              "      <td>0.609022</td>\n",
              "      <td>0.678670</td>\n",
              "      <td>0.994875</td>\n",
              "      <td>-0.017822</td>\n",
              "      <td>1.000000</td>\n",
              "      <td>0.492974</td>\n",
              "      <td>0.668903</td>\n",
              "      <td>0.041626</td>\n",
              "      <td>-0.008269</td>\n",
              "      <td>0.049956</td>\n",
              "      <td>0.820835</td>\n",
              "      <td>-0.010105</td>\n",
              "      <td>-0.008967</td>\n",
              "      <td>0.133548</td>\n",
              "      <td>0.006052</td>\n",
              "      <td>0.020015</td>\n",
              "      <td>-0.020167</td>\n",
              "      <td>0.001637</td>\n",
              "      <td>-0.012943</td>\n",
              "      <td>-0.008718</td>\n",
              "      <td>0.274210</td>\n",
              "      <td>0.018394</td>\n",
              "      <td>-0.039845</td>\n",
              "      <td>-0.042111</td>\n",
              "      <td>-0.010887</td>\n",
              "      <td>-0.002357</td>\n",
              "      <td>-0.024176</td>\n",
              "      <td>-0.045611</td>\n",
              "      <td>-0.118350</td>\n",
              "    </tr>\n",
              "    <tr>\n",
              "      <th>word_freq_85</th>\n",
              "      <td>-0.046101</td>\n",
              "      <td>-0.025472</td>\n",
              "      <td>-0.048938</td>\n",
              "      <td>-0.005909</td>\n",
              "      <td>-0.051059</td>\n",
              "      <td>-0.055412</td>\n",
              "      <td>-0.055224</td>\n",
              "      <td>-0.035949</td>\n",
              "      <td>-0.043458</td>\n",
              "      <td>-0.020949</td>\n",
              "      <td>-0.048097</td>\n",
              "      <td>-0.050362</td>\n",
              "      <td>-0.050885</td>\n",
              "      <td>-0.025784</td>\n",
              "      <td>-0.024471</td>\n",
              "      <td>-0.060491</td>\n",
              "      <td>-0.057538</td>\n",
              "      <td>0.025484</td>\n",
              "      <td>-0.093498</td>\n",
              "      <td>-0.032752</td>\n",
              "      <td>-0.083230</td>\n",
              "      <td>-0.024922</td>\n",
              "      <td>-0.050932</td>\n",
              "      <td>-0.039525</td>\n",
              "      <td>0.278103</td>\n",
              "      <td>0.291204</td>\n",
              "      <td>0.091293</td>\n",
              "      <td>0.542521</td>\n",
              "      <td>0.275939</td>\n",
              "      <td>0.496246</td>\n",
              "      <td>0.464348</td>\n",
              "      <td>0.495064</td>\n",
              "      <td>-0.003014</td>\n",
              "      <td>0.492974</td>\n",
              "      <td>1.000000</td>\n",
              "      <td>0.458594</td>\n",
              "      <td>0.026677</td>\n",
              "      <td>-0.011794</td>\n",
              "      <td>0.020217</td>\n",
              "      <td>0.456186</td>\n",
              "      <td>0.033440</td>\n",
              "      <td>0.032484</td>\n",
              "      <td>0.064722</td>\n",
              "      <td>0.002977</td>\n",
              "      <td>-0.015683</td>\n",
              "      <td>-0.015362</td>\n",
              "      <td>0.017405</td>\n",
              "      <td>0.001776</td>\n",
              "      <td>-0.022456</td>\n",
              "      <td>0.167827</td>\n",
              "      <td>0.039566</td>\n",
              "      <td>-0.050414</td>\n",
              "      <td>-0.051212</td>\n",
              "      <td>-0.009808</td>\n",
              "      <td>-0.014842</td>\n",
              "      <td>-0.030364</td>\n",
              "      <td>-0.047363</td>\n",
              "      <td>-0.154723</td>\n",
              "    </tr>\n",
              "    <tr>\n",
              "      <th>word_freq_technology</th>\n",
              "      <td>-0.057318</td>\n",
              "      <td>-0.028196</td>\n",
              "      <td>-0.047555</td>\n",
              "      <td>-0.006312</td>\n",
              "      <td>-0.052211</td>\n",
              "      <td>-0.054320</td>\n",
              "      <td>-0.057370</td>\n",
              "      <td>-0.037270</td>\n",
              "      <td>-0.059423</td>\n",
              "      <td>-0.017859</td>\n",
              "      <td>-0.053651</td>\n",
              "      <td>-0.010420</td>\n",
              "      <td>-0.049537</td>\n",
              "      <td>0.011032</td>\n",
              "      <td>-0.033708</td>\n",
              "      <td>-0.067677</td>\n",
              "      <td>-0.033531</td>\n",
              "      <td>0.029773</td>\n",
              "      <td>-0.145905</td>\n",
              "      <td>-0.039904</td>\n",
              "      <td>-0.113801</td>\n",
              "      <td>-0.030058</td>\n",
              "      <td>-0.063690</td>\n",
              "      <td>-0.047847</td>\n",
              "      <td>0.353260</td>\n",
              "      <td>0.313981</td>\n",
              "      <td>0.108681</td>\n",
              "      <td>0.513100</td>\n",
              "      <td>0.354125</td>\n",
              "      <td>0.579534</td>\n",
              "      <td>0.621124</td>\n",
              "      <td>0.672116</td>\n",
              "      <td>-0.004731</td>\n",
              "      <td>0.668903</td>\n",
              "      <td>0.458594</td>\n",
              "      <td>1.000000</td>\n",
              "      <td>0.056406</td>\n",
              "      <td>-0.012218</td>\n",
              "      <td>0.075538</td>\n",
              "      <td>0.620899</td>\n",
              "      <td>-0.021610</td>\n",
              "      <td>-0.026262</td>\n",
              "      <td>0.087295</td>\n",
              "      <td>0.007715</td>\n",
              "      <td>-0.011654</td>\n",
              "      <td>-0.038230</td>\n",
              "      <td>-0.000508</td>\n",
              "      <td>0.010822</td>\n",
              "      <td>-0.020187</td>\n",
              "      <td>0.208607</td>\n",
              "      <td>0.002094</td>\n",
              "      <td>-0.064604</td>\n",
              "      <td>-0.062456</td>\n",
              "      <td>0.008153</td>\n",
              "      <td>-0.021246</td>\n",
              "      <td>-0.038749</td>\n",
              "      <td>-0.047643</td>\n",
              "      <td>-0.145308</td>\n",
              "    </tr>\n",
              "    <tr>\n",
              "      <th>word_freq_1999</th>\n",
              "      <td>-0.058801</td>\n",
              "      <td>0.003843</td>\n",
              "      <td>-0.074279</td>\n",
              "      <td>-0.007440</td>\n",
              "      <td>-0.077684</td>\n",
              "      <td>-0.060639</td>\n",
              "      <td>-0.055945</td>\n",
              "      <td>-0.021814</td>\n",
              "      <td>-0.035785</td>\n",
              "      <td>-0.014953</td>\n",
              "      <td>-0.029399</td>\n",
              "      <td>-0.030037</td>\n",
              "      <td>-0.044758</td>\n",
              "      <td>-0.034513</td>\n",
              "      <td>-0.036984</td>\n",
              "      <td>-0.066993</td>\n",
              "      <td>-0.053362</td>\n",
              "      <td>-0.040338</td>\n",
              "      <td>-0.147148</td>\n",
              "      <td>-0.042286</td>\n",
              "      <td>-0.122722</td>\n",
              "      <td>-0.036143</td>\n",
              "      <td>-0.072136</td>\n",
              "      <td>-0.055747</td>\n",
              "      <td>0.134841</td>\n",
              "      <td>0.161118</td>\n",
              "      <td>0.039754</td>\n",
              "      <td>0.022419</td>\n",
              "      <td>0.017249</td>\n",
              "      <td>0.067062</td>\n",
              "      <td>0.041999</td>\n",
              "      <td>0.040583</td>\n",
              "      <td>0.047186</td>\n",
              "      <td>0.041626</td>\n",
              "      <td>0.026677</td>\n",
              "      <td>0.056406</td>\n",
              "      <td>1.000000</td>\n",
              "      <td>-0.004276</td>\n",
              "      <td>0.221729</td>\n",
              "      <td>0.024747</td>\n",
              "      <td>0.137854</td>\n",
              "      <td>0.011357</td>\n",
              "      <td>0.333444</td>\n",
              "      <td>0.005136</td>\n",
              "      <td>0.046226</td>\n",
              "      <td>0.135132</td>\n",
              "      <td>-0.019901</td>\n",
              "      <td>0.048481</td>\n",
              "      <td>0.038018</td>\n",
              "      <td>0.084266</td>\n",
              "      <td>0.076785</td>\n",
              "      <td>-0.069931</td>\n",
              "      <td>-0.069194</td>\n",
              "      <td>-0.024190</td>\n",
              "      <td>-0.017146</td>\n",
              "      <td>-0.035219</td>\n",
              "      <td>-0.005997</td>\n",
              "      <td>-0.201537</td>\n",
              "    </tr>\n",
              "    <tr>\n",
              "      <th>word_freq_parts</th>\n",
              "      <td>-0.008632</td>\n",
              "      <td>-0.012693</td>\n",
              "      <td>0.031767</td>\n",
              "      <td>-0.002724</td>\n",
              "      <td>0.133057</td>\n",
              "      <td>-0.018425</td>\n",
              "      <td>-0.015450</td>\n",
              "      <td>-0.012540</td>\n",
              "      <td>-0.006114</td>\n",
              "      <td>-0.019328</td>\n",
              "      <td>-0.004931</td>\n",
              "      <td>-0.027677</td>\n",
              "      <td>-0.015699</td>\n",
              "      <td>-0.002391</td>\n",
              "      <td>-0.011327</td>\n",
              "      <td>0.018948</td>\n",
              "      <td>-0.016182</td>\n",
              "      <td>0.006242</td>\n",
              "      <td>-0.036493</td>\n",
              "      <td>0.010200</td>\n",
              "      <td>-0.007908</td>\n",
              "      <td>-0.005437</td>\n",
              "      <td>-0.017238</td>\n",
              "      <td>-0.008767</td>\n",
              "      <td>0.007820</td>\n",
              "      <td>0.021753</td>\n",
              "      <td>-0.005552</td>\n",
              "      <td>-0.013833</td>\n",
              "      <td>-0.007223</td>\n",
              "      <td>-0.003568</td>\n",
              "      <td>-0.009079</td>\n",
              "      <td>-0.008122</td>\n",
              "      <td>0.023419</td>\n",
              "      <td>-0.008269</td>\n",
              "      <td>-0.011794</td>\n",
              "      <td>-0.012218</td>\n",
              "      <td>-0.004276</td>\n",
              "      <td>1.000000</td>\n",
              "      <td>0.001896</td>\n",
              "      <td>-0.010784</td>\n",
              "      <td>-0.006956</td>\n",
              "      <td>0.168706</td>\n",
              "      <td>-0.007259</td>\n",
              "      <td>0.001330</td>\n",
              "      <td>-0.002326</td>\n",
              "      <td>-0.010654</td>\n",
              "      <td>-0.004207</td>\n",
              "      <td>0.017199</td>\n",
              "      <td>0.007662</td>\n",
              "      <td>-0.012109</td>\n",
              "      <td>0.001842</td>\n",
              "      <td>-0.016097</td>\n",
              "      <td>-0.014163</td>\n",
              "      <td>-0.004084</td>\n",
              "      <td>-0.006304</td>\n",
              "      <td>-0.009784</td>\n",
              "      <td>-0.015231</td>\n",
              "      <td>-0.034263</td>\n",
              "    </tr>\n",
              "    <tr>\n",
              "      <th>word_freq_pm</th>\n",
              "      <td>-0.011215</td>\n",
              "      <td>-0.016159</td>\n",
              "      <td>-0.017389</td>\n",
              "      <td>-0.004508</td>\n",
              "      <td>-0.045513</td>\n",
              "      <td>-0.049239</td>\n",
              "      <td>-0.049438</td>\n",
              "      <td>-0.032043</td>\n",
              "      <td>-0.043076</td>\n",
              "      <td>-0.019159</td>\n",
              "      <td>-0.044981</td>\n",
              "      <td>0.016017</td>\n",
              "      <td>-0.018473</td>\n",
              "      <td>-0.027935</td>\n",
              "      <td>-0.016844</td>\n",
              "      <td>-0.038588</td>\n",
              "      <td>-0.045317</td>\n",
              "      <td>-0.028902</td>\n",
              "      <td>-0.045159</td>\n",
              "      <td>-0.029555</td>\n",
              "      <td>-0.068490</td>\n",
              "      <td>-0.020483</td>\n",
              "      <td>-0.040297</td>\n",
              "      <td>-0.034399</td>\n",
              "      <td>0.049532</td>\n",
              "      <td>0.053571</td>\n",
              "      <td>0.043040</td>\n",
              "      <td>0.041364</td>\n",
              "      <td>0.010351</td>\n",
              "      <td>0.034567</td>\n",
              "      <td>0.044145</td>\n",
              "      <td>0.050664</td>\n",
              "      <td>0.064015</td>\n",
              "      <td>0.049956</td>\n",
              "      <td>0.020217</td>\n",
              "      <td>0.075538</td>\n",
              "      <td>0.221729</td>\n",
              "      <td>0.001896</td>\n",
              "      <td>1.000000</td>\n",
              "      <td>0.027706</td>\n",
              "      <td>0.032055</td>\n",
              "      <td>0.034349</td>\n",
              "      <td>0.214534</td>\n",
              "      <td>0.013658</td>\n",
              "      <td>0.105599</td>\n",
              "      <td>-0.002002</td>\n",
              "      <td>0.004045</td>\n",
              "      <td>0.008256</td>\n",
              "      <td>0.027861</td>\n",
              "      <td>0.096903</td>\n",
              "      <td>0.041083</td>\n",
              "      <td>-0.026996</td>\n",
              "      <td>-0.047940</td>\n",
              "      <td>-0.012262</td>\n",
              "      <td>-0.015144</td>\n",
              "      <td>-0.029973</td>\n",
              "      <td>-0.052764</td>\n",
              "      <td>-0.129352</td>\n",
              "    </tr>\n",
              "    <tr>\n",
              "      <th>word_freq_direct</th>\n",
              "      <td>-0.035484</td>\n",
              "      <td>0.002379</td>\n",
              "      <td>-0.045985</td>\n",
              "      <td>-0.007656</td>\n",
              "      <td>-0.017580</td>\n",
              "      <td>-0.027739</td>\n",
              "      <td>-0.019723</td>\n",
              "      <td>-0.003253</td>\n",
              "      <td>-0.006368</td>\n",
              "      <td>0.009604</td>\n",
              "      <td>-0.020476</td>\n",
              "      <td>-0.044968</td>\n",
              "      <td>-0.011619</td>\n",
              "      <td>-0.024935</td>\n",
              "      <td>0.053340</td>\n",
              "      <td>-0.030026</td>\n",
              "      <td>0.004135</td>\n",
              "      <td>0.010352</td>\n",
              "      <td>-0.060035</td>\n",
              "      <td>0.001308</td>\n",
              "      <td>-0.012958</td>\n",
              "      <td>-0.023245</td>\n",
              "      <td>-0.001476</td>\n",
              "      <td>-0.020959</td>\n",
              "      <td>0.290307</td>\n",
              "      <td>0.282655</td>\n",
              "      <td>0.139123</td>\n",
              "      <td>0.454510</td>\n",
              "      <td>0.424640</td>\n",
              "      <td>0.555909</td>\n",
              "      <td>0.641126</td>\n",
              "      <td>0.824205</td>\n",
              "      <td>-0.020625</td>\n",
              "      <td>0.820835</td>\n",
              "      <td>0.456186</td>\n",
              "      <td>0.620899</td>\n",
              "      <td>0.024747</td>\n",
              "      <td>-0.010784</td>\n",
              "      <td>0.027706</td>\n",
              "      <td>1.000000</td>\n",
              "      <td>-0.015722</td>\n",
              "      <td>-0.018060</td>\n",
              "      <td>0.110316</td>\n",
              "      <td>0.000143</td>\n",
              "      <td>-0.006191</td>\n",
              "      <td>-0.028603</td>\n",
              "      <td>0.002882</td>\n",
              "      <td>-0.016899</td>\n",
              "      <td>-0.018635</td>\n",
              "      <td>0.234515</td>\n",
              "      <td>0.016253</td>\n",
              "      <td>-0.032261</td>\n",
              "      <td>-0.016191</td>\n",
              "      <td>-0.010278</td>\n",
              "      <td>-0.006748</td>\n",
              "      <td>-0.006548</td>\n",
              "      <td>-0.029951</td>\n",
              "      <td>-0.061944</td>\n",
              "    </tr>\n",
              "    <tr>\n",
              "      <th>word_freq_cs</th>\n",
              "      <td>-0.005291</td>\n",
              "      <td>-0.019317</td>\n",
              "      <td>-0.030803</td>\n",
              "      <td>-0.006076</td>\n",
              "      <td>-0.052325</td>\n",
              "      <td>-0.030909</td>\n",
              "      <td>-0.035884</td>\n",
              "      <td>-0.000504</td>\n",
              "      <td>-0.037624</td>\n",
              "      <td>-0.025147</td>\n",
              "      <td>-0.038420</td>\n",
              "      <td>-0.020596</td>\n",
              "      <td>-0.018379</td>\n",
              "      <td>-0.022823</td>\n",
              "      <td>-0.015426</td>\n",
              "      <td>-0.031051</td>\n",
              "      <td>-0.039445</td>\n",
              "      <td>-0.031967</td>\n",
              "      <td>-0.050024</td>\n",
              "      <td>-0.021664</td>\n",
              "      <td>-0.063428</td>\n",
              "      <td>-0.015960</td>\n",
              "      <td>-0.037077</td>\n",
              "      <td>-0.027389</td>\n",
              "      <td>0.005704</td>\n",
              "      <td>0.021572</td>\n",
              "      <td>-0.003428</td>\n",
              "      <td>0.029499</td>\n",
              "      <td>-0.016663</td>\n",
              "      <td>0.054061</td>\n",
              "      <td>-0.012992</td>\n",
              "      <td>-0.009768</td>\n",
              "      <td>-0.001570</td>\n",
              "      <td>-0.010105</td>\n",
              "      <td>0.033440</td>\n",
              "      <td>-0.021610</td>\n",
              "      <td>0.137854</td>\n",
              "      <td>-0.006956</td>\n",
              "      <td>0.032055</td>\n",
              "      <td>-0.015722</td>\n",
              "      <td>1.000000</td>\n",
              "      <td>-0.014425</td>\n",
              "      <td>0.108074</td>\n",
              "      <td>-0.008419</td>\n",
              "      <td>0.021586</td>\n",
              "      <td>0.283042</td>\n",
              "      <td>-0.007570</td>\n",
              "      <td>-0.000673</td>\n",
              "      <td>0.046507</td>\n",
              "      <td>0.027979</td>\n",
              "      <td>0.046845</td>\n",
              "      <td>-0.026698</td>\n",
              "      <td>-0.040482</td>\n",
              "      <td>-0.012826</td>\n",
              "      <td>-0.011069</td>\n",
              "      <td>-0.024582</td>\n",
              "      <td>-0.026031</td>\n",
              "      <td>-0.105901</td>\n",
              "    </tr>\n",
              "    <tr>\n",
              "      <th>word_freq_meeting</th>\n",
              "      <td>-0.026562</td>\n",
              "      <td>-0.035865</td>\n",
              "      <td>-0.007592</td>\n",
              "      <td>-0.008320</td>\n",
              "      <td>0.107706</td>\n",
              "      <td>-0.056557</td>\n",
              "      <td>-0.052023</td>\n",
              "      <td>-0.045213</td>\n",
              "      <td>-0.050180</td>\n",
              "      <td>-0.059729</td>\n",
              "      <td>-0.045566</td>\n",
              "      <td>0.112062</td>\n",
              "      <td>-0.040764</td>\n",
              "      <td>0.004643</td>\n",
              "      <td>-0.031951</td>\n",
              "      <td>-0.040681</td>\n",
              "      <td>-0.043045</td>\n",
              "      <td>-0.049026</td>\n",
              "      <td>-0.095952</td>\n",
              "      <td>-0.029760</td>\n",
              "      <td>-0.087467</td>\n",
              "      <td>-0.021905</td>\n",
              "      <td>-0.050851</td>\n",
              "      <td>-0.034758</td>\n",
              "      <td>0.018136</td>\n",
              "      <td>0.057174</td>\n",
              "      <td>0.030184</td>\n",
              "      <td>0.002268</td>\n",
              "      <td>0.445126</td>\n",
              "      <td>-0.018256</td>\n",
              "      <td>-0.011652</td>\n",
              "      <td>-0.008489</td>\n",
              "      <td>0.009826</td>\n",
              "      <td>-0.008967</td>\n",
              "      <td>0.032484</td>\n",
              "      <td>-0.026262</td>\n",
              "      <td>0.011357</td>\n",
              "      <td>0.168706</td>\n",
              "      <td>0.034349</td>\n",
              "      <td>-0.018060</td>\n",
              "      <td>-0.014425</td>\n",
              "      <td>1.000000</td>\n",
              "      <td>0.014776</td>\n",
              "      <td>-0.000226</td>\n",
              "      <td>0.005313</td>\n",
              "      <td>-0.022005</td>\n",
              "      <td>0.012850</td>\n",
              "      <td>-0.001843</td>\n",
              "      <td>-0.008839</td>\n",
              "      <td>-0.016629</td>\n",
              "      <td>0.011344</td>\n",
              "      <td>-0.040218</td>\n",
              "      <td>-0.046240</td>\n",
              "      <td>-0.004350</td>\n",
              "      <td>-0.018799</td>\n",
              "      <td>-0.034914</td>\n",
              "      <td>-0.059458</td>\n",
              "      <td>-0.142787</td>\n",
              "    </tr>\n",
              "    <tr>\n",
              "      <th>word_freq_original</th>\n",
              "      <td>-0.025621</td>\n",
              "      <td>0.037745</td>\n",
              "      <td>-0.052705</td>\n",
              "      <td>-0.009387</td>\n",
              "      <td>-0.054583</td>\n",
              "      <td>-0.037628</td>\n",
              "      <td>-0.053156</td>\n",
              "      <td>-0.004692</td>\n",
              "      <td>-0.041732</td>\n",
              "      <td>0.015783</td>\n",
              "      <td>-0.039477</td>\n",
              "      <td>-0.029796</td>\n",
              "      <td>-0.014710</td>\n",
              "      <td>-0.005143</td>\n",
              "      <td>0.037781</td>\n",
              "      <td>-0.052193</td>\n",
              "      <td>-0.054861</td>\n",
              "      <td>-0.024094</td>\n",
              "      <td>-0.058165</td>\n",
              "      <td>-0.029535</td>\n",
              "      <td>-0.054367</td>\n",
              "      <td>-0.023046</td>\n",
              "      <td>-0.045880</td>\n",
              "      <td>-0.039928</td>\n",
              "      <td>0.113088</td>\n",
              "      <td>0.120079</td>\n",
              "      <td>0.070261</td>\n",
              "      <td>0.083605</td>\n",
              "      <td>0.063489</td>\n",
              "      <td>0.075645</td>\n",
              "      <td>0.094139</td>\n",
              "      <td>0.134622</td>\n",
              "      <td>-0.000433</td>\n",
              "      <td>0.133548</td>\n",
              "      <td>0.064722</td>\n",
              "      <td>0.087295</td>\n",
              "      <td>0.333444</td>\n",
              "      <td>-0.007259</td>\n",
              "      <td>0.214534</td>\n",
              "      <td>0.110316</td>\n",
              "      <td>0.108074</td>\n",
              "      <td>0.014776</td>\n",
              "      <td>1.000000</td>\n",
              "      <td>0.007621</td>\n",
              "      <td>0.087321</td>\n",
              "      <td>0.013068</td>\n",
              "      <td>0.017819</td>\n",
              "      <td>-0.007789</td>\n",
              "      <td>0.014295</td>\n",
              "      <td>0.057238</td>\n",
              "      <td>0.122180</td>\n",
              "      <td>-0.052942</td>\n",
              "      <td>-0.058840</td>\n",
              "      <td>-0.014697</td>\n",
              "      <td>-0.018953</td>\n",
              "      <td>-0.023828</td>\n",
              "      <td>-0.044065</td>\n",
              "      <td>-0.146028</td>\n",
              "    </tr>\n",
              "    <tr>\n",
              "      <th>word_freq_project</th>\n",
              "      <td>-0.022991</td>\n",
              "      <td>-0.029024</td>\n",
              "      <td>-0.056865</td>\n",
              "      <td>-0.006115</td>\n",
              "      <td>0.002770</td>\n",
              "      <td>-0.030185</td>\n",
              "      <td>-0.036302</td>\n",
              "      <td>-0.031426</td>\n",
              "      <td>-0.036955</td>\n",
              "      <td>-0.028711</td>\n",
              "      <td>-0.039291</td>\n",
              "      <td>0.014507</td>\n",
              "      <td>-0.026141</td>\n",
              "      <td>-0.013487</td>\n",
              "      <td>-0.017774</td>\n",
              "      <td>-0.034673</td>\n",
              "      <td>-0.022853</td>\n",
              "      <td>-0.034212</td>\n",
              "      <td>-0.071209</td>\n",
              "      <td>-0.013866</td>\n",
              "      <td>-0.064653</td>\n",
              "      <td>-0.013077</td>\n",
              "      <td>-0.035475</td>\n",
              "      <td>-0.024042</td>\n",
              "      <td>-0.003161</td>\n",
              "      <td>0.014309</td>\n",
              "      <td>0.004442</td>\n",
              "      <td>-0.000631</td>\n",
              "      <td>-0.003087</td>\n",
              "      <td>-0.005314</td>\n",
              "      <td>0.083249</td>\n",
              "      <td>0.006463</td>\n",
              "      <td>0.024932</td>\n",
              "      <td>0.006052</td>\n",
              "      <td>0.002977</td>\n",
              "      <td>0.007715</td>\n",
              "      <td>0.005136</td>\n",
              "      <td>0.001330</td>\n",
              "      <td>0.013658</td>\n",
              "      <td>0.000143</td>\n",
              "      <td>-0.008419</td>\n",
              "      <td>-0.000226</td>\n",
              "      <td>0.007621</td>\n",
              "      <td>1.000000</td>\n",
              "      <td>-0.006032</td>\n",
              "      <td>-0.016477</td>\n",
              "      <td>-0.004092</td>\n",
              "      <td>-0.000250</td>\n",
              "      <td>-0.008019</td>\n",
              "      <td>-0.004832</td>\n",
              "      <td>-0.011919</td>\n",
              "      <td>-0.035725</td>\n",
              "      <td>-0.038770</td>\n",
              "      <td>0.000923</td>\n",
              "      <td>-0.013842</td>\n",
              "      <td>-0.026464</td>\n",
              "      <td>-0.043104</td>\n",
              "      <td>-0.099385</td>\n",
              "    </tr>\n",
              "    <tr>\n",
              "      <th>word_freq_re</th>\n",
              "      <td>-0.037874</td>\n",
              "      <td>0.020116</td>\n",
              "      <td>-0.056554</td>\n",
              "      <td>-0.013182</td>\n",
              "      <td>-0.049499</td>\n",
              "      <td>-0.057496</td>\n",
              "      <td>-0.057296</td>\n",
              "      <td>-0.006625</td>\n",
              "      <td>-0.079775</td>\n",
              "      <td>-0.036292</td>\n",
              "      <td>-0.067629</td>\n",
              "      <td>-0.096322</td>\n",
              "      <td>-0.045790</td>\n",
              "      <td>-0.002680</td>\n",
              "      <td>-0.039372</td>\n",
              "      <td>-0.052677</td>\n",
              "      <td>-0.063804</td>\n",
              "      <td>-0.051252</td>\n",
              "      <td>0.074763</td>\n",
              "      <td>-0.044997</td>\n",
              "      <td>-0.059557</td>\n",
              "      <td>-0.034446</td>\n",
              "      <td>-0.055144</td>\n",
              "      <td>-0.046517</td>\n",
              "      <td>0.049956</td>\n",
              "      <td>-0.010569</td>\n",
              "      <td>0.058206</td>\n",
              "      <td>-0.005427</td>\n",
              "      <td>-0.010581</td>\n",
              "      <td>-0.006382</td>\n",
              "      <td>-0.007947</td>\n",
              "      <td>0.020699</td>\n",
              "      <td>-0.000269</td>\n",
              "      <td>0.020015</td>\n",
              "      <td>-0.015683</td>\n",
              "      <td>-0.011654</td>\n",
              "      <td>0.046226</td>\n",
              "      <td>-0.002326</td>\n",
              "      <td>0.105599</td>\n",
              "      <td>-0.006191</td>\n",
              "      <td>0.021586</td>\n",
              "      <td>0.005313</td>\n",
              "      <td>0.087321</td>\n",
              "      <td>-0.006032</td>\n",
              "      <td>1.000000</td>\n",
              "      <td>0.043451</td>\n",
              "      <td>-0.013382</td>\n",
              "      <td>0.003145</td>\n",
              "      <td>-0.026409</td>\n",
              "      <td>-0.002474</td>\n",
              "      <td>0.009361</td>\n",
              "      <td>0.065964</td>\n",
              "      <td>-0.054442</td>\n",
              "      <td>-0.025255</td>\n",
              "      <td>-0.028763</td>\n",
              "      <td>-0.053552</td>\n",
              "      <td>-0.101352</td>\n",
              "      <td>-0.152835</td>\n",
              "    </tr>\n",
              "    <tr>\n",
              "      <th>word_freq_edu</th>\n",
              "      <td>-0.034472</td>\n",
              "      <td>-0.025952</td>\n",
              "      <td>-0.060529</td>\n",
              "      <td>-0.009434</td>\n",
              "      <td>-0.083315</td>\n",
              "      <td>-0.034381</td>\n",
              "      <td>-0.059140</td>\n",
              "      <td>-0.039217</td>\n",
              "      <td>-0.059784</td>\n",
              "      <td>-0.033762</td>\n",
              "      <td>-0.054202</td>\n",
              "      <td>-0.077075</td>\n",
              "      <td>-0.023288</td>\n",
              "      <td>-0.022044</td>\n",
              "      <td>-0.026243</td>\n",
              "      <td>-0.051625</td>\n",
              "      <td>-0.060846</td>\n",
              "      <td>-0.042080</td>\n",
              "      <td>-0.011231</td>\n",
              "      <td>-0.031982</td>\n",
              "      <td>-0.086917</td>\n",
              "      <td>-0.022527</td>\n",
              "      <td>-0.054665</td>\n",
              "      <td>-0.031378</td>\n",
              "      <td>-0.050003</td>\n",
              "      <td>-0.040792</td>\n",
              "      <td>-0.030700</td>\n",
              "      <td>-0.009155</td>\n",
              "      <td>-0.024514</td>\n",
              "      <td>-0.011904</td>\n",
              "      <td>-0.025130</td>\n",
              "      <td>-0.019713</td>\n",
              "      <td>-0.021325</td>\n",
              "      <td>-0.020167</td>\n",
              "      <td>-0.015362</td>\n",
              "      <td>-0.038230</td>\n",
              "      <td>0.135132</td>\n",
              "      <td>-0.010654</td>\n",
              "      <td>-0.002002</td>\n",
              "      <td>-0.028603</td>\n",
              "      <td>0.283042</td>\n",
              "      <td>-0.022005</td>\n",
              "      <td>0.013068</td>\n",
              "      <td>-0.016477</td>\n",
              "      <td>0.043451</td>\n",
              "      <td>1.000000</td>\n",
              "      <td>-0.011071</td>\n",
              "      <td>-0.017288</td>\n",
              "      <td>0.007721</td>\n",
              "      <td>0.014755</td>\n",
              "      <td>-0.003059</td>\n",
              "      <td>-0.030545</td>\n",
              "      <td>-0.053110</td>\n",
              "      <td>-0.015953</td>\n",
              "      <td>-0.018993</td>\n",
              "      <td>-0.034362</td>\n",
              "      <td>-0.049119</td>\n",
              "      <td>-0.152774</td>\n",
              "    </tr>\n",
              "    <tr>\n",
              "      <th>word_freq_table</th>\n",
              "      <td>-0.000956</td>\n",
              "      <td>-0.012319</td>\n",
              "      <td>0.027397</td>\n",
              "      <td>-0.003410</td>\n",
              "      <td>-0.028146</td>\n",
              "      <td>-0.014747</td>\n",
              "      <td>-0.018179</td>\n",
              "      <td>-0.006563</td>\n",
              "      <td>0.007764</td>\n",
              "      <td>-0.016481</td>\n",
              "      <td>-0.020672</td>\n",
              "      <td>-0.003821</td>\n",
              "      <td>-0.014027</td>\n",
              "      <td>0.049260</td>\n",
              "      <td>-0.011068</td>\n",
              "      <td>-0.019352</td>\n",
              "      <td>-0.008660</td>\n",
              "      <td>0.022143</td>\n",
              "      <td>-0.002129</td>\n",
              "      <td>-0.007703</td>\n",
              "      <td>0.015179</td>\n",
              "      <td>-0.008982</td>\n",
              "      <td>-0.017400</td>\n",
              "      <td>-0.010749</td>\n",
              "      <td>0.002363</td>\n",
              "      <td>0.033213</td>\n",
              "      <td>-0.002883</td>\n",
              "      <td>0.004158</td>\n",
              "      <td>-0.002085</td>\n",
              "      <td>-0.005192</td>\n",
              "      <td>-0.002002</td>\n",
              "      <td>0.001852</td>\n",
              "      <td>-0.000087</td>\n",
              "      <td>0.001637</td>\n",
              "      <td>0.017405</td>\n",
              "      <td>-0.000508</td>\n",
              "      <td>-0.019901</td>\n",
              "      <td>-0.004207</td>\n",
              "      <td>0.004045</td>\n",
              "      <td>0.002882</td>\n",
              "      <td>-0.007570</td>\n",
              "      <td>0.012850</td>\n",
              "      <td>0.017819</td>\n",
              "      <td>-0.004092</td>\n",
              "      <td>-0.013382</td>\n",
              "      <td>-0.011071</td>\n",
              "      <td>1.000000</td>\n",
              "      <td>-0.006884</td>\n",
              "      <td>0.000206</td>\n",
              "      <td>-0.004604</td>\n",
              "      <td>-0.004949</td>\n",
              "      <td>-0.018562</td>\n",
              "      <td>-0.019624</td>\n",
              "      <td>0.000166</td>\n",
              "      <td>-0.006782</td>\n",
              "      <td>-0.010182</td>\n",
              "      <td>0.003557</td>\n",
              "      <td>-0.046468</td>\n",
              "    </tr>\n",
              "    <tr>\n",
              "      <th>word_freq_conference</th>\n",
              "      <td>-0.018914</td>\n",
              "      <td>-0.020919</td>\n",
              "      <td>-0.029448</td>\n",
              "      <td>-0.001862</td>\n",
              "      <td>-0.035040</td>\n",
              "      <td>-0.033488</td>\n",
              "      <td>-0.033258</td>\n",
              "      <td>-0.022407</td>\n",
              "      <td>-0.027698</td>\n",
              "      <td>-0.018836</td>\n",
              "      <td>-0.024516</td>\n",
              "      <td>0.030577</td>\n",
              "      <td>-0.021694</td>\n",
              "      <td>-0.017469</td>\n",
              "      <td>-0.021108</td>\n",
              "      <td>-0.031236</td>\n",
              "      <td>-0.032032</td>\n",
              "      <td>-0.018370</td>\n",
              "      <td>-0.045794</td>\n",
              "      <td>-0.019010</td>\n",
              "      <td>-0.055868</td>\n",
              "      <td>-0.014290</td>\n",
              "      <td>-0.031445</td>\n",
              "      <td>-0.019816</td>\n",
              "      <td>-0.004476</td>\n",
              "      <td>0.031949</td>\n",
              "      <td>0.040453</td>\n",
              "      <td>0.004181</td>\n",
              "      <td>-0.003403</td>\n",
              "      <td>-0.005913</td>\n",
              "      <td>-0.014534</td>\n",
              "      <td>-0.012542</td>\n",
              "      <td>0.003630</td>\n",
              "      <td>-0.012943</td>\n",
              "      <td>0.001776</td>\n",
              "      <td>0.010822</td>\n",
              "      <td>0.048481</td>\n",
              "      <td>0.017199</td>\n",
              "      <td>0.008256</td>\n",
              "      <td>-0.016899</td>\n",
              "      <td>-0.000673</td>\n",
              "      <td>-0.001843</td>\n",
              "      <td>-0.007789</td>\n",
              "      <td>-0.000250</td>\n",
              "      <td>0.003145</td>\n",
              "      <td>-0.017288</td>\n",
              "      <td>-0.006884</td>\n",
              "      <td>1.000000</td>\n",
              "      <td>-0.003114</td>\n",
              "      <td>-0.015263</td>\n",
              "      <td>-0.007230</td>\n",
              "      <td>-0.028535</td>\n",
              "      <td>-0.033221</td>\n",
              "      <td>-0.009293</td>\n",
              "      <td>-0.008793</td>\n",
              "      <td>-0.017370</td>\n",
              "      <td>-0.011919</td>\n",
              "      <td>-0.089170</td>\n",
              "    </tr>\n",
              "    <tr>\n",
              "      <th>char_freq_;</th>\n",
              "      <td>-0.027262</td>\n",
              "      <td>0.014782</td>\n",
              "      <td>-0.036754</td>\n",
              "      <td>-0.000030</td>\n",
              "      <td>-0.035049</td>\n",
              "      <td>-0.021758</td>\n",
              "      <td>-0.034092</td>\n",
              "      <td>-0.028986</td>\n",
              "      <td>-0.015016</td>\n",
              "      <td>0.006757</td>\n",
              "      <td>-0.032942</td>\n",
              "      <td>-0.031104</td>\n",
              "      <td>-0.024674</td>\n",
              "      <td>-0.019721</td>\n",
              "      <td>-0.018735</td>\n",
              "      <td>-0.029986</td>\n",
              "      <td>-0.032778</td>\n",
              "      <td>-0.041201</td>\n",
              "      <td>-0.049828</td>\n",
              "      <td>-0.021141</td>\n",
              "      <td>-0.062535</td>\n",
              "      <td>0.418548</td>\n",
              "      <td>-0.029684</td>\n",
              "      <td>-0.020630</td>\n",
              "      <td>0.029303</td>\n",
              "      <td>0.011635</td>\n",
              "      <td>-0.008363</td>\n",
              "      <td>-0.026552</td>\n",
              "      <td>-0.018865</td>\n",
              "      <td>-0.020711</td>\n",
              "      <td>-0.016384</td>\n",
              "      <td>-0.008196</td>\n",
              "      <td>-0.006124</td>\n",
              "      <td>-0.008718</td>\n",
              "      <td>-0.022456</td>\n",
              "      <td>-0.020187</td>\n",
              "      <td>0.038018</td>\n",
              "      <td>0.007662</td>\n",
              "      <td>0.027861</td>\n",
              "      <td>-0.018635</td>\n",
              "      <td>0.046507</td>\n",
              "      <td>-0.008839</td>\n",
              "      <td>0.014295</td>\n",
              "      <td>-0.008019</td>\n",
              "      <td>-0.026409</td>\n",
              "      <td>0.007721</td>\n",
              "      <td>0.000206</td>\n",
              "      <td>-0.003114</td>\n",
              "      <td>1.000000</td>\n",
              "      <td>0.044148</td>\n",
              "      <td>0.008966</td>\n",
              "      <td>0.013388</td>\n",
              "      <td>0.004063</td>\n",
              "      <td>0.057209</td>\n",
              "      <td>0.002776</td>\n",
              "      <td>0.042585</td>\n",
              "      <td>0.055265</td>\n",
              "      <td>-0.067090</td>\n",
              "    </tr>\n",
              "    <tr>\n",
              "      <th>char_freq_(</th>\n",
              "      <td>-0.019680</td>\n",
              "      <td>-0.028209</td>\n",
              "      <td>-0.024462</td>\n",
              "      <td>-0.011450</td>\n",
              "      <td>-0.054583</td>\n",
              "      <td>-0.011628</td>\n",
              "      <td>-0.061357</td>\n",
              "      <td>-0.042785</td>\n",
              "      <td>-0.037420</td>\n",
              "      <td>-0.005008</td>\n",
              "      <td>-0.055939</td>\n",
              "      <td>-0.039986</td>\n",
              "      <td>-0.057027</td>\n",
              "      <td>-0.007556</td>\n",
              "      <td>-0.008824</td>\n",
              "      <td>-0.053884</td>\n",
              "      <td>-0.044128</td>\n",
              "      <td>-0.041561</td>\n",
              "      <td>-0.144979</td>\n",
              "      <td>-0.029706</td>\n",
              "      <td>-0.091585</td>\n",
              "      <td>-0.050083</td>\n",
              "      <td>-0.039060</td>\n",
              "      <td>-0.032226</td>\n",
              "      <td>0.113061</td>\n",
              "      <td>0.118219</td>\n",
              "      <td>0.038698</td>\n",
              "      <td>0.287797</td>\n",
              "      <td>0.130405</td>\n",
              "      <td>0.193243</td>\n",
              "      <td>0.195796</td>\n",
              "      <td>0.275532</td>\n",
              "      <td>0.025893</td>\n",
              "      <td>0.274210</td>\n",
              "      <td>0.167827</td>\n",
              "      <td>0.208607</td>\n",
              "      <td>0.084266</td>\n",
              "      <td>-0.012109</td>\n",
              "      <td>0.096903</td>\n",
              "      <td>0.234515</td>\n",
              "      <td>0.027979</td>\n",
              "      <td>-0.016629</td>\n",
              "      <td>0.057238</td>\n",
              "      <td>-0.004832</td>\n",
              "      <td>-0.002474</td>\n",
              "      <td>0.014755</td>\n",
              "      <td>-0.004604</td>\n",
              "      <td>-0.015263</td>\n",
              "      <td>0.044148</td>\n",
              "      <td>1.000000</td>\n",
              "      <td>0.022628</td>\n",
              "      <td>-0.038663</td>\n",
              "      <td>0.043590</td>\n",
              "      <td>0.023990</td>\n",
              "      <td>0.032717</td>\n",
              "      <td>0.387592</td>\n",
              "      <td>0.112664</td>\n",
              "      <td>-0.106442</td>\n",
              "    </tr>\n",
              "    <tr>\n",
              "      <th>char_freq_[</th>\n",
              "      <td>-0.034798</td>\n",
              "      <td>-0.019394</td>\n",
              "      <td>-0.035780</td>\n",
              "      <td>-0.007516</td>\n",
              "      <td>-0.027988</td>\n",
              "      <td>-0.016743</td>\n",
              "      <td>-0.029478</td>\n",
              "      <td>-0.021393</td>\n",
              "      <td>0.017308</td>\n",
              "      <td>0.003785</td>\n",
              "      <td>-0.024801</td>\n",
              "      <td>-0.049669</td>\n",
              "      <td>-0.029973</td>\n",
              "      <td>-0.015376</td>\n",
              "      <td>-0.001127</td>\n",
              "      <td>-0.033458</td>\n",
              "      <td>-0.040190</td>\n",
              "      <td>-0.017123</td>\n",
              "      <td>-0.072102</td>\n",
              "      <td>-0.011686</td>\n",
              "      <td>-0.048665</td>\n",
              "      <td>-0.001570</td>\n",
              "      <td>0.000416</td>\n",
              "      <td>-0.020607</td>\n",
              "      <td>0.042748</td>\n",
              "      <td>0.067888</td>\n",
              "      <td>0.002904</td>\n",
              "      <td>0.036288</td>\n",
              "      <td>0.008911</td>\n",
              "      <td>0.006576</td>\n",
              "      <td>0.012845</td>\n",
              "      <td>0.018571</td>\n",
              "      <td>0.123381</td>\n",
              "      <td>0.018394</td>\n",
              "      <td>0.039566</td>\n",
              "      <td>0.002094</td>\n",
              "      <td>0.076785</td>\n",
              "      <td>0.001842</td>\n",
              "      <td>0.041083</td>\n",
              "      <td>0.016253</td>\n",
              "      <td>0.046845</td>\n",
              "      <td>0.011344</td>\n",
              "      <td>0.122180</td>\n",
              "      <td>-0.011919</td>\n",
              "      <td>0.009361</td>\n",
              "      <td>-0.003059</td>\n",
              "      <td>-0.004949</td>\n",
              "      <td>-0.007230</td>\n",
              "      <td>0.008966</td>\n",
              "      <td>0.022628</td>\n",
              "      <td>1.000000</td>\n",
              "      <td>-0.034890</td>\n",
              "      <td>-0.027343</td>\n",
              "      <td>-0.007135</td>\n",
              "      <td>-0.009486</td>\n",
              "      <td>-0.014621</td>\n",
              "      <td>0.007227</td>\n",
              "      <td>-0.070362</td>\n",
              "    </tr>\n",
              "    <tr>\n",
              "      <th>char_freq_!</th>\n",
              "      <td>0.059236</td>\n",
              "      <td>0.031702</td>\n",
              "      <td>0.097231</td>\n",
              "      <td>-0.003861</td>\n",
              "      <td>0.019205</td>\n",
              "      <td>0.058173</td>\n",
              "      <td>0.051036</td>\n",
              "      <td>0.029069</td>\n",
              "      <td>0.035985</td>\n",
              "      <td>0.031657</td>\n",
              "      <td>0.030474</td>\n",
              "      <td>0.003265</td>\n",
              "      <td>0.034165</td>\n",
              "      <td>-0.012204</td>\n",
              "      <td>0.013861</td>\n",
              "      <td>0.108311</td>\n",
              "      <td>0.073526</td>\n",
              "      <td>0.032773</td>\n",
              "      <td>0.147253</td>\n",
              "      <td>0.047943</td>\n",
              "      <td>0.087049</td>\n",
              "      <td>-0.006912</td>\n",
              "      <td>0.065840</td>\n",
              "      <td>0.050282</td>\n",
              "      <td>-0.095713</td>\n",
              "      <td>-0.081783</td>\n",
              "      <td>-0.054028</td>\n",
              "      <td>-0.066231</td>\n",
              "      <td>-0.043068</td>\n",
              "      <td>-0.064846</td>\n",
              "      <td>-0.046224</td>\n",
              "      <td>-0.043178</td>\n",
              "      <td>-0.050431</td>\n",
              "      <td>-0.039845</td>\n",
              "      <td>-0.050414</td>\n",
              "      <td>-0.064604</td>\n",
              "      <td>-0.069931</td>\n",
              "      <td>-0.016097</td>\n",
              "      <td>-0.026996</td>\n",
              "      <td>-0.032261</td>\n",
              "      <td>-0.026698</td>\n",
              "      <td>-0.040218</td>\n",
              "      <td>-0.052942</td>\n",
              "      <td>-0.035725</td>\n",
              "      <td>0.065964</td>\n",
              "      <td>-0.030545</td>\n",
              "      <td>-0.018562</td>\n",
              "      <td>-0.028535</td>\n",
              "      <td>0.013388</td>\n",
              "      <td>-0.038663</td>\n",
              "      <td>-0.034890</td>\n",
              "      <td>1.000000</td>\n",
              "      <td>0.136753</td>\n",
              "      <td>0.021114</td>\n",
              "      <td>0.052691</td>\n",
              "      <td>0.072615</td>\n",
              "      <td>0.025253</td>\n",
              "      <td>0.233692</td>\n",
              "    </tr>\n",
              "    <tr>\n",
              "      <th>char_freq_$</th>\n",
              "      <td>0.101934</td>\n",
              "      <td>0.044449</td>\n",
              "      <td>0.073000</td>\n",
              "      <td>0.008269</td>\n",
              "      <td>0.040696</td>\n",
              "      <td>0.105903</td>\n",
              "      <td>0.067215</td>\n",
              "      <td>0.053550</td>\n",
              "      <td>0.152436</td>\n",
              "      <td>0.077378</td>\n",
              "      <td>0.085994</td>\n",
              "      <td>0.007020</td>\n",
              "      <td>0.213624</td>\n",
              "      <td>0.080088</td>\n",
              "      <td>0.121805</td>\n",
              "      <td>0.044012</td>\n",
              "      <td>0.094837</td>\n",
              "      <td>0.061952</td>\n",
              "      <td>0.082567</td>\n",
              "      <td>0.037304</td>\n",
              "      <td>0.149514</td>\n",
              "      <td>-0.011785</td>\n",
              "      <td>0.315898</td>\n",
              "      <td>0.103511</td>\n",
              "      <td>-0.092684</td>\n",
              "      <td>-0.085773</td>\n",
              "      <td>-0.063071</td>\n",
              "      <td>-0.064901</td>\n",
              "      <td>-0.052784</td>\n",
              "      <td>-0.070412</td>\n",
              "      <td>-0.049817</td>\n",
              "      <td>-0.046582</td>\n",
              "      <td>-0.050721</td>\n",
              "      <td>-0.042111</td>\n",
              "      <td>-0.051212</td>\n",
              "      <td>-0.062456</td>\n",
              "      <td>-0.069194</td>\n",
              "      <td>-0.014163</td>\n",
              "      <td>-0.047940</td>\n",
              "      <td>-0.016191</td>\n",
              "      <td>-0.040482</td>\n",
              "      <td>-0.046240</td>\n",
              "      <td>-0.058840</td>\n",
              "      <td>-0.038770</td>\n",
              "      <td>-0.054442</td>\n",
              "      <td>-0.053110</td>\n",
              "      <td>-0.019624</td>\n",
              "      <td>-0.033221</td>\n",
              "      <td>0.004063</td>\n",
              "      <td>0.043590</td>\n",
              "      <td>-0.027343</td>\n",
              "      <td>0.136753</td>\n",
              "      <td>1.000000</td>\n",
              "      <td>0.014464</td>\n",
              "      <td>0.083632</td>\n",
              "      <td>0.188870</td>\n",
              "      <td>0.205983</td>\n",
              "      <td>0.326758</td>\n",
              "    </tr>\n",
              "    <tr>\n",
              "      <th>char_freq_#</th>\n",
              "      <td>-0.009158</td>\n",
              "      <td>0.030702</td>\n",
              "      <td>-0.004503</td>\n",
              "      <td>0.000133</td>\n",
              "      <td>0.002144</td>\n",
              "      <td>0.020405</td>\n",
              "      <td>0.049300</td>\n",
              "      <td>-0.008128</td>\n",
              "      <td>-0.002084</td>\n",
              "      <td>0.034473</td>\n",
              "      <td>0.003478</td>\n",
              "      <td>-0.032551</td>\n",
              "      <td>-0.015949</td>\n",
              "      <td>0.005694</td>\n",
              "      <td>-0.004512</td>\n",
              "      <td>0.039304</td>\n",
              "      <td>-0.000825</td>\n",
              "      <td>0.022482</td>\n",
              "      <td>-0.002864</td>\n",
              "      <td>0.008121</td>\n",
              "      <td>-0.002857</td>\n",
              "      <td>0.189437</td>\n",
              "      <td>0.020624</td>\n",
              "      <td>0.001499</td>\n",
              "      <td>0.034133</td>\n",
              "      <td>-0.021780</td>\n",
              "      <td>-0.016392</td>\n",
              "      <td>-0.011849</td>\n",
              "      <td>0.002482</td>\n",
              "      <td>0.056375</td>\n",
              "      <td>0.001530</td>\n",
              "      <td>-0.010999</td>\n",
              "      <td>-0.011286</td>\n",
              "      <td>-0.010887</td>\n",
              "      <td>-0.009808</td>\n",
              "      <td>0.008153</td>\n",
              "      <td>-0.024190</td>\n",
              "      <td>-0.004084</td>\n",
              "      <td>-0.012262</td>\n",
              "      <td>-0.010278</td>\n",
              "      <td>-0.012826</td>\n",
              "      <td>-0.004350</td>\n",
              "      <td>-0.014697</td>\n",
              "      <td>0.000923</td>\n",
              "      <td>-0.025255</td>\n",
              "      <td>-0.015953</td>\n",
              "      <td>0.000166</td>\n",
              "      <td>-0.009293</td>\n",
              "      <td>0.057209</td>\n",
              "      <td>0.023990</td>\n",
              "      <td>-0.007135</td>\n",
              "      <td>0.021114</td>\n",
              "      <td>0.014464</td>\n",
              "      <td>1.000000</td>\n",
              "      <td>0.013524</td>\n",
              "      <td>0.064547</td>\n",
              "      <td>0.043002</td>\n",
              "      <td>0.070358</td>\n",
              "    </tr>\n",
              "    <tr>\n",
              "      <th>capital_run_length_average</th>\n",
              "      <td>0.044779</td>\n",
              "      <td>0.029373</td>\n",
              "      <td>0.095684</td>\n",
              "      <td>0.005754</td>\n",
              "      <td>0.050832</td>\n",
              "      <td>-0.013559</td>\n",
              "      <td>0.039171</td>\n",
              "      <td>0.009974</td>\n",
              "      <td>0.110786</td>\n",
              "      <td>0.073125</td>\n",
              "      <td>0.031333</td>\n",
              "      <td>-0.014356</td>\n",
              "      <td>-0.015467</td>\n",
              "      <td>0.001904</td>\n",
              "      <td>0.016113</td>\n",
              "      <td>0.014831</td>\n",
              "      <td>0.036752</td>\n",
              "      <td>-0.011086</td>\n",
              "      <td>-0.036605</td>\n",
              "      <td>0.069437</td>\n",
              "      <td>0.041030</td>\n",
              "      <td>0.020853</td>\n",
              "      <td>0.006643</td>\n",
              "      <td>0.007630</td>\n",
              "      <td>-0.019048</td>\n",
              "      <td>-0.025907</td>\n",
              "      <td>-0.020186</td>\n",
              "      <td>-0.014956</td>\n",
              "      <td>-0.015840</td>\n",
              "      <td>-0.018111</td>\n",
              "      <td>-0.012520</td>\n",
              "      <td>-0.011592</td>\n",
              "      <td>-0.016303</td>\n",
              "      <td>-0.002357</td>\n",
              "      <td>-0.014842</td>\n",
              "      <td>-0.021246</td>\n",
              "      <td>-0.017146</td>\n",
              "      <td>-0.006304</td>\n",
              "      <td>-0.015144</td>\n",
              "      <td>-0.006748</td>\n",
              "      <td>-0.011069</td>\n",
              "      <td>-0.018799</td>\n",
              "      <td>-0.018953</td>\n",
              "      <td>-0.013842</td>\n",
              "      <td>-0.028763</td>\n",
              "      <td>-0.018993</td>\n",
              "      <td>-0.006782</td>\n",
              "      <td>-0.008793</td>\n",
              "      <td>0.002776</td>\n",
              "      <td>0.032717</td>\n",
              "      <td>-0.009486</td>\n",
              "      <td>0.052691</td>\n",
              "      <td>0.083632</td>\n",
              "      <td>0.013524</td>\n",
              "      <td>1.000000</td>\n",
              "      <td>0.499448</td>\n",
              "      <td>0.162626</td>\n",
              "      <td>0.110308</td>\n",
              "    </tr>\n",
              "    <tr>\n",
              "      <th>capital_run_length_longest</th>\n",
              "      <td>0.059132</td>\n",
              "      <td>0.053866</td>\n",
              "      <td>0.092511</td>\n",
              "      <td>0.022106</td>\n",
              "      <td>0.042985</td>\n",
              "      <td>0.065714</td>\n",
              "      <td>0.050828</td>\n",
              "      <td>0.035606</td>\n",
              "      <td>0.166304</td>\n",
              "      <td>0.101552</td>\n",
              "      <td>0.086213</td>\n",
              "      <td>0.013574</td>\n",
              "      <td>0.032940</td>\n",
              "      <td>0.055738</td>\n",
              "      <td>0.176839</td>\n",
              "      <td>0.025522</td>\n",
              "      <td>0.061007</td>\n",
              "      <td>0.055635</td>\n",
              "      <td>-0.002904</td>\n",
              "      <td>0.085391</td>\n",
              "      <td>0.087473</td>\n",
              "      <td>0.028515</td>\n",
              "      <td>0.107212</td>\n",
              "      <td>0.044178</td>\n",
              "      <td>-0.051514</td>\n",
              "      <td>-0.051927</td>\n",
              "      <td>-0.043752</td>\n",
              "      <td>-0.038707</td>\n",
              "      <td>-0.034469</td>\n",
              "      <td>-0.039250</td>\n",
              "      <td>-0.028483</td>\n",
              "      <td>-0.027915</td>\n",
              "      <td>-0.025788</td>\n",
              "      <td>-0.024176</td>\n",
              "      <td>-0.030364</td>\n",
              "      <td>-0.038749</td>\n",
              "      <td>-0.035219</td>\n",
              "      <td>-0.009784</td>\n",
              "      <td>-0.029973</td>\n",
              "      <td>-0.006548</td>\n",
              "      <td>-0.024582</td>\n",
              "      <td>-0.034914</td>\n",
              "      <td>-0.023828</td>\n",
              "      <td>-0.026464</td>\n",
              "      <td>-0.053552</td>\n",
              "      <td>-0.034362</td>\n",
              "      <td>-0.010182</td>\n",
              "      <td>-0.017370</td>\n",
              "      <td>0.042585</td>\n",
              "      <td>0.387592</td>\n",
              "      <td>-0.014621</td>\n",
              "      <td>0.072615</td>\n",
              "      <td>0.188870</td>\n",
              "      <td>0.064547</td>\n",
              "      <td>0.499448</td>\n",
              "      <td>1.000000</td>\n",
              "      <td>0.464514</td>\n",
              "      <td>0.203681</td>\n",
              "    </tr>\n",
              "    <tr>\n",
              "      <th>capital_run_length_total</th>\n",
              "      <td>0.084126</td>\n",
              "      <td>0.034601</td>\n",
              "      <td>0.051967</td>\n",
              "      <td>0.023784</td>\n",
              "      <td>-0.010498</td>\n",
              "      <td>0.063402</td>\n",
              "      <td>-0.017082</td>\n",
              "      <td>0.036894</td>\n",
              "      <td>0.233199</td>\n",
              "      <td>0.078587</td>\n",
              "      <td>0.122057</td>\n",
              "      <td>0.004599</td>\n",
              "      <td>0.090241</td>\n",
              "      <td>0.153939</td>\n",
              "      <td>0.132484</td>\n",
              "      <td>-0.003012</td>\n",
              "      <td>0.057109</td>\n",
              "      <td>0.030305</td>\n",
              "      <td>-0.027297</td>\n",
              "      <td>0.063523</td>\n",
              "      <td>0.047365</td>\n",
              "      <td>0.105217</td>\n",
              "      <td>0.157330</td>\n",
              "      <td>0.081323</td>\n",
              "      <td>-0.045405</td>\n",
              "      <td>-0.062775</td>\n",
              "      <td>-0.080952</td>\n",
              "      <td>-0.070812</td>\n",
              "      <td>-0.057906</td>\n",
              "      <td>-0.067066</td>\n",
              "      <td>-0.047254</td>\n",
              "      <td>-0.048249</td>\n",
              "      <td>0.007064</td>\n",
              "      <td>-0.045611</td>\n",
              "      <td>-0.047363</td>\n",
              "      <td>-0.047643</td>\n",
              "      <td>-0.005997</td>\n",
              "      <td>-0.015231</td>\n",
              "      <td>-0.052764</td>\n",
              "      <td>-0.029951</td>\n",
              "      <td>-0.026031</td>\n",
              "      <td>-0.059458</td>\n",
              "      <td>-0.044065</td>\n",
              "      <td>-0.043104</td>\n",
              "      <td>-0.101352</td>\n",
              "      <td>-0.049119</td>\n",
              "      <td>0.003557</td>\n",
              "      <td>-0.011919</td>\n",
              "      <td>0.055265</td>\n",
              "      <td>0.112664</td>\n",
              "      <td>0.007227</td>\n",
              "      <td>0.025253</td>\n",
              "      <td>0.205983</td>\n",
              "      <td>0.043002</td>\n",
              "      <td>0.162626</td>\n",
              "      <td>0.464514</td>\n",
              "      <td>1.000000</td>\n",
              "      <td>0.231719</td>\n",
              "    </tr>\n",
              "    <tr>\n",
              "      <th>spam_or_not</th>\n",
              "      <td>0.129321</td>\n",
              "      <td>0.100346</td>\n",
              "      <td>0.172193</td>\n",
              "      <td>0.056407</td>\n",
              "      <td>0.230117</td>\n",
              "      <td>0.212455</td>\n",
              "      <td>0.334605</td>\n",
              "      <td>0.200780</td>\n",
              "      <td>0.221591</td>\n",
              "      <td>0.131822</td>\n",
              "      <td>0.272593</td>\n",
              "      <td>-0.014633</td>\n",
              "      <td>0.118139</td>\n",
              "      <td>0.053595</td>\n",
              "      <td>0.183936</td>\n",
              "      <td>0.279287</td>\n",
              "      <td>0.260919</td>\n",
              "      <td>0.187853</td>\n",
              "      <td>0.256254</td>\n",
              "      <td>0.186157</td>\n",
              "      <td>0.394426</td>\n",
              "      <td>0.093780</td>\n",
              "      <td>0.325861</td>\n",
              "      <td>0.205145</td>\n",
              "      <td>-0.269977</td>\n",
              "      <td>-0.242367</td>\n",
              "      <td>-0.168895</td>\n",
              "      <td>-0.164688</td>\n",
              "      <td>-0.137889</td>\n",
              "      <td>-0.180603</td>\n",
              "      <td>-0.130740</td>\n",
              "      <td>-0.120119</td>\n",
              "      <td>-0.123995</td>\n",
              "      <td>-0.118350</td>\n",
              "      <td>-0.154723</td>\n",
              "      <td>-0.145308</td>\n",
              "      <td>-0.201537</td>\n",
              "      <td>-0.034263</td>\n",
              "      <td>-0.129352</td>\n",
              "      <td>-0.061944</td>\n",
              "      <td>-0.105901</td>\n",
              "      <td>-0.142787</td>\n",
              "      <td>-0.146028</td>\n",
              "      <td>-0.099385</td>\n",
              "      <td>-0.152835</td>\n",
              "      <td>-0.152774</td>\n",
              "      <td>-0.046468</td>\n",
              "      <td>-0.089170</td>\n",
              "      <td>-0.067090</td>\n",
              "      <td>-0.106442</td>\n",
              "      <td>-0.070362</td>\n",
              "      <td>0.233692</td>\n",
              "      <td>0.326758</td>\n",
              "      <td>0.070358</td>\n",
              "      <td>0.110308</td>\n",
              "      <td>0.203681</td>\n",
              "      <td>0.231719</td>\n",
              "      <td>1.000000</td>\n",
              "    </tr>\n",
              "  </tbody>\n",
              "</table>\n",
              "</div>"
            ],
            "text/plain": [
              "                            word_freq_make  ...  spam_or_not\n",
              "word_freq_make                    1.000000  ...     0.129321\n",
              "word_freq_address                 0.034114  ...     0.100346\n",
              "word_freq_all                     0.063267  ...     0.172193\n",
              "word_freq_3d                      0.005384  ...     0.056407\n",
              "word_freq_our                     0.021740  ...     0.230117\n",
              "word_freq_over                    0.055040  ...     0.212455\n",
              "word_freq_remove                  0.011037  ...     0.334605\n",
              "word_freq_internet               -0.004392  ...     0.200780\n",
              "word_freq_order                   0.103818  ...     0.221591\n",
              "word_freq_mail                    0.040799  ...     0.131822\n",
              "word_freq_receive                 0.063007  ...     0.272593\n",
              "word_freq_will                    0.075919  ...    -0.014633\n",
              "word_freq_people                  0.061960  ...     0.118139\n",
              "word_freq_report                  0.032249  ...     0.053595\n",
              "word_freq_addresses               0.022439  ...     0.183936\n",
              "word_freq_free                    0.065451  ...     0.279287\n",
              "word_freq_business                0.081447  ...     0.260919\n",
              "word_freq_email                   0.051765  ...     0.187853\n",
              "word_freq_you                     0.120575  ...     0.256254\n",
              "word_freq_credit                  0.020910  ...     0.186157\n",
              "word_freq_your                    0.121471  ...     0.394426\n",
              "word_freq_font                   -0.025585  ...     0.093780\n",
              "word_freq_000                     0.126457  ...     0.325861\n",
              "word_freq_money                   0.205676  ...     0.205145\n",
              "word_freq_hp                     -0.075085  ...    -0.269977\n",
              "word_freq_hpl                    -0.063494  ...    -0.242367\n",
              "word_freq_george                 -0.048104  ...    -0.168895\n",
              "word_freq_650                    -0.050075  ...    -0.164688\n",
              "word_freq_lab                    -0.041556  ...    -0.137889\n",
              "word_freq_labs                   -0.054262  ...    -0.180603\n",
              "word_freq_telnet                 -0.038913  ...    -0.130740\n",
              "word_freq_857                    -0.031647  ...    -0.120119\n",
              "word_freq_data                   -0.042731  ...    -0.123995\n",
              "word_freq_415                    -0.026335  ...    -0.118350\n",
              "word_freq_85                     -0.046101  ...    -0.154723\n",
              "word_freq_technology             -0.057318  ...    -0.145308\n",
              "word_freq_1999                   -0.058801  ...    -0.201537\n",
              "word_freq_parts                  -0.008632  ...    -0.034263\n",
              "word_freq_pm                     -0.011215  ...    -0.129352\n",
              "word_freq_direct                 -0.035484  ...    -0.061944\n",
              "word_freq_cs                     -0.005291  ...    -0.105901\n",
              "word_freq_meeting                -0.026562  ...    -0.142787\n",
              "word_freq_original               -0.025621  ...    -0.146028\n",
              "word_freq_project                -0.022991  ...    -0.099385\n",
              "word_freq_re                     -0.037874  ...    -0.152835\n",
              "word_freq_edu                    -0.034472  ...    -0.152774\n",
              "word_freq_table                  -0.000956  ...    -0.046468\n",
              "word_freq_conference             -0.018914  ...    -0.089170\n",
              "char_freq_;                      -0.027262  ...    -0.067090\n",
              "char_freq_(                      -0.019680  ...    -0.106442\n",
              "char_freq_[                      -0.034798  ...    -0.070362\n",
              "char_freq_!                       0.059236  ...     0.233692\n",
              "char_freq_$                       0.101934  ...     0.326758\n",
              "char_freq_#                      -0.009158  ...     0.070358\n",
              "capital_run_length_average        0.044779  ...     0.110308\n",
              "capital_run_length_longest        0.059132  ...     0.203681\n",
              "capital_run_length_total          0.084126  ...     0.231719\n",
              "spam_or_not                       0.129321  ...     1.000000\n",
              "\n",
              "[58 rows x 58 columns]"
            ]
          },
          "metadata": {
            "tags": []
          },
          "execution_count": 93
        }
      ]
    },
    {
      "cell_type": "markdown",
      "metadata": {
        "id": "UZNe1DWBL9Ll"
      },
      "source": [
        "> *No alarming correlation was found.*"
      ]
    },
    {
      "cell_type": "markdown",
      "metadata": {
        "id": "vTbdjSrhVIiT"
      },
      "source": [
        "## 6. Multinomial Naive Bayes Classifier"
      ]
    },
    {
      "cell_type": "markdown",
      "metadata": {
        "id": "5BhuVc62q5Cd"
      },
      "source": [
        "### **Baseline: without cross validation**"
      ]
    },
    {
      "cell_type": "code",
      "metadata": {
        "id": "PJLZaRzJXJ3w",
        "colab": {
          "base_uri": "https://localhost:8080/"
        },
        "outputId": "ffabe4a0-ade4-4c80-fd85-40dcc1d84df2"
      },
      "source": [
        "#splitting the dataset into train and test sets\n",
        "x = spam.drop(['spam_or_not'],1)\n",
        "y = spam['spam_or_not'].values\n",
        "from sklearn.model_selection import train_test_split\n",
        "x_train,x_test,y_train,y_test = train_test_split(x,y,test_size=0.2,random_state=42)\n",
        "#using Multinomial Naive bayes\n",
        "from sklearn.naive_bayes import MultinomialNB\n",
        "model = MultinomialNB().fit(x_train,y_train)\n",
        "#prediction and evaluation\n",
        "from sklearn.metrics import accuracy_score,confusion_matrix\n",
        "y_pred = model.predict(x_test)\n",
        "print('Accuracy {:2f}%'.format(accuracy_score(y_test,y_pred)*100))\n",
        "print(confusion_matrix(y_test,y_pred))"
      ],
      "execution_count": 96,
      "outputs": [
        {
          "output_type": "stream",
          "text": [
            "Accuracy 81.472684%\n",
            "[[419  64]\n",
            " [ 92 267]]\n"
          ],
          "name": "stdout"
        }
      ]
    },
    {
      "cell_type": "markdown",
      "metadata": {
        "id": "nXTFfzonqUb4"
      },
      "source": [
        "> Accuracy score attained is 81.47%, with 419 true positives, 64 false negatives, 92 false positives and 267 true negatives"
      ]
    },
    {
      "cell_type": "markdown",
      "metadata": {
        "id": "W54-5-KarAT4"
      },
      "source": [
        "### **Cross validation**"
      ]
    },
    {
      "cell_type": "code",
      "metadata": {
        "colab": {
          "base_uri": "https://localhost:8080/"
        },
        "id": "ssQESYxj68-U",
        "outputId": "144af73f-6e5e-4970-be3a-e71b67e49d29"
      },
      "source": [
        "from sklearn.model_selection import cross_val_score\n",
        "accuracy = cross_val_score(estimator = model, X = x_train, y = y_train, cv = 10)\n",
        "print(\"Accuracy {:.2f}%\".format(accuracy.mean()*100))\n",
        "# Getting the variance in the accuracies so we will print the sd\n",
        "print(\"\\nStandard Deviation {:.2f}\".format(accuracy.std()))\n"
      ],
      "execution_count": null,
      "outputs": [
        {
          "output_type": "stream",
          "text": [
            "Accuracy 78.71%\n",
            "\n",
            "Standard Deviation 0.02\n"
          ],
          "name": "stdout"
        }
      ]
    },
    {
      "cell_type": "markdown",
      "metadata": {
        "id": "c_mRpKGa7to_"
      },
      "source": [
        "> *Mean accuracy score for the 10 kfolds is 78.71% with a standard deviation of +/- 0.02*"
      ]
    },
    {
      "cell_type": "code",
      "metadata": {
        "colab": {
          "base_uri": "https://localhost:8080/"
        },
        "id": "kZeRv387qUFv",
        "outputId": "95d10e7d-5b6d-400e-ab7d-4600f2845136"
      },
      "source": [
        "#finding parameters to optimize\n",
        "MultinomialNB()"
      ],
      "execution_count": null,
      "outputs": [
        {
          "output_type": "execute_result",
          "data": {
            "text/plain": [
              "MultinomialNB(alpha=1.0, class_prior=None, fit_prior=True)"
            ]
          },
          "metadata": {
            "tags": []
          },
          "execution_count": 20
        }
      ]
    },
    {
      "cell_type": "markdown",
      "metadata": {
        "id": "qLV9OQFZrZrz"
      },
      "source": [
        "> *Parameters to search using GridSearch Cross Validation are: alpha, class_prior and fit_prior*"
      ]
    },
    {
      "cell_type": "code",
      "metadata": {
        "colab": {
          "base_uri": "https://localhost:8080/"
        },
        "id": "YDvC0J5qxVL2",
        "outputId": "421f356a-6edd-4b6d-9282-a0db7d56b262"
      },
      "source": [
        "alpha = [1,5,10,15,20]#a list of possible alphas\n",
        "fit_prior = [True,False]#to learn or not to learn prior class probabilities\n",
        "params = dict(alpha=alpha,fit_prior=fit_prior)\n",
        "gridsearch = GridSearchCV(param_grid=params,estimator=model,cv=10,n_jobs=-1,scoring='accuracy')\n",
        "gridsearch.fit(x_train,y_train)\n",
        "#gridsearch.best_params_"
      ],
      "execution_count": null,
      "outputs": [
        {
          "output_type": "execute_result",
          "data": {
            "text/plain": [
              "GridSearchCV(cv=10, error_score=nan,\n",
              "             estimator=MultinomialNB(alpha=1.0, class_prior=None,\n",
              "                                     fit_prior=True),\n",
              "             iid='deprecated', n_jobs=-1,\n",
              "             param_grid={'alpha': [1, 5, 10, 15, 20],\n",
              "                         'fit_prior': [True, False]},\n",
              "             pre_dispatch='2*n_jobs', refit=True, return_train_score=False,\n",
              "             scoring='accuracy', verbose=0)"
            ]
          },
          "metadata": {
            "tags": []
          },
          "execution_count": 59
        }
      ]
    },
    {
      "cell_type": "code",
      "metadata": {
        "colab": {
          "base_uri": "https://localhost:8080/"
        },
        "id": "wvXZ0f_6-BJn",
        "outputId": "89855634-7955-40e9-b2e7-4d71f043dc24"
      },
      "source": [
        "#getting the best accuracy score and best parameters\n",
        "print('Best accuracy:{:2f}%'.format((gridsearch.best_score_)*100))\n",
        "print('Best parameters ',gridsearch.best_params_)"
      ],
      "execution_count": null,
      "outputs": [
        {
          "output_type": "stream",
          "text": [
            "Best accuracy:78.913911%\n",
            "Best parameters  {'alpha': 1, 'fit_prior': False}\n"
          ],
          "name": "stdout"
        }
      ]
    },
    {
      "cell_type": "markdown",
      "metadata": {
        "id": "2HV4iO2YPVLy"
      },
      "source": [
        ">  *After a grid search the best hyperparameters are: alpha set at 1 and fit_prior set at False*"
      ]
    },
    {
      "cell_type": "markdown",
      "metadata": {
        "id": "fYEVJSuw-rd7"
      },
      "source": [
        "###**With Cross Validation**"
      ]
    },
    {
      "cell_type": "markdown",
      "metadata": {
        "id": "bQdmhDwl-4sC"
      },
      "source": [
        "### **80/20 split**"
      ]
    },
    {
      "cell_type": "code",
      "metadata": {
        "colab": {
          "base_uri": "https://localhost:8080/"
        },
        "id": "LwuF7DG4-3PL",
        "outputId": "fa066401-e7ef-4f28-afbc-70834a779e14"
      },
      "source": [
        "#splitting the data\n",
        "x_train,x_test,y_train,y_test = train_test_split(x,y,test_size=0.2,random_state=42)\n",
        "model2 = MultinomialNB(alpha=1,fit_prior=False)\n",
        "model2.fit(x_train,y_train)\n",
        "#evaluation and performance\n",
        "y_pred = model2.predict(x_test)\n",
        "print('Accuracy:{:2f}%'.format(accuracy_score(y_test,y_pred)*100))\n",
        "print('Confusion matrix: ',confusion_matrix(y_test,y_pred))"
      ],
      "execution_count": null,
      "outputs": [
        {
          "output_type": "stream",
          "text": [
            "Accuracy:81.116390%\n",
            "Confusion matrix:  [[415  68]\n",
            " [ 91 268]]\n"
          ],
          "name": "stdout"
        }
      ]
    },
    {
      "cell_type": "markdown",
      "metadata": {
        "id": "t0BNP16P_vQZ"
      },
      "source": [
        "> Results show that the level of accuracy attained is approx 81.11%, which is lower than without cross validation but higher than the mean of the 10 kfolds cross validation scores.\n",
        "From the confusion matrix we get\n",
        "* TN: 415\n",
        "* FP: 68\n",
        "* FN: 91\n",
        "* TP: 268"
      ]
    },
    {
      "cell_type": "markdown",
      "metadata": {
        "id": "54vRa5K6Agva"
      },
      "source": [
        "###**70/30 split**"
      ]
    },
    {
      "cell_type": "code",
      "metadata": {
        "colab": {
          "base_uri": "https://localhost:8080/"
        },
        "id": "VrlFUrSeAf3q",
        "outputId": "004d6a55-65e1-4867-b4e1-1416f284af5d"
      },
      "source": [
        "x_train,x_test,y_train,y_test = train_test_split(x,y,random_state=42,test_size=0.3)\n",
        "model3 = MultinomialNB(alpha=1,fit_prior=False)\n",
        "model3.fit(x_train,y_train)\n",
        "#evaluation and performance\n",
        "y_pred = model3.predict(x_test)\n",
        "print('Accuracy:{:2f}%'.format(accuracy_score(y_test,y_pred)*100))\n",
        "print('Confusion matrix: ',confusion_matrix(y_test,y_pred))"
      ],
      "execution_count": null,
      "outputs": [
        {
          "output_type": "stream",
          "text": [
            "Accuracy:80.680918%\n",
            "Confusion matrix:  [[634 106]\n",
            " [138 385]]\n"
          ],
          "name": "stdout"
        }
      ]
    },
    {
      "cell_type": "markdown",
      "metadata": {
        "id": "7f3RquzYBKDR"
      },
      "source": [
        "> The results deduce that the level of accuracy attained is approx 80.68%, which is lower than without cross validation and the mean of the 10 kfolds cross validation scores.\n",
        "From the confusion matrix we get\n",
        "* TN: 634\n",
        "* FP: 106\n",
        "* FN: 138\n",
        "* TP: 385"
      ]
    },
    {
      "cell_type": "markdown",
      "metadata": {
        "id": "Q8ByoAaWBK25"
      },
      "source": [
        "### **60/40 split**"
      ]
    },
    {
      "cell_type": "code",
      "metadata": {
        "colab": {
          "base_uri": "https://localhost:8080/"
        },
        "id": "tqpU1KafBTHf",
        "outputId": "21f24467-dbd3-4344-e7a2-aea2009d964d"
      },
      "source": [
        "x_train,x_test,y_train,y_test = train_test_split(x,y,random_state=42,test_size=0.4)\n",
        "model4 = MultinomialNB(alpha=1,fit_prior=False)\n",
        "model4.fit(x_train,y_train)\n",
        "#evaluation and performance\n",
        "y_pred = model3.predict(x_test)\n",
        "print('Accuracy:{:2f}%'.format(accuracy_score(y_test,y_pred)*100))\n",
        "print('Confusion matrix: ',confusion_matrix(y_test,y_pred))"
      ],
      "execution_count": null,
      "outputs": [
        {
          "output_type": "stream",
          "text": [
            "Accuracy:79.572447%\n",
            "Confusion matrix:  [[838 150]\n",
            " [194 502]]\n"
          ],
          "name": "stdout"
        }
      ]
    },
    {
      "cell_type": "markdown",
      "metadata": {
        "id": "FFkomsV9B76g"
      },
      "source": [
        "> Results show that the level of accuracy attained is approx 79.57%, which is lower than without cross validation but slightly higher than the mean of the 10 kfolds cross validation scores.\n",
        "From the confusion matrix we get\n",
        "* TN: 838\n",
        "* FP: 150\n",
        "* FN: 194\n",
        "* TP: 502"
      ]
    },
    {
      "cell_type": "markdown",
      "metadata": {
        "id": "lQ2G4ZPDVOXE"
      },
      "source": [
        "## 7. Challenging the solution"
      ]
    },
    {
      "cell_type": "markdown",
      "metadata": {
        "id": "HBITIwvNF3FN"
      },
      "source": [
        "##**Optimization technique: Dropping highly correlated features**"
      ]
    },
    {
      "cell_type": "code",
      "metadata": {
        "id": "j3x3SXZ4XT_L"
      },
      "source": [
        "#dropping highly correlated variables\n",
        "corr = spam.corr().abs()\n",
        "upper = corr.where(np.triu(np.ones(corr.shape), k=1).astype(np.bool))\n",
        "dropped_columns = [col for col in upper.columns if any(upper[col]>0.95)]\n",
        "#dropping the features\n",
        "spam =spam.drop(spam[dropped_columns],axis=1)"
      ],
      "execution_count": 97,
      "outputs": []
    },
    {
      "cell_type": "markdown",
      "metadata": {
        "id": "T8mNXTrifu0z"
      },
      "source": [
        "##**Normalizing the values within the dataset**"
      ]
    },
    {
      "cell_type": "code",
      "metadata": {
        "colab": {
          "base_uri": "https://localhost:8080/"
        },
        "id": "aZQNRYcQfE5p",
        "outputId": "937217ad-8392-4335-9906-85d4012949a9"
      },
      "source": [
        "#scaling the observations to have the sum of their lengths=1\n",
        "from sklearn.preprocessing import Normalizer\n",
        "normalize = Normalizer(norm='l2')\n",
        "x = spam.drop(['spam_or_not'],1)\n",
        "y = spam['spam_or_not'].values\n",
        "normalize.transform(x)"
      ],
      "execution_count": 98,
      "outputs": [
        {
          "output_type": "execute_result",
          "data": {
            "text/plain": [
              "array([[2.03297105e-04, 2.71062806e-04, 4.84040726e-04, ...,\n",
              "        4.95076854e-03, 9.77762266e-02, 9.95187732e-01],\n",
              "       [2.59683978e-05, 0.00000000e+00, 3.07292708e-04, ...,\n",
              "        4.25059392e-03, 2.09911216e-01, 9.77710178e-01],\n",
              "       [0.00000000e+00, 0.00000000e+00, 0.00000000e+00, ...,\n",
              "        1.81192865e-02, 2.04911354e-01, 9.78451717e-01],\n",
              "       ...,\n",
              "       [2.53812946e-03, 0.00000000e+00, 2.53812946e-03, ...,\n",
              "        1.18784459e-02, 5.07625892e-02, 9.98330921e-01],\n",
              "       [1.22759766e-02, 0.00000000e+00, 0.00000000e+00, ...,\n",
              "        1.46672345e-02, 6.39373781e-02, 9.97423098e-01],\n",
              "       [0.00000000e+00, 0.00000000e+00, 1.59858723e-02, ...,\n",
              "        3.07420620e-02, 1.22968248e-01, 9.83745986e-01]])"
            ]
          },
          "metadata": {
            "tags": []
          },
          "execution_count": 98
        }
      ]
    },
    {
      "cell_type": "markdown",
      "metadata": {
        "id": "x8A6pllyeiXJ"
      },
      "source": [
        "### **Model prediction after optimization**"
      ]
    },
    {
      "cell_type": "code",
      "metadata": {
        "colab": {
          "base_uri": "https://localhost:8080/"
        },
        "id": "bOqNlqfthO2y",
        "outputId": "f392f1a6-642f-41df-ae03-3d62fba4e4b0"
      },
      "source": [
        "#splitting the dataset using the 80-20 split as it achieved the highest score after cross validation\n",
        "from sklearn.model_selection import train_test_split\n",
        "x_train,x_test,y_train,y_test = train_test_split(x,y,test_size=0.2,random_state=42)\n",
        "from sklearn.naive_bayes import MultinomialNB\n",
        "model5 = MultinomialNB(alpha=1,fit_prior=False)\n",
        "model5.fit(x_train,y_train)\n",
        "#evaluation and prediction\n",
        "from sklearn.metrics import accuracy_score,confusion_matrix\n",
        "y_pred = model5.predict(x_test)\n",
        "print('Accuracy: {:2f}%'.format(accuracy_score(y_test,y_pred)*100))\n",
        "print('Confusion matrix: ',confusion_matrix(y_test,y_pred))"
      ],
      "execution_count": null,
      "outputs": [
        {
          "output_type": "stream",
          "text": [
            "Accuracy: 81.116390%\n",
            "Confusion matrix:  [[415  68]\n",
            " [ 91 268]]\n"
          ],
          "name": "stdout"
        }
      ]
    },
    {
      "cell_type": "markdown",
      "metadata": {
        "id": "ZkAO0Uxvi8Lt"
      },
      "source": [
        "After normalizing and dropping highly correlated features, the accuracy score and the confusion matrix attained has achieved the same results of ~ 81.12%"
      ]
    },
    {
      "cell_type": "markdown",
      "metadata": {
        "id": "pqbbSCx7jc2w"
      },
      "source": [
        "> * Overall, 80-20 split without cross validation attained the highest score of approx 81.47%.\n",
        "* After dividing the dataset into 10 kfolds, the mean accuracy score attained was 78.71%.\n",
        "* After cross validation, and attaining the best hyperparameters the split that attained the highest score was 80 - 20 given that only the fit_prior changed from True to False\n",
        "* Optimizing the features using normalization,doing a grid search and dropping highly correlated features in this case didn't increase the accuracy of the model nor reduce the number of false positives (since the aim is correctly classifying the mails that are considered as spam)"
      ]
    },
    {
      "cell_type": "markdown",
      "metadata": {
        "id": "xrmHVMVsVS--"
      },
      "source": [
        "## 8. Follow up questions"
      ]
    },
    {
      "cell_type": "markdown",
      "metadata": {
        "id": "HPQviDmNtta8"
      },
      "source": [
        "### a). Did we have the right data?"
      ]
    },
    {
      "cell_type": "markdown",
      "metadata": {
        "id": "0qVbzQmmlz9y"
      },
      "source": [
        "> *The accuracy scores affirms that we had the right dataset.*"
      ]
    },
    {
      "cell_type": "markdown",
      "metadata": {
        "id": "qjFHK1CKty7o"
      },
      "source": [
        "### b). Do we need other data to answer our question?"
      ]
    },
    {
      "cell_type": "markdown",
      "metadata": {
        "id": "L5Yzeljkl9Zr"
      },
      "source": [
        "> *Dataset was enough to form an analysis, the only challenge was some  of the features  were a bit unclear on what they represented.*"
      ]
    },
    {
      "cell_type": "markdown",
      "metadata": {
        "id": "HSsicSdvt4Zs"
      },
      "source": [
        "### c). Did we have the right question?"
      ]
    },
    {
      "cell_type": "markdown",
      "metadata": {
        "id": "h5ZfR5s0mERV"
      },
      "source": [
        "> *We had the right question, the features within the dataset give insights if the mail was spam or solicited mail.*"
      ]
    }
  ]
}